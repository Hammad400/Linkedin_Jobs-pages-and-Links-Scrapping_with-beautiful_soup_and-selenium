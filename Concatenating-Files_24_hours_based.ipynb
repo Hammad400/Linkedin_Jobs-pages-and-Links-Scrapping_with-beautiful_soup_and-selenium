{
 "cells": [
  {
   "cell_type": "code",
   "execution_count": 1,
   "id": "f9c44706-1bdb-4d5b-b70d-78e27bb9b552",
   "metadata": {},
   "outputs": [],
   "source": [
    "import os\n",
    "import pandas as pd"
   ]
  },
  {
   "cell_type": "code",
   "execution_count": 2,
   "id": "868caaa8-4508-42b0-a5d8-98f4675ec616",
   "metadata": {},
   "outputs": [],
   "source": [
    "path=\"Excel_files/10th week 28 Nov -30 Nov/Linkedin_jobs_of_30_november_by_weekly_time_33_pages\""
   ]
  },
  {
   "cell_type": "code",
   "execution_count": 3,
   "id": "edd2f6b4-005a-41b8-abbe-8ba4f399692a",
   "metadata": {},
   "outputs": [
    {
     "data": {
      "text/plain": [
       "['linkedin_jobs_page-10__01-12-2023--09-43-AM__25.csv',\n",
       " 'linkedin_jobs_page-11__01-12-2023--09-43-AM__25.csv',\n",
       " 'linkedin_jobs_page-12__01-12-2023--09-44-AM__25.csv',\n",
       " 'linkedin_jobs_page-13__01-12-2023--09-44-AM__25.csv',\n",
       " 'linkedin_jobs_page-14__01-12-2023--09-44-AM__25.csv',\n",
       " 'linkedin_jobs_page-15__01-12-2023--09-44-AM__25.csv',\n",
       " 'linkedin_jobs_page-16__01-12-2023--09-44-AM__25.csv',\n",
       " 'linkedin_jobs_page-17__01-12-2023--09-45-AM__25.csv',\n",
       " 'linkedin_jobs_page-18__01-12-2023--09-45-AM__25.csv',\n",
       " 'linkedin_jobs_page-19__01-12-2023--09-45-AM__25.csv',\n",
       " 'linkedin_jobs_page-1__01-12-2023--09-41-AM__25.csv',\n",
       " 'linkedin_jobs_page-20__01-12-2023--09-45-AM__25.csv',\n",
       " 'linkedin_jobs_page-21__01-12-2023--09-46-AM__25.csv',\n",
       " 'linkedin_jobs_page-22__01-12-2023--09-46-AM__25.csv',\n",
       " 'linkedin_jobs_page-23__01-12-2023--09-46-AM__25.csv',\n",
       " 'linkedin_jobs_page-24__01-12-2023--09-46-AM__25.csv',\n",
       " 'linkedin_jobs_page-25__01-12-2023--09-46-AM__25.csv',\n",
       " 'linkedin_jobs_page-26__01-12-2023--09-47-AM__25.csv',\n",
       " 'linkedin_jobs_page-27__01-12-2023--09-47-AM__25.csv',\n",
       " 'linkedin_jobs_page-28__01-12-2023--09-47-AM__25.csv',\n",
       " 'linkedin_jobs_page-29__01-12-2023--09-47-AM__25.csv',\n",
       " 'linkedin_jobs_page-2__01-12-2023--09-41-AM__25.csv',\n",
       " 'linkedin_jobs_page-30__01-12-2023--09-48-AM__25.csv',\n",
       " 'linkedin_jobs_page-31__01-12-2023--09-48-AM__22.csv',\n",
       " 'linkedin_jobs_page-32__01-12-2023--09-48-AM__3.csv',\n",
       " 'linkedin_jobs_page-33__01-12-2023--09-48-AM__5.csv',\n",
       " 'linkedin_jobs_page-3__01-12-2023--09-42-AM__25.csv',\n",
       " 'linkedin_jobs_page-4__01-12-2023--09-42-AM__25.csv',\n",
       " 'linkedin_jobs_page-5__01-12-2023--09-42-AM__25.csv',\n",
       " 'linkedin_jobs_page-6__01-12-2023--09-42-AM__25.csv',\n",
       " 'linkedin_jobs_page-7__01-12-2023--09-42-AM__25.csv',\n",
       " 'linkedin_jobs_page-8__01-12-2023--09-43-AM__25.csv',\n",
       " 'linkedin_jobs_page-9__01-12-2023--09-43-AM__25.csv']"
      ]
     },
     "execution_count": 3,
     "metadata": {},
     "output_type": "execute_result"
    }
   ],
   "source": [
    "dir_list = os.listdir(path)\n",
    "dir_list"
   ]
  },
  {
   "cell_type": "code",
   "execution_count": 4,
   "id": "13f77b33-95be-425d-93a9-3e8e8f5331f7",
   "metadata": {},
   "outputs": [
    {
     "data": {
      "text/plain": [
       "33"
      ]
     },
     "execution_count": 4,
     "metadata": {},
     "output_type": "execute_result"
    }
   ],
   "source": [
    "len(dir_list)"
   ]
  },
  {
   "cell_type": "code",
   "execution_count": 5,
   "id": "b5479ca0-82f5-46e6-b66c-1c3a6946afbe",
   "metadata": {},
   "outputs": [
    {
     "data": {
      "text/plain": [
       "['linkedin_jobs_page-1__01-12-2023--09-41-AM__25.csv',\n",
       " 'linkedin_jobs_page-2__01-12-2023--09-41-AM__25.csv',\n",
       " 'linkedin_jobs_page-3__01-12-2023--09-42-AM__25.csv',\n",
       " 'linkedin_jobs_page-4__01-12-2023--09-42-AM__25.csv',\n",
       " 'linkedin_jobs_page-5__01-12-2023--09-42-AM__25.csv',\n",
       " 'linkedin_jobs_page-6__01-12-2023--09-42-AM__25.csv',\n",
       " 'linkedin_jobs_page-7__01-12-2023--09-42-AM__25.csv',\n",
       " 'linkedin_jobs_page-8__01-12-2023--09-43-AM__25.csv',\n",
       " 'linkedin_jobs_page-9__01-12-2023--09-43-AM__25.csv',\n",
       " 'linkedin_jobs_page-10__01-12-2023--09-43-AM__25.csv',\n",
       " 'linkedin_jobs_page-11__01-12-2023--09-43-AM__25.csv',\n",
       " 'linkedin_jobs_page-12__01-12-2023--09-44-AM__25.csv',\n",
       " 'linkedin_jobs_page-13__01-12-2023--09-44-AM__25.csv',\n",
       " 'linkedin_jobs_page-14__01-12-2023--09-44-AM__25.csv',\n",
       " 'linkedin_jobs_page-15__01-12-2023--09-44-AM__25.csv',\n",
       " 'linkedin_jobs_page-16__01-12-2023--09-44-AM__25.csv',\n",
       " 'linkedin_jobs_page-17__01-12-2023--09-45-AM__25.csv',\n",
       " 'linkedin_jobs_page-18__01-12-2023--09-45-AM__25.csv',\n",
       " 'linkedin_jobs_page-19__01-12-2023--09-45-AM__25.csv',\n",
       " 'linkedin_jobs_page-20__01-12-2023--09-45-AM__25.csv',\n",
       " 'linkedin_jobs_page-21__01-12-2023--09-46-AM__25.csv',\n",
       " 'linkedin_jobs_page-22__01-12-2023--09-46-AM__25.csv',\n",
       " 'linkedin_jobs_page-23__01-12-2023--09-46-AM__25.csv',\n",
       " 'linkedin_jobs_page-24__01-12-2023--09-46-AM__25.csv',\n",
       " 'linkedin_jobs_page-25__01-12-2023--09-46-AM__25.csv',\n",
       " 'linkedin_jobs_page-26__01-12-2023--09-47-AM__25.csv',\n",
       " 'linkedin_jobs_page-27__01-12-2023--09-47-AM__25.csv',\n",
       " 'linkedin_jobs_page-28__01-12-2023--09-47-AM__25.csv',\n",
       " 'linkedin_jobs_page-29__01-12-2023--09-47-AM__25.csv',\n",
       " 'linkedin_jobs_page-30__01-12-2023--09-48-AM__25.csv',\n",
       " 'linkedin_jobs_page-31__01-12-2023--09-48-AM__22.csv',\n",
       " 'linkedin_jobs_page-32__01-12-2023--09-48-AM__3.csv',\n",
       " 'linkedin_jobs_page-33__01-12-2023--09-48-AM__5.csv']"
      ]
     },
     "execution_count": 5,
     "metadata": {},
     "output_type": "execute_result"
    }
   ],
   "source": [
    "file_names=[]\n",
    "for i in range(1,len(dir_list)+1):\n",
    "    for file in dir_list:\n",
    "        if int(file.split('page')[1].split('_')[0].strip('-'))==i:\n",
    "            file_names.append(file)\n",
    "file_names    "
   ]
  },
  {
   "cell_type": "code",
   "execution_count": 6,
   "id": "68769be6-78cd-4e62-a70b-a4b70a8bc5c5",
   "metadata": {},
   "outputs": [],
   "source": [
    "df_concat=None\n",
    "for file in file_names:\n",
    "    df=pd.read_csv(path+'/'+file)\n",
    "    df_concat=pd.concat([df_concat,df],ignore_index=True)    "
   ]
  },
  {
   "cell_type": "code",
   "execution_count": 7,
   "id": "68e7c70d-4b04-4985-ac76-7c1b370a2972",
   "metadata": {},
   "outputs": [
    {
     "data": {
      "text/html": [
       "<div>\n",
       "<style scoped>\n",
       "    .dataframe tbody tr th:only-of-type {\n",
       "        vertical-align: middle;\n",
       "    }\n",
       "\n",
       "    .dataframe tbody tr th {\n",
       "        vertical-align: top;\n",
       "    }\n",
       "\n",
       "    .dataframe thead th {\n",
       "        text-align: right;\n",
       "    }\n",
       "</style>\n",
       "<table border=\"1\" class=\"dataframe\">\n",
       "  <thead>\n",
       "    <tr style=\"text-align: right;\">\n",
       "      <th></th>\n",
       "      <th>Job Title</th>\n",
       "      <th>Job ID</th>\n",
       "      <th>Job Link</th>\n",
       "    </tr>\n",
       "  </thead>\n",
       "  <tbody>\n",
       "    <tr>\n",
       "      <th>0</th>\n",
       "      <td>Business Development Executive</td>\n",
       "      <td>3774715438</td>\n",
       "      <td>https://www.linkedin.com/jobs/view/3774715438/...</td>\n",
       "    </tr>\n",
       "    <tr>\n",
       "      <th>1</th>\n",
       "      <td>Business Development Executive</td>\n",
       "      <td>3773322698</td>\n",
       "      <td>https://www.linkedin.com/jobs/view/3773322698/...</td>\n",
       "    </tr>\n",
       "    <tr>\n",
       "      <th>2</th>\n",
       "      <td>Business Development Specialist</td>\n",
       "      <td>3766957851</td>\n",
       "      <td>https://www.linkedin.com/jobs/view/3766957851/...</td>\n",
       "    </tr>\n",
       "    <tr>\n",
       "      <th>3</th>\n",
       "      <td>Product Hunting Expert</td>\n",
       "      <td>3768210182</td>\n",
       "      <td>https://www.linkedin.com/jobs/view/3768210182/...</td>\n",
       "    </tr>\n",
       "    <tr>\n",
       "      <th>4</th>\n",
       "      <td>Remote Work - (Data Entry Clerk) Work From Home</td>\n",
       "      <td>3772950502</td>\n",
       "      <td>https://www.linkedin.com/jobs/view/3772950502/...</td>\n",
       "    </tr>\n",
       "    <tr>\n",
       "      <th>...</th>\n",
       "      <td>...</td>\n",
       "      <td>...</td>\n",
       "      <td>...</td>\n",
       "    </tr>\n",
       "    <tr>\n",
       "      <th>775</th>\n",
       "      <td>Associate Merchandise Planner</td>\n",
       "      <td>3772813087</td>\n",
       "      <td>https://www.linkedin.com/jobs/view/3772813087/...</td>\n",
       "    </tr>\n",
       "    <tr>\n",
       "      <th>776</th>\n",
       "      <td>Odoo Developer</td>\n",
       "      <td>3774389606</td>\n",
       "      <td>https://www.linkedin.com/jobs/view/3774389606/...</td>\n",
       "    </tr>\n",
       "    <tr>\n",
       "      <th>777</th>\n",
       "      <td>Bidder</td>\n",
       "      <td>3774752337</td>\n",
       "      <td>https://www.linkedin.com/jobs/view/3774752337/...</td>\n",
       "    </tr>\n",
       "    <tr>\n",
       "      <th>778</th>\n",
       "      <td>Customer Success Specialist</td>\n",
       "      <td>3714477401</td>\n",
       "      <td>https://www.linkedin.com/jobs/view/3714477401/...</td>\n",
       "    </tr>\n",
       "    <tr>\n",
       "      <th>779</th>\n",
       "      <td>Purchasing Officer</td>\n",
       "      <td>3775326075</td>\n",
       "      <td>https://www.linkedin.com/jobs/view/3775326075/...</td>\n",
       "    </tr>\n",
       "  </tbody>\n",
       "</table>\n",
       "<p>780 rows × 3 columns</p>\n",
       "</div>"
      ],
      "text/plain": [
       "                                           Job Title      Job ID  \\\n",
       "0                     Business Development Executive  3774715438   \n",
       "1                     Business Development Executive  3773322698   \n",
       "2                    Business Development Specialist  3766957851   \n",
       "3                             Product Hunting Expert  3768210182   \n",
       "4    Remote Work - (Data Entry Clerk) Work From Home  3772950502   \n",
       "..                                               ...         ...   \n",
       "775                    Associate Merchandise Planner  3772813087   \n",
       "776                                   Odoo Developer  3774389606   \n",
       "777                                           Bidder  3774752337   \n",
       "778                      Customer Success Specialist  3714477401   \n",
       "779                               Purchasing Officer  3775326075   \n",
       "\n",
       "                                              Job Link  \n",
       "0    https://www.linkedin.com/jobs/view/3774715438/...  \n",
       "1    https://www.linkedin.com/jobs/view/3773322698/...  \n",
       "2    https://www.linkedin.com/jobs/view/3766957851/...  \n",
       "3    https://www.linkedin.com/jobs/view/3768210182/...  \n",
       "4    https://www.linkedin.com/jobs/view/3772950502/...  \n",
       "..                                                 ...  \n",
       "775  https://www.linkedin.com/jobs/view/3772813087/...  \n",
       "776  https://www.linkedin.com/jobs/view/3774389606/...  \n",
       "777  https://www.linkedin.com/jobs/view/3774752337/...  \n",
       "778  https://www.linkedin.com/jobs/view/3714477401/...  \n",
       "779  https://www.linkedin.com/jobs/view/3775326075/...  \n",
       "\n",
       "[780 rows x 3 columns]"
      ]
     },
     "execution_count": 7,
     "metadata": {},
     "output_type": "execute_result"
    }
   ],
   "source": [
    "df_concat"
   ]
  },
  {
   "cell_type": "code",
   "execution_count": 8,
   "id": "c440ff55-8320-491d-94a2-1da1ebcb9cef",
   "metadata": {},
   "outputs": [
    {
     "data": {
      "text/plain": [
       "780"
      ]
     },
     "execution_count": 8,
     "metadata": {},
     "output_type": "execute_result"
    }
   ],
   "source": [
    "total_records=0\n",
    "for file in file_names:\n",
    "    total_records=total_records+int(file.split('__')[2].strip('.csv'))\n",
    "total_records"
   ]
  },
  {
   "cell_type": "code",
   "execution_count": 9,
   "id": "981d25ae-2bae-46d7-8f83-437835bb35c4",
   "metadata": {},
   "outputs": [
    {
     "data": {
      "text/plain": [
       "780"
      ]
     },
     "execution_count": 9,
     "metadata": {},
     "output_type": "execute_result"
    }
   ],
   "source": [
    "len(df_concat)"
   ]
  },
  {
   "cell_type": "code",
   "execution_count": 10,
   "id": "4dfdc697-f2b0-4df9-ac6a-42cbcae86993",
   "metadata": {},
   "outputs": [
    {
     "data": {
      "text/plain": [
       "'Concatenated files/10th week 28 Nov -30 Nov/'"
      ]
     },
     "execution_count": 10,
     "metadata": {},
     "output_type": "execute_result"
    }
   ],
   "source": [
    "folder_path='Concatenated files/'+path.split('/')[1]+'/'\n",
    "folder_path"
   ]
  },
  {
   "cell_type": "code",
   "execution_count": 11,
   "id": "1cdd4160-9103-46f3-979c-3e3303d45a02",
   "metadata": {},
   "outputs": [
    {
     "data": {
      "text/plain": [
       "'30'"
      ]
     },
     "execution_count": 11,
     "metadata": {},
     "output_type": "execute_result"
    }
   ],
   "source": [
    "day=path.split('/')[-1].split('_')[3]\n",
    "day"
   ]
  },
  {
   "cell_type": "code",
   "execution_count": 12,
   "id": "c9f191dc-c2a0-408c-858d-d9fc4e02da03",
   "metadata": {},
   "outputs": [
    {
     "data": {
      "text/plain": [
       "'Nov'"
      ]
     },
     "execution_count": 12,
     "metadata": {},
     "output_type": "execute_result"
    }
   ],
   "source": [
    "month='Nov'\n",
    "month"
   ]
  },
  {
   "cell_type": "code",
   "execution_count": 13,
   "id": "fc2f7c34-f6f2-477b-8a09-f2f77e32759b",
   "metadata": {},
   "outputs": [],
   "source": [
    "df_concat.to_csv(folder_path+f'Linkedin_Job_Links_{day}-{month}-2023_{len(df_concat)}-jobs_{len(file_names)}-pages.csv',index=False)"
   ]
  },
  {
   "cell_type": "code",
   "execution_count": null,
   "id": "3458fddd-2029-4045-9a54-6befb0d6e7ba",
   "metadata": {},
   "outputs": [],
   "source": []
  }
 ],
 "metadata": {
  "kernelspec": {
   "display_name": "Python 3 (ipykernel)",
   "language": "python",
   "name": "python3"
  },
  "language_info": {
   "codemirror_mode": {
    "name": "ipython",
    "version": 3
   },
   "file_extension": ".py",
   "mimetype": "text/x-python",
   "name": "python",
   "nbconvert_exporter": "python",
   "pygments_lexer": "ipython3",
   "version": "3.11.4"
  }
 },
 "nbformat": 4,
 "nbformat_minor": 5
}
