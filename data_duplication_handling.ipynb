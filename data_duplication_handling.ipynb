{
 "cells": [
  {
   "cell_type": "code",
   "execution_count": 1,
   "id": "81ac062a-82c7-49ee-b287-c219641155b6",
   "metadata": {},
   "outputs": [],
   "source": [
    "import pandas as pd\n",
    "import numpy as np"
   ]
  },
  {
   "cell_type": "code",
   "execution_count": 2,
   "id": "33d8abb1-a617-4557-b98f-5951966001a2",
   "metadata": {},
   "outputs": [],
   "source": [
    "path='Concatenated files/10th week 28 Nov -30 Nov/Linkedin_Job_Links_30-Nov-2023_780-jobs_33-pages.csv'"
   ]
  },
  {
   "cell_type": "code",
   "execution_count": 3,
   "id": "ea083d0e-c886-4620-a6b3-778654b7f58b",
   "metadata": {},
   "outputs": [],
   "source": [
    "df=pd.read_csv(path)"
   ]
  },
  {
   "cell_type": "code",
   "execution_count": 4,
   "id": "3fcc5547-6d25-4924-a540-95e753ee99f0",
   "metadata": {},
   "outputs": [
    {
     "data": {
      "text/html": [
       "<div>\n",
       "<style scoped>\n",
       "    .dataframe tbody tr th:only-of-type {\n",
       "        vertical-align: middle;\n",
       "    }\n",
       "\n",
       "    .dataframe tbody tr th {\n",
       "        vertical-align: top;\n",
       "    }\n",
       "\n",
       "    .dataframe thead th {\n",
       "        text-align: right;\n",
       "    }\n",
       "</style>\n",
       "<table border=\"1\" class=\"dataframe\">\n",
       "  <thead>\n",
       "    <tr style=\"text-align: right;\">\n",
       "      <th></th>\n",
       "      <th>Job Title</th>\n",
       "      <th>Job ID</th>\n",
       "      <th>Job Link</th>\n",
       "    </tr>\n",
       "  </thead>\n",
       "  <tbody>\n",
       "    <tr>\n",
       "      <th>0</th>\n",
       "      <td>Business Development Executive</td>\n",
       "      <td>3774715438</td>\n",
       "      <td>https://www.linkedin.com/jobs/view/3774715438/...</td>\n",
       "    </tr>\n",
       "    <tr>\n",
       "      <th>1</th>\n",
       "      <td>Business Development Executive</td>\n",
       "      <td>3773322698</td>\n",
       "      <td>https://www.linkedin.com/jobs/view/3773322698/...</td>\n",
       "    </tr>\n",
       "    <tr>\n",
       "      <th>2</th>\n",
       "      <td>Business Development Specialist</td>\n",
       "      <td>3766957851</td>\n",
       "      <td>https://www.linkedin.com/jobs/view/3766957851/...</td>\n",
       "    </tr>\n",
       "    <tr>\n",
       "      <th>3</th>\n",
       "      <td>Product Hunting Expert</td>\n",
       "      <td>3768210182</td>\n",
       "      <td>https://www.linkedin.com/jobs/view/3768210182/...</td>\n",
       "    </tr>\n",
       "    <tr>\n",
       "      <th>4</th>\n",
       "      <td>Remote Work - (Data Entry Clerk) Work From Home</td>\n",
       "      <td>3772950502</td>\n",
       "      <td>https://www.linkedin.com/jobs/view/3772950502/...</td>\n",
       "    </tr>\n",
       "    <tr>\n",
       "      <th>...</th>\n",
       "      <td>...</td>\n",
       "      <td>...</td>\n",
       "      <td>...</td>\n",
       "    </tr>\n",
       "    <tr>\n",
       "      <th>775</th>\n",
       "      <td>Associate Merchandise Planner</td>\n",
       "      <td>3772813087</td>\n",
       "      <td>https://www.linkedin.com/jobs/view/3772813087/...</td>\n",
       "    </tr>\n",
       "    <tr>\n",
       "      <th>776</th>\n",
       "      <td>Odoo Developer</td>\n",
       "      <td>3774389606</td>\n",
       "      <td>https://www.linkedin.com/jobs/view/3774389606/...</td>\n",
       "    </tr>\n",
       "    <tr>\n",
       "      <th>777</th>\n",
       "      <td>Bidder</td>\n",
       "      <td>3774752337</td>\n",
       "      <td>https://www.linkedin.com/jobs/view/3774752337/...</td>\n",
       "    </tr>\n",
       "    <tr>\n",
       "      <th>778</th>\n",
       "      <td>Customer Success Specialist</td>\n",
       "      <td>3714477401</td>\n",
       "      <td>https://www.linkedin.com/jobs/view/3714477401/...</td>\n",
       "    </tr>\n",
       "    <tr>\n",
       "      <th>779</th>\n",
       "      <td>Purchasing Officer</td>\n",
       "      <td>3775326075</td>\n",
       "      <td>https://www.linkedin.com/jobs/view/3775326075/...</td>\n",
       "    </tr>\n",
       "  </tbody>\n",
       "</table>\n",
       "<p>780 rows × 3 columns</p>\n",
       "</div>"
      ],
      "text/plain": [
       "                                           Job Title      Job ID  \\\n",
       "0                     Business Development Executive  3774715438   \n",
       "1                     Business Development Executive  3773322698   \n",
       "2                    Business Development Specialist  3766957851   \n",
       "3                             Product Hunting Expert  3768210182   \n",
       "4    Remote Work - (Data Entry Clerk) Work From Home  3772950502   \n",
       "..                                               ...         ...   \n",
       "775                    Associate Merchandise Planner  3772813087   \n",
       "776                                   Odoo Developer  3774389606   \n",
       "777                                           Bidder  3774752337   \n",
       "778                      Customer Success Specialist  3714477401   \n",
       "779                               Purchasing Officer  3775326075   \n",
       "\n",
       "                                              Job Link  \n",
       "0    https://www.linkedin.com/jobs/view/3774715438/...  \n",
       "1    https://www.linkedin.com/jobs/view/3773322698/...  \n",
       "2    https://www.linkedin.com/jobs/view/3766957851/...  \n",
       "3    https://www.linkedin.com/jobs/view/3768210182/...  \n",
       "4    https://www.linkedin.com/jobs/view/3772950502/...  \n",
       "..                                                 ...  \n",
       "775  https://www.linkedin.com/jobs/view/3772813087/...  \n",
       "776  https://www.linkedin.com/jobs/view/3774389606/...  \n",
       "777  https://www.linkedin.com/jobs/view/3774752337/...  \n",
       "778  https://www.linkedin.com/jobs/view/3714477401/...  \n",
       "779  https://www.linkedin.com/jobs/view/3775326075/...  \n",
       "\n",
       "[780 rows x 3 columns]"
      ]
     },
     "execution_count": 4,
     "metadata": {},
     "output_type": "execute_result"
    }
   ],
   "source": [
    "df"
   ]
  },
  {
   "cell_type": "markdown",
   "id": "734d344d-ad4e-4f8d-965c-3b9eb36c5e56",
   "metadata": {},
   "source": [
    "### checking duplicates"
   ]
  },
  {
   "cell_type": "code",
   "execution_count": 5,
   "id": "ef2bd986-a157-46a1-83b8-4bef0c56e5d2",
   "metadata": {},
   "outputs": [
    {
     "data": {
      "text/plain": [
       "780"
      ]
     },
     "execution_count": 5,
     "metadata": {},
     "output_type": "execute_result"
    }
   ],
   "source": [
    "len(df)"
   ]
  },
  {
   "cell_type": "code",
   "execution_count": 6,
   "id": "f46f8835-2357-40fe-a25f-9ef307238a00",
   "metadata": {},
   "outputs": [
    {
     "data": {
      "text/plain": [
       "747"
      ]
     },
     "execution_count": 6,
     "metadata": {},
     "output_type": "execute_result"
    }
   ],
   "source": [
    "len(df['Job ID'].unique())"
   ]
  },
  {
   "cell_type": "code",
   "execution_count": 7,
   "id": "4d8f3b78-ccbd-4c80-b351-f31500d65605",
   "metadata": {},
   "outputs": [
    {
     "data": {
      "text/plain": [
       "Job ID\n",
       "3767586492    2\n",
       "3774463288    2\n",
       "3774374938    2\n",
       "3771438992    2\n",
       "3769253548    2\n",
       "             ..\n",
       "3773347358    1\n",
       "3768549662    1\n",
       "3757159375    1\n",
       "3769067602    1\n",
       "3775326075    1\n",
       "Name: count, Length: 747, dtype: int64"
      ]
     },
     "execution_count": 7,
     "metadata": {},
     "output_type": "execute_result"
    }
   ],
   "source": [
    "df['Job ID'].value_counts()"
   ]
  },
  {
   "cell_type": "code",
   "execution_count": 8,
   "id": "daac1f95-161c-4c80-8771-ee3e2905fc36",
   "metadata": {},
   "outputs": [
    {
     "data": {
      "text/plain": [
       "array([2, 1], dtype=int64)"
      ]
     },
     "execution_count": 8,
     "metadata": {},
     "output_type": "execute_result"
    }
   ],
   "source": [
    "df['Job ID'].value_counts().unique()"
   ]
  },
  {
   "cell_type": "code",
   "execution_count": 9,
   "id": "12346237-4553-4608-a1a0-090c7402ba68",
   "metadata": {},
   "outputs": [
    {
     "data": {
      "text/plain": [
       "33"
      ]
     },
     "execution_count": 9,
     "metadata": {},
     "output_type": "execute_result"
    }
   ],
   "source": [
    "duplicates_count=df.duplicated(subset=['Job ID']).sum()\n",
    "duplicates_count"
   ]
  },
  {
   "cell_type": "code",
   "execution_count": 10,
   "id": "88210200-bf59-441b-b4d7-d244ae038dee",
   "metadata": {},
   "outputs": [
    {
     "data": {
      "text/html": [
       "<div>\n",
       "<style scoped>\n",
       "    .dataframe tbody tr th:only-of-type {\n",
       "        vertical-align: middle;\n",
       "    }\n",
       "\n",
       "    .dataframe tbody tr th {\n",
       "        vertical-align: top;\n",
       "    }\n",
       "\n",
       "    .dataframe thead th {\n",
       "        text-align: right;\n",
       "    }\n",
       "</style>\n",
       "<table border=\"1\" class=\"dataframe\">\n",
       "  <thead>\n",
       "    <tr style=\"text-align: right;\">\n",
       "      <th></th>\n",
       "      <th>Job Title</th>\n",
       "      <th>Job ID</th>\n",
       "      <th>Job Link</th>\n",
       "    </tr>\n",
       "  </thead>\n",
       "  <tbody>\n",
       "    <tr>\n",
       "      <th>625</th>\n",
       "      <td>Business Development Manager</td>\n",
       "      <td>3768519442</td>\n",
       "      <td>https://www.linkedin.com/jobs/view/3768519442/...</td>\n",
       "    </tr>\n",
       "    <tr>\n",
       "      <th>626</th>\n",
       "      <td>Customer Support Specialist ( US )</td>\n",
       "      <td>3764394146</td>\n",
       "      <td>https://www.linkedin.com/jobs/view/3764394146/...</td>\n",
       "    </tr>\n",
       "    <tr>\n",
       "      <th>627</th>\n",
       "      <td>Team lead Manufacturing</td>\n",
       "      <td>3771438992</td>\n",
       "      <td>https://www.linkedin.com/jobs/view/3771438992/...</td>\n",
       "    </tr>\n",
       "    <tr>\n",
       "      <th>628</th>\n",
       "      <td>Manager Corporate Communications</td>\n",
       "      <td>3769233471</td>\n",
       "      <td>https://www.linkedin.com/jobs/view/3769233471/...</td>\n",
       "    </tr>\n",
       "    <tr>\n",
       "      <th>629</th>\n",
       "      <td>Vice President Finance, Trilogy (Remote) - $20...</td>\n",
       "      <td>3772906037</td>\n",
       "      <td>https://www.linkedin.com/jobs/view/3772906037/...</td>\n",
       "    </tr>\n",
       "    <tr>\n",
       "      <th>631</th>\n",
       "      <td>Manager Cloud ISA</td>\n",
       "      <td>3756986762</td>\n",
       "      <td>https://www.linkedin.com/jobs/view/3756986762/...</td>\n",
       "    </tr>\n",
       "    <tr>\n",
       "      <th>633</th>\n",
       "      <td>Senior Functional Consultant (Microsoft Dynami...</td>\n",
       "      <td>3774446886</td>\n",
       "      <td>https://www.linkedin.com/jobs/view/3774446886/...</td>\n",
       "    </tr>\n",
       "    <tr>\n",
       "      <th>634</th>\n",
       "      <td>Regional Admissions Officer (Lahore)</td>\n",
       "      <td>3774463288</td>\n",
       "      <td>https://www.linkedin.com/jobs/view/3774463288/...</td>\n",
       "    </tr>\n",
       "    <tr>\n",
       "      <th>636</th>\n",
       "      <td>Content Marketer</td>\n",
       "      <td>3767586492</td>\n",
       "      <td>https://www.linkedin.com/jobs/view/3767586492/...</td>\n",
       "    </tr>\n",
       "    <tr>\n",
       "      <th>638</th>\n",
       "      <td>NaN</td>\n",
       "      <td>3738512971</td>\n",
       "      <td>NaN</td>\n",
       "    </tr>\n",
       "    <tr>\n",
       "      <th>644</th>\n",
       "      <td>Technical Product Owner, Trilogy (Remote) - $1...</td>\n",
       "      <td>3772904568</td>\n",
       "      <td>https://www.linkedin.com/jobs/view/3772904568/...</td>\n",
       "    </tr>\n",
       "    <tr>\n",
       "      <th>649</th>\n",
       "      <td>Fellow of GenAI Software Excellence, Trilogy (...</td>\n",
       "      <td>3772903435</td>\n",
       "      <td>https://www.linkedin.com/jobs/view/3772903435/...</td>\n",
       "    </tr>\n",
       "    <tr>\n",
       "      <th>654</th>\n",
       "      <td>Executive Ocean Freight</td>\n",
       "      <td>3776035739</td>\n",
       "      <td>https://www.linkedin.com/jobs/view/3776035739/...</td>\n",
       "    </tr>\n",
       "    <tr>\n",
       "      <th>655</th>\n",
       "      <td>Supervisor Biochemistry</td>\n",
       "      <td>3766940908</td>\n",
       "      <td>https://www.linkedin.com/jobs/view/3766940908/...</td>\n",
       "    </tr>\n",
       "    <tr>\n",
       "      <th>656</th>\n",
       "      <td>Associate- Project Sales</td>\n",
       "      <td>3774393379</td>\n",
       "      <td>https://www.linkedin.com/jobs/view/3774393379/...</td>\n",
       "    </tr>\n",
       "    <tr>\n",
       "      <th>675</th>\n",
       "      <td>Software Engineer</td>\n",
       "      <td>3773310000</td>\n",
       "      <td>https://www.linkedin.com/jobs/view/3773310000/...</td>\n",
       "    </tr>\n",
       "    <tr>\n",
       "      <th>676</th>\n",
       "      <td>Scriptwriter</td>\n",
       "      <td>3774373232</td>\n",
       "      <td>https://www.linkedin.com/jobs/view/3774373232/...</td>\n",
       "    </tr>\n",
       "    <tr>\n",
       "      <th>677</th>\n",
       "      <td>HR / Admin Executive</td>\n",
       "      <td>3774374938</td>\n",
       "      <td>https://www.linkedin.com/jobs/view/3774374938/...</td>\n",
       "    </tr>\n",
       "    <tr>\n",
       "      <th>678</th>\n",
       "      <td>Senior MERN Stack Developer</td>\n",
       "      <td>3769253548</td>\n",
       "      <td>https://www.linkedin.com/jobs/view/3769253548/...</td>\n",
       "    </tr>\n",
       "    <tr>\n",
       "      <th>680</th>\n",
       "      <td>Demand Planner</td>\n",
       "      <td>3765188178</td>\n",
       "      <td>https://www.linkedin.com/jobs/view/3765188178/...</td>\n",
       "    </tr>\n",
       "    <tr>\n",
       "      <th>681</th>\n",
       "      <td>Senior Software Quality Assurance (Test Automa...</td>\n",
       "      <td>3607485641</td>\n",
       "      <td>https://www.linkedin.com/jobs/view/3607485641/...</td>\n",
       "    </tr>\n",
       "    <tr>\n",
       "      <th>682</th>\n",
       "      <td>Software Developer - Java</td>\n",
       "      <td>3736513624</td>\n",
       "      <td>https://www.linkedin.com/jobs/view/3736513624/...</td>\n",
       "    </tr>\n",
       "    <tr>\n",
       "      <th>683</th>\n",
       "      <td>Account Executive - Outbound (SMB)</td>\n",
       "      <td>3741633554</td>\n",
       "      <td>https://www.linkedin.com/jobs/view/3741633554/...</td>\n",
       "    </tr>\n",
       "    <tr>\n",
       "      <th>684</th>\n",
       "      <td>Software Engineer</td>\n",
       "      <td>3755039643</td>\n",
       "      <td>https://www.linkedin.com/jobs/view/3755039643/...</td>\n",
       "    </tr>\n",
       "    <tr>\n",
       "      <th>687</th>\n",
       "      <td>Proposal Engineer for Medium and Low Voltage S...</td>\n",
       "      <td>3748815116</td>\n",
       "      <td>https://www.linkedin.com/jobs/view/3748815116/...</td>\n",
       "    </tr>\n",
       "    <tr>\n",
       "      <th>688</th>\n",
       "      <td>Valuation Manager</td>\n",
       "      <td>3775320139</td>\n",
       "      <td>https://www.linkedin.com/jobs/view/3775320139/...</td>\n",
       "    </tr>\n",
       "    <tr>\n",
       "      <th>690</th>\n",
       "      <td>Vice President Finance, Trilogy (Remote) - $20...</td>\n",
       "      <td>3772699787</td>\n",
       "      <td>https://www.linkedin.com/jobs/view/3772699787/...</td>\n",
       "    </tr>\n",
       "    <tr>\n",
       "      <th>696</th>\n",
       "      <td>Senior Developer, Trilogy (Remote) - $100,000/...</td>\n",
       "      <td>3772905289</td>\n",
       "      <td>https://www.linkedin.com/jobs/view/3772905289/...</td>\n",
       "    </tr>\n",
       "    <tr>\n",
       "      <th>697</th>\n",
       "      <td>Principal Architect, Trilogy (Remote) - $200,0...</td>\n",
       "      <td>3772699847</td>\n",
       "      <td>https://www.linkedin.com/jobs/view/3772699847/...</td>\n",
       "    </tr>\n",
       "    <tr>\n",
       "      <th>702</th>\n",
       "      <td>Sales Marketing Executive</td>\n",
       "      <td>3772488125</td>\n",
       "      <td>https://www.linkedin.com/jobs/view/3772488125/...</td>\n",
       "    </tr>\n",
       "    <tr>\n",
       "      <th>708</th>\n",
       "      <td>Shopify Developer</td>\n",
       "      <td>3773350751</td>\n",
       "      <td>https://www.linkedin.com/jobs/view/3773350751/...</td>\n",
       "    </tr>\n",
       "    <tr>\n",
       "      <th>709</th>\n",
       "      <td>Commercial Sales Manager - Karachi, Pakistan.</td>\n",
       "      <td>3773710446</td>\n",
       "      <td>https://www.linkedin.com/jobs/view/3773710446/...</td>\n",
       "    </tr>\n",
       "    <tr>\n",
       "      <th>758</th>\n",
       "      <td>Sales And Marketing Specialist</td>\n",
       "      <td>3775320221</td>\n",
       "      <td>https://www.linkedin.com/jobs/view/3775320221/...</td>\n",
       "    </tr>\n",
       "  </tbody>\n",
       "</table>\n",
       "</div>"
      ],
      "text/plain": [
       "                                             Job Title      Job ID  \\\n",
       "625                       Business Development Manager  3768519442   \n",
       "626                 Customer Support Specialist ( US )  3764394146   \n",
       "627                            Team lead Manufacturing  3771438992   \n",
       "628                   Manager Corporate Communications  3769233471   \n",
       "629  Vice President Finance, Trilogy (Remote) - $20...  3772906037   \n",
       "631                                  Manager Cloud ISA  3756986762   \n",
       "633  Senior Functional Consultant (Microsoft Dynami...  3774446886   \n",
       "634               Regional Admissions Officer (Lahore)  3774463288   \n",
       "636                                   Content Marketer  3767586492   \n",
       "638                                                NaN  3738512971   \n",
       "644  Technical Product Owner, Trilogy (Remote) - $1...  3772904568   \n",
       "649  Fellow of GenAI Software Excellence, Trilogy (...  3772903435   \n",
       "654                            Executive Ocean Freight  3776035739   \n",
       "655                            Supervisor Biochemistry  3766940908   \n",
       "656                           Associate- Project Sales  3774393379   \n",
       "675                                  Software Engineer  3773310000   \n",
       "676                                       Scriptwriter  3774373232   \n",
       "677                               HR / Admin Executive  3774374938   \n",
       "678                        Senior MERN Stack Developer  3769253548   \n",
       "680                                     Demand Planner  3765188178   \n",
       "681  Senior Software Quality Assurance (Test Automa...  3607485641   \n",
       "682                          Software Developer - Java  3736513624   \n",
       "683                 Account Executive - Outbound (SMB)  3741633554   \n",
       "684                                  Software Engineer  3755039643   \n",
       "687  Proposal Engineer for Medium and Low Voltage S...  3748815116   \n",
       "688                                  Valuation Manager  3775320139   \n",
       "690  Vice President Finance, Trilogy (Remote) - $20...  3772699787   \n",
       "696  Senior Developer, Trilogy (Remote) - $100,000/...  3772905289   \n",
       "697  Principal Architect, Trilogy (Remote) - $200,0...  3772699847   \n",
       "702                          Sales Marketing Executive  3772488125   \n",
       "708                                  Shopify Developer  3773350751   \n",
       "709      Commercial Sales Manager - Karachi, Pakistan.  3773710446   \n",
       "758                     Sales And Marketing Specialist  3775320221   \n",
       "\n",
       "                                              Job Link  \n",
       "625  https://www.linkedin.com/jobs/view/3768519442/...  \n",
       "626  https://www.linkedin.com/jobs/view/3764394146/...  \n",
       "627  https://www.linkedin.com/jobs/view/3771438992/...  \n",
       "628  https://www.linkedin.com/jobs/view/3769233471/...  \n",
       "629  https://www.linkedin.com/jobs/view/3772906037/...  \n",
       "631  https://www.linkedin.com/jobs/view/3756986762/...  \n",
       "633  https://www.linkedin.com/jobs/view/3774446886/...  \n",
       "634  https://www.linkedin.com/jobs/view/3774463288/...  \n",
       "636  https://www.linkedin.com/jobs/view/3767586492/...  \n",
       "638                                                NaN  \n",
       "644  https://www.linkedin.com/jobs/view/3772904568/...  \n",
       "649  https://www.linkedin.com/jobs/view/3772903435/...  \n",
       "654  https://www.linkedin.com/jobs/view/3776035739/...  \n",
       "655  https://www.linkedin.com/jobs/view/3766940908/...  \n",
       "656  https://www.linkedin.com/jobs/view/3774393379/...  \n",
       "675  https://www.linkedin.com/jobs/view/3773310000/...  \n",
       "676  https://www.linkedin.com/jobs/view/3774373232/...  \n",
       "677  https://www.linkedin.com/jobs/view/3774374938/...  \n",
       "678  https://www.linkedin.com/jobs/view/3769253548/...  \n",
       "680  https://www.linkedin.com/jobs/view/3765188178/...  \n",
       "681  https://www.linkedin.com/jobs/view/3607485641/...  \n",
       "682  https://www.linkedin.com/jobs/view/3736513624/...  \n",
       "683  https://www.linkedin.com/jobs/view/3741633554/...  \n",
       "684  https://www.linkedin.com/jobs/view/3755039643/...  \n",
       "687  https://www.linkedin.com/jobs/view/3748815116/...  \n",
       "688  https://www.linkedin.com/jobs/view/3775320139/...  \n",
       "690  https://www.linkedin.com/jobs/view/3772699787/...  \n",
       "696  https://www.linkedin.com/jobs/view/3772905289/...  \n",
       "697  https://www.linkedin.com/jobs/view/3772699847/...  \n",
       "702  https://www.linkedin.com/jobs/view/3772488125/...  \n",
       "708  https://www.linkedin.com/jobs/view/3773350751/...  \n",
       "709  https://www.linkedin.com/jobs/view/3773710446/...  \n",
       "758  https://www.linkedin.com/jobs/view/3775320221/...  "
      ]
     },
     "execution_count": 10,
     "metadata": {},
     "output_type": "execute_result"
    }
   ],
   "source": [
    "duplicates = df['Job ID'].duplicated()\n",
    "df[duplicates]"
   ]
  },
  {
   "cell_type": "markdown",
   "id": "481a52b9-4157-4a2f-9a0e-2c4263d42097",
   "metadata": {},
   "source": [
    "### droping duplicates"
   ]
  },
  {
   "cell_type": "code",
   "execution_count": 11,
   "id": "d51f920b-1726-42e4-a918-a094f454fd8a",
   "metadata": {},
   "outputs": [],
   "source": [
    "df_no_duplicates = df.drop_duplicates(subset=['Job ID'])"
   ]
  },
  {
   "cell_type": "code",
   "execution_count": 12,
   "id": "e4b17306-c996-4580-8d4d-062fac72500a",
   "metadata": {},
   "outputs": [
    {
     "data": {
      "text/html": [
       "<div>\n",
       "<style scoped>\n",
       "    .dataframe tbody tr th:only-of-type {\n",
       "        vertical-align: middle;\n",
       "    }\n",
       "\n",
       "    .dataframe tbody tr th {\n",
       "        vertical-align: top;\n",
       "    }\n",
       "\n",
       "    .dataframe thead th {\n",
       "        text-align: right;\n",
       "    }\n",
       "</style>\n",
       "<table border=\"1\" class=\"dataframe\">\n",
       "  <thead>\n",
       "    <tr style=\"text-align: right;\">\n",
       "      <th></th>\n",
       "      <th>Job Title</th>\n",
       "      <th>Job ID</th>\n",
       "      <th>Job Link</th>\n",
       "    </tr>\n",
       "  </thead>\n",
       "  <tbody>\n",
       "    <tr>\n",
       "      <th>0</th>\n",
       "      <td>Business Development Executive</td>\n",
       "      <td>3774715438</td>\n",
       "      <td>https://www.linkedin.com/jobs/view/3774715438/...</td>\n",
       "    </tr>\n",
       "    <tr>\n",
       "      <th>1</th>\n",
       "      <td>Business Development Executive</td>\n",
       "      <td>3773322698</td>\n",
       "      <td>https://www.linkedin.com/jobs/view/3773322698/...</td>\n",
       "    </tr>\n",
       "    <tr>\n",
       "      <th>2</th>\n",
       "      <td>Business Development Specialist</td>\n",
       "      <td>3766957851</td>\n",
       "      <td>https://www.linkedin.com/jobs/view/3766957851/...</td>\n",
       "    </tr>\n",
       "    <tr>\n",
       "      <th>3</th>\n",
       "      <td>Product Hunting Expert</td>\n",
       "      <td>3768210182</td>\n",
       "      <td>https://www.linkedin.com/jobs/view/3768210182/...</td>\n",
       "    </tr>\n",
       "    <tr>\n",
       "      <th>4</th>\n",
       "      <td>Remote Work - (Data Entry Clerk) Work From Home</td>\n",
       "      <td>3772950502</td>\n",
       "      <td>https://www.linkedin.com/jobs/view/3772950502/...</td>\n",
       "    </tr>\n",
       "    <tr>\n",
       "      <th>...</th>\n",
       "      <td>...</td>\n",
       "      <td>...</td>\n",
       "      <td>...</td>\n",
       "    </tr>\n",
       "    <tr>\n",
       "      <th>775</th>\n",
       "      <td>Associate Merchandise Planner</td>\n",
       "      <td>3772813087</td>\n",
       "      <td>https://www.linkedin.com/jobs/view/3772813087/...</td>\n",
       "    </tr>\n",
       "    <tr>\n",
       "      <th>776</th>\n",
       "      <td>Odoo Developer</td>\n",
       "      <td>3774389606</td>\n",
       "      <td>https://www.linkedin.com/jobs/view/3774389606/...</td>\n",
       "    </tr>\n",
       "    <tr>\n",
       "      <th>777</th>\n",
       "      <td>Bidder</td>\n",
       "      <td>3774752337</td>\n",
       "      <td>https://www.linkedin.com/jobs/view/3774752337/...</td>\n",
       "    </tr>\n",
       "    <tr>\n",
       "      <th>778</th>\n",
       "      <td>Customer Success Specialist</td>\n",
       "      <td>3714477401</td>\n",
       "      <td>https://www.linkedin.com/jobs/view/3714477401/...</td>\n",
       "    </tr>\n",
       "    <tr>\n",
       "      <th>779</th>\n",
       "      <td>Purchasing Officer</td>\n",
       "      <td>3775326075</td>\n",
       "      <td>https://www.linkedin.com/jobs/view/3775326075/...</td>\n",
       "    </tr>\n",
       "  </tbody>\n",
       "</table>\n",
       "<p>747 rows × 3 columns</p>\n",
       "</div>"
      ],
      "text/plain": [
       "                                           Job Title      Job ID  \\\n",
       "0                     Business Development Executive  3774715438   \n",
       "1                     Business Development Executive  3773322698   \n",
       "2                    Business Development Specialist  3766957851   \n",
       "3                             Product Hunting Expert  3768210182   \n",
       "4    Remote Work - (Data Entry Clerk) Work From Home  3772950502   \n",
       "..                                               ...         ...   \n",
       "775                    Associate Merchandise Planner  3772813087   \n",
       "776                                   Odoo Developer  3774389606   \n",
       "777                                           Bidder  3774752337   \n",
       "778                      Customer Success Specialist  3714477401   \n",
       "779                               Purchasing Officer  3775326075   \n",
       "\n",
       "                                              Job Link  \n",
       "0    https://www.linkedin.com/jobs/view/3774715438/...  \n",
       "1    https://www.linkedin.com/jobs/view/3773322698/...  \n",
       "2    https://www.linkedin.com/jobs/view/3766957851/...  \n",
       "3    https://www.linkedin.com/jobs/view/3768210182/...  \n",
       "4    https://www.linkedin.com/jobs/view/3772950502/...  \n",
       "..                                                 ...  \n",
       "775  https://www.linkedin.com/jobs/view/3772813087/...  \n",
       "776  https://www.linkedin.com/jobs/view/3774389606/...  \n",
       "777  https://www.linkedin.com/jobs/view/3774752337/...  \n",
       "778  https://www.linkedin.com/jobs/view/3714477401/...  \n",
       "779  https://www.linkedin.com/jobs/view/3775326075/...  \n",
       "\n",
       "[747 rows x 3 columns]"
      ]
     },
     "execution_count": 12,
     "metadata": {},
     "output_type": "execute_result"
    }
   ],
   "source": [
    "df_no_duplicates"
   ]
  },
  {
   "cell_type": "code",
   "execution_count": 13,
   "id": "27ee92a6-fbee-40fc-88c9-bcc58836b62b",
   "metadata": {},
   "outputs": [
    {
     "data": {
      "text/plain": [
       "747"
      ]
     },
     "execution_count": 13,
     "metadata": {},
     "output_type": "execute_result"
    }
   ],
   "source": [
    "len(df_no_duplicates)"
   ]
  },
  {
   "cell_type": "code",
   "execution_count": 14,
   "id": "f0f684e7-089a-41c8-80bc-03eac7314c89",
   "metadata": {},
   "outputs": [
    {
     "data": {
      "text/plain": [
       "747"
      ]
     },
     "execution_count": 14,
     "metadata": {},
     "output_type": "execute_result"
    }
   ],
   "source": [
    "len(df)-duplicates_count"
   ]
  },
  {
   "cell_type": "markdown",
   "id": "eaf6cc95-fa64-4a00-946a-27e1e44f6eef",
   "metadata": {},
   "source": [
    "### Building modified path"
   ]
  },
  {
   "cell_type": "code",
   "execution_count": 15,
   "id": "070eb2f0-360d-4cdb-91c0-2e6e3ddbb5ad",
   "metadata": {},
   "outputs": [
    {
     "data": {
      "text/plain": [
       "'Daily Files Not Duplicated/10th week 28 Nov -30 Nov/Linkedin_Job_Links_30-Nov-2023_747-jobs_33-pages.csv'"
      ]
     },
     "execution_count": 15,
     "metadata": {},
     "output_type": "execute_result"
    }
   ],
   "source": [
    "pre_link=path.split('/')[-1].split(path.split('/')[-1].split('_')[4].strip('-jobs'))[0]\n",
    "post_link=path.split('/')[-1].split(path.split('/')[-1].split('_')[4].strip('-jobs'))[1]\n",
    "Not_duplicated_folder_path='Daily Files Not Duplicated/'+path.split('/')[1]+'/'+pre_link+str(len(df_no_duplicates))+post_link\n",
    "Not_duplicated_folder_path"
   ]
  },
  {
   "cell_type": "markdown",
   "id": "a63e807c-0e67-483b-bf15-6470d1205464",
   "metadata": {},
   "source": [
    "### saving file"
   ]
  },
  {
   "cell_type": "code",
   "execution_count": 16,
   "id": "191511ee-e170-4056-8544-16c3e11375dc",
   "metadata": {},
   "outputs": [],
   "source": [
    "if df.duplicated(subset=['Job ID']).sum()>0:\n",
    "    df_no_duplicates.to_csv(Not_duplicated_folder_path,index=False)\n",
    "else:\n",
    "    df.to_csv('Daily Files Not Duplicated/'+path.split('/')[1]+'/'+path.split('/')[-1],index=False)    "
   ]
  },
  {
   "cell_type": "code",
   "execution_count": null,
   "id": "e30630bb-adc4-4f24-9d5e-b989dfc1c765",
   "metadata": {},
   "outputs": [],
   "source": []
  }
 ],
 "metadata": {
  "kernelspec": {
   "display_name": "Python 3 (ipykernel)",
   "language": "python",
   "name": "python3"
  },
  "language_info": {
   "codemirror_mode": {
    "name": "ipython",
    "version": 3
   },
   "file_extension": ".py",
   "mimetype": "text/x-python",
   "name": "python",
   "nbconvert_exporter": "python",
   "pygments_lexer": "ipython3",
   "version": "3.11.4"
  }
 },
 "nbformat": 4,
 "nbformat_minor": 5
}
