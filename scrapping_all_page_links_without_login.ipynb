{
 "cells": [
  {
   "cell_type": "code",
   "execution_count": 2,
   "id": "1355a105-6176-44e7-b35b-6e6ae4e1fff3",
   "metadata": {},
   "outputs": [],
   "source": [
    "from selenium import webdriver\n",
    "from selenium.webdriver.common.keys import Keys\n",
    "from selenium.webdriver.common.by import By\n",
    "import pandas as pd\n",
    "from bs4 import BeautifulSoup\n",
    "import time"
   ]
  },
  {
   "cell_type": "code",
   "execution_count": 3,
   "id": "3bfbdffd-cd8c-43eb-8672-53d77cf58da1",
   "metadata": {},
   "outputs": [],
   "source": [
    "driver = webdriver.Chrome()"
   ]
  },
  {
   "cell_type": "code",
   "execution_count": 4,
   "id": "bd15f4b2-134d-4c71-8e8b-246dded043fa",
   "metadata": {},
   "outputs": [],
   "source": [
    "url='https://www.linkedin.com/jobs/search/?currentJobId=3727054368&distance=25&f_TPR=r86400&geoId=101022442&keywords=pakistan&origin=JOB_SEARCH_PAGE_JOB_FILTER&refresh=true&sortBy=R'"
   ]
  },
  {
   "cell_type": "code",
   "execution_count": 3,
   "id": "2b5b5a87-6e16-4475-b93a-b158072c1abf",
   "metadata": {},
   "outputs": [],
   "source": [
    "url='https://www.linkedin.com/jobs/search/?currentJobId=3727535445&distance=25&f_TPR=r604800&geoId=101022442&keywords=pakistan&origin=JOB_SEARCH_PAGE_JOB_FILTER'"
   ]
  },
  {
   "cell_type": "code",
   "execution_count": 5,
   "id": "58acc4cf-3b71-48e9-88cc-99d9e957c827",
   "metadata": {},
   "outputs": [],
   "source": [
    "driver.get(url)"
   ]
  },
  {
   "cell_type": "code",
   "execution_count": 6,
   "id": "ad14227c-c807-4bfb-b823-e0f5feed9ea5",
   "metadata": {},
   "outputs": [],
   "source": [
    "soup = BeautifulSoup(driver.page_source, 'html.parser')"
   ]
  },
  {
   "cell_type": "code",
   "execution_count": 7,
   "id": "ef7b566a-d114-4580-84d9-18cfae988f78",
   "metadata": {},
   "outputs": [],
   "source": [
    "job_postings = soup.find_all('a', {'class': 'base-card__full-link absolute top-0 right-0 bottom-0 left-0 p-0 z-[2]'})"
   ]
  },
  {
   "cell_type": "code",
   "execution_count": 8,
   "id": "7c3223f8-3269-4914-bc1c-294b2838ad6f",
   "metadata": {},
   "outputs": [
    {
     "data": {
      "text/plain": [
       "901"
      ]
     },
     "execution_count": 8,
     "metadata": {},
     "output_type": "execute_result"
    }
   ],
   "source": [
    "len(job_postings)"
   ]
  },
  {
   "cell_type": "code",
   "execution_count": 9,
   "id": "137076d2-3801-4578-a4ee-b53fcb539702",
   "metadata": {},
   "outputs": [],
   "source": [
    "with open('html_content_02oct_901_jobs.txt', 'w',encoding='utf-8') as f:\n",
    "    f.write(soup.prettify())"
   ]
  },
  {
   "cell_type": "code",
   "execution_count": 111,
   "id": "3681f9ec-dbe8-44f4-b5c6-321af8d496d0",
   "metadata": {},
   "outputs": [
    {
     "data": {
      "text/plain": [
       "'Research Associate Department of Zoology'"
      ]
     },
     "execution_count": 111,
     "metadata": {},
     "output_type": "execute_result"
    }
   ],
   "source": [
    "# job_postings[946].get_text().strip()"
   ]
  },
  {
   "cell_type": "code",
   "execution_count": 1,
   "id": "f6d6ecd8-493d-4f4f-9344-bb6e96358a24",
   "metadata": {},
   "outputs": [],
   "source": [
    "# job_postings[671].get(\"href\")"
   ]
  },
  {
   "cell_type": "code",
   "execution_count": 10,
   "id": "b6edb646-50d5-48c6-9af1-a7088366a23c",
   "metadata": {},
   "outputs": [],
   "source": [
    "data = []\n",
    "for job_posting in job_postings:\n",
    "    try:\n",
    "        job_title = job_posting.get_text().strip()\n",
    "    except AttributeError:\n",
    "        job_title = None\n",
    "        \n",
    "    try:\n",
    "        Job_link = job_posting.get(\"href\")\n",
    "        \n",
    "    except AttributeError:\n",
    "        Job_link = None\n",
    "\n",
    "    data.append({\n",
    "        'Job Title': job_title,\n",
    "        'Job Link': Job_link\n",
    "    })"
   ]
  },
  {
   "cell_type": "code",
   "execution_count": 11,
   "id": "cf678a9d-3957-4db4-bd15-c8957d9e07ca",
   "metadata": {},
   "outputs": [],
   "source": [
    "df = pd.DataFrame(data)\n",
    "df.to_csv(f'linkedin_jobs_links_901_jobs_links_02_oct.csv', index=False)"
   ]
  },
  {
   "cell_type": "code",
   "execution_count": null,
   "id": "97993a22-7162-4eb7-8a93-2d63b0a4676f",
   "metadata": {},
   "outputs": [],
   "source": []
  }
 ],
 "metadata": {
  "kernelspec": {
   "display_name": "Python 3 (ipykernel)",
   "language": "python",
   "name": "python3"
  },
  "language_info": {
   "codemirror_mode": {
    "name": "ipython",
    "version": 3
   },
   "file_extension": ".py",
   "mimetype": "text/x-python",
   "name": "python",
   "nbconvert_exporter": "python",
   "pygments_lexer": "ipython3",
   "version": "3.11.4"
  }
 },
 "nbformat": 4,
 "nbformat_minor": 5
}
