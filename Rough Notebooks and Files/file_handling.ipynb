{
 "cells": [
  {
   "cell_type": "code",
   "execution_count": 17,
   "id": "9b2dbb82-7ad2-4dcb-acb4-e2664f13e5fb",
   "metadata": {},
   "outputs": [
    {
     "data": {
      "text/plain": [
       "35"
      ]
     },
     "execution_count": 17,
     "metadata": {},
     "output_type": "execute_result"
    }
   ],
   "source": [
    "import datetime\n",
    "f=open('scrapper_note.txt','r+')\n",
    "f.write(f'Starting Time:{datetime.datetime.now().strftime(\"%d-%m-%Y--%I-%M-%p-%S\")}')\n",
    "f.write(f'Ending Time:{datetime.datetime.now().strftime(\"%d-%m-%Y--%I-%M-%p-%S\")}')"
   ]
  },
  {
   "cell_type": "code",
   "execution_count": 15,
   "id": "bd3c2a8a-c24b-43c5-8daf-ec9edc88a1a8",
   "metadata": {},
   "outputs": [
    {
     "name": "stdout",
     "output_type": "stream",
     "text": [
      "\n"
     ]
    }
   ],
   "source": [
    "print(f.read())"
   ]
  },
  {
   "cell_type": "code",
   "execution_count": 31,
   "id": "1cf1d9cb-2b89-488c-96aa-86fe05e11053",
   "metadata": {},
   "outputs": [],
   "source": [
    "x=datetime.datetime.now().strftime(\"%d-%m-%Y--%I-%M-%p\")\n",
    "total_jobs=698\n",
    "total_pages=18\n",
    "with open(f'Scrapper_note__{x}.txt', 'w',encoding='utf-8') as f:\n",
    "        f.write(f'Starting Time:{datetime.datetime.now().strftime(\"%d-%m-%Y--%I-%M-%p-%S\")}\\nEnding Time:{datetime.datetime.now().strftime(\"%d-%m-%Y--%I-%M-%p-%S\")}\\nTotal Jobs:{total_jobs}\\nTotal Pages:{total_pages}')"
   ]
  },
  {
   "cell_type": "code",
   "execution_count": null,
   "id": "f92f0fc5-e38e-4bcf-99c4-ad192eb32f41",
   "metadata": {},
   "outputs": [],
   "source": []
  }
 ],
 "metadata": {
  "kernelspec": {
   "display_name": "Python 3 (ipykernel)",
   "language": "python",
   "name": "python3"
  },
  "language_info": {
   "codemirror_mode": {
    "name": "ipython",
    "version": 3
   },
   "file_extension": ".py",
   "mimetype": "text/x-python",
   "name": "python",
   "nbconvert_exporter": "python",
   "pygments_lexer": "ipython3",
   "version": "3.11.4"
  }
 },
 "nbformat": 4,
 "nbformat_minor": 5
}
