{
 "cells": [
  {
   "cell_type": "code",
   "execution_count": null,
   "id": "868caaa8-4508-42b0-a5d8-98f4675ec616",
   "metadata": {},
   "outputs": [],
   "source": [
    "path=r\"Jobs Links 26 sep to 02 oct/Linkedin_jobs_of_26_september_by_24_hours_23_pages\"\n",
    "\n",
    "dir_list = os.listdir(path)\n",
    "\n",
    "print(\"Files and directories in '\", path, \"' :\")\n",
    "\n",
    "\n",
    "print(dir_list)"
   ]
  }
 ],
 "metadata": {
  "kernelspec": {
   "display_name": "Python 3 (ipykernel)",
   "language": "python",
   "name": "python3"
  },
  "language_info": {
   "codemirror_mode": {
    "name": "ipython",
    "version": 3
   },
   "file_extension": ".py",
   "mimetype": "text/x-python",
   "name": "python",
   "nbconvert_exporter": "python",
   "pygments_lexer": "ipython3",
   "version": "3.11.4"
  }
 },
 "nbformat": 4,
 "nbformat_minor": 5
}
