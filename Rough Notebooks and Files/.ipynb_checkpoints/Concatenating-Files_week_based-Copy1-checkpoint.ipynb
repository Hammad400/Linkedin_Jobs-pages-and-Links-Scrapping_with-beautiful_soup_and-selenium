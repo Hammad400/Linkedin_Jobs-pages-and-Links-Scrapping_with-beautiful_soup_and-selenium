{
 "cells": [
  {
   "cell_type": "code",
   "execution_count": 23,
   "id": "f9c44706-1bdb-4d5b-b70d-78e27bb9b552",
   "metadata": {},
   "outputs": [],
   "source": [
    "import os\n",
    "import pandas as pd\n",
    "from datetime import datetime"
   ]
  },
  {
   "cell_type": "code",
   "execution_count": 2,
   "id": "868caaa8-4508-42b0-a5d8-98f4675ec616",
   "metadata": {},
   "outputs": [],
   "source": [
    "path=\"Not Duplicated Files/1st Week 26 Sep-02 Oct\""
   ]
  },
  {
   "cell_type": "code",
   "execution_count": 3,
   "id": "edd2f6b4-005a-41b8-abbe-8ba4f399692a",
   "metadata": {},
   "outputs": [
    {
     "data": {
      "text/plain": [
       "['Linkedin_Job_Links_01-Oct-2023_125-jobs_5-pages.csv',\n",
       " 'Linkedin_Job_Links_02-Oct-2023_360-jobs_15-pages.csv',\n",
       " 'Linkedin_Job_Links_26-Sep-2023_561-jobs_23-pages.csv',\n",
       " 'Linkedin_Job_Links_27-Sep-2023_352-jobs_18-pages.csv',\n",
       " 'Linkedin_Job_Links_28-Sep-2023_309-jobs_14-pages.csv',\n",
       " 'Linkedin_Job_Links_29-Sep-2023_239-jobs_10-pages.csv',\n",
       " 'Linkedin_Job_Links_30-Sep-2023_170-jobs_7-pages.csv']"
      ]
     },
     "execution_count": 3,
     "metadata": {},
     "output_type": "execute_result"
    }
   ],
   "source": [
    "dir_list = os.listdir(path)\n",
    "dir_list"
   ]
  },
  {
   "cell_type": "code",
   "execution_count": 8,
   "id": "13f77b33-95be-425d-93a9-3e8e8f5331f7",
   "metadata": {},
   "outputs": [
    {
     "data": {
      "text/plain": [
       "7"
      ]
     },
     "execution_count": 8,
     "metadata": {},
     "output_type": "execute_result"
    }
   ],
   "source": [
    "len(dir_list)"
   ]
  },
  {
   "cell_type": "code",
   "execution_count": 11,
   "id": "edcc2405-2592-4e43-ab7c-b6a858469be5",
   "metadata": {},
   "outputs": [
    {
     "data": {
      "text/plain": [
       "'01-Oct-2023'"
      ]
     },
     "execution_count": 11,
     "metadata": {},
     "output_type": "execute_result"
    }
   ],
   "source": [
    "dir_list[0].split('_')[3]"
   ]
  },
  {
   "cell_type": "code",
   "execution_count": 20,
   "id": "75c9136a-1d4b-4642-ab0b-0873eff74c02",
   "metadata": {},
   "outputs": [],
   "source": [
    "dates=[file.split('_')[3] for file in dir_list ]  "
   ]
  },
  {
   "cell_type": "code",
   "execution_count": 18,
   "id": "4c511be2-bd4d-4021-870e-d0b249a102ab",
   "metadata": {},
   "outputs": [],
   "source": [
    "# dates.sort(reverse=True)"
   ]
  },
  {
   "cell_type": "code",
   "execution_count": 28,
   "id": "15f164f9-16c3-48a3-9893-c12068a8435d",
   "metadata": {},
   "outputs": [
    {
     "data": {
      "text/plain": [
       "datetime.datetime(2023, 10, 1, 0, 0)"
      ]
     },
     "execution_count": 28,
     "metadata": {},
     "output_type": "execute_result"
    }
   ],
   "source": [
    "datetime.strptime('01-Oct-2023', \"%d-%b-%Y\")"
   ]
  },
  {
   "cell_type": "code",
   "execution_count": 29,
   "id": "45ee1310-9f9e-4717-8b4e-b81f11a8cc5e",
   "metadata": {},
   "outputs": [],
   "source": [
    "dates.sort(key=lambda date: datetime.strptime(date, \"%d-%b-%Y\"))"
   ]
  },
  {
   "cell_type": "code",
   "execution_count": 30,
   "id": "157b5ec3-bea3-44a9-a4d2-30957f5493ba",
   "metadata": {},
   "outputs": [
    {
     "data": {
      "text/plain": [
       "['26-Sep-2023',\n",
       " '27-Sep-2023',\n",
       " '28-Sep-2023',\n",
       " '29-Sep-2023',\n",
       " '30-Sep-2023',\n",
       " '01-Oct-2023',\n",
       " '02-Oct-2023']"
      ]
     },
     "execution_count": 30,
     "metadata": {},
     "output_type": "execute_result"
    }
   ],
   "source": [
    "dates"
   ]
  },
  {
   "cell_type": "code",
   "execution_count": null,
   "id": "64eea290-0602-4eb1-abc0-50baa18c3608",
   "metadata": {},
   "outputs": [],
   "source": [
    "file_names=[]\n",
    "for date in dates:\n",
    "    for file in dir_list:\n",
    "        if file.split('_')[3]==date:\n",
    "            \n",
    "        \n",
    "    "
   ]
  },
  {
   "cell_type": "code",
   "execution_count": 5,
   "id": "b5479ca0-82f5-46e6-b66c-1c3a6946afbe",
   "metadata": {},
   "outputs": [
    {
     "ename": "ValueError",
     "evalue": "invalid literal for int() with base 10: 's.csv'",
     "output_type": "error",
     "traceback": [
      "\u001b[1;31m---------------------------------------------------------------------------\u001b[0m",
      "\u001b[1;31mValueError\u001b[0m                                Traceback (most recent call last)",
      "Cell \u001b[1;32mIn[5], line 4\u001b[0m\n\u001b[0;32m      2\u001b[0m \u001b[38;5;28;01mfor\u001b[39;00m i \u001b[38;5;129;01min\u001b[39;00m \u001b[38;5;28mrange\u001b[39m(\u001b[38;5;241m1\u001b[39m,\u001b[38;5;28mlen\u001b[39m(dir_list)\u001b[38;5;241m+\u001b[39m\u001b[38;5;241m1\u001b[39m):\n\u001b[0;32m      3\u001b[0m     \u001b[38;5;28;01mfor\u001b[39;00m file \u001b[38;5;129;01min\u001b[39;00m dir_list:\n\u001b[1;32m----> 4\u001b[0m         \u001b[38;5;28;01mif\u001b[39;00m \u001b[38;5;28;43mint\u001b[39;49m\u001b[43m(\u001b[49m\u001b[43mfile\u001b[49m\u001b[38;5;241;43m.\u001b[39;49m\u001b[43msplit\u001b[49m\u001b[43m(\u001b[49m\u001b[38;5;124;43m'\u001b[39;49m\u001b[38;5;124;43mpage\u001b[39;49m\u001b[38;5;124;43m'\u001b[39;49m\u001b[43m)\u001b[49m\u001b[43m[\u001b[49m\u001b[38;5;241;43m1\u001b[39;49m\u001b[43m]\u001b[49m\u001b[38;5;241;43m.\u001b[39;49m\u001b[43msplit\u001b[49m\u001b[43m(\u001b[49m\u001b[38;5;124;43m'\u001b[39;49m\u001b[38;5;124;43m_\u001b[39;49m\u001b[38;5;124;43m'\u001b[39;49m\u001b[43m)\u001b[49m\u001b[43m[\u001b[49m\u001b[38;5;241;43m0\u001b[39;49m\u001b[43m]\u001b[49m\u001b[38;5;241;43m.\u001b[39;49m\u001b[43mstrip\u001b[49m\u001b[43m(\u001b[49m\u001b[38;5;124;43m'\u001b[39;49m\u001b[38;5;124;43m-\u001b[39;49m\u001b[38;5;124;43m'\u001b[39;49m\u001b[43m)\u001b[49m\u001b[43m)\u001b[49m\u001b[38;5;241m==\u001b[39mi:\n\u001b[0;32m      5\u001b[0m             file_names\u001b[38;5;241m.\u001b[39mappend(file)\n\u001b[0;32m      6\u001b[0m file_names    \n",
      "\u001b[1;31mValueError\u001b[0m: invalid literal for int() with base 10: 's.csv'"
     ]
    }
   ],
   "source": [
    "file_names=[]\n",
    "for i in range(1,len(dir_list)+1):\n",
    "    for file in dir_list:\n",
    "        if int(file.split('page')[1].split('_')[0].strip('-'))==i:\n",
    "            file_names.append(file)\n",
    "file_names    "
   ]
  },
  {
   "cell_type": "code",
   "execution_count": 35,
   "id": "68769be6-78cd-4e62-a70b-a4b70a8bc5c5",
   "metadata": {},
   "outputs": [],
   "source": [
    "df_concat=None\n",
    "for file in file_names:\n",
    "    df=pd.read_csv(path+'/'+file)\n",
    "    df_concat=pd.concat([df_concat,df],ignore_index=True)    "
   ]
  },
  {
   "cell_type": "code",
   "execution_count": 36,
   "id": "68e7c70d-4b04-4985-ac76-7c1b370a2972",
   "metadata": {},
   "outputs": [
    {
     "data": {
      "text/html": [
       "<div>\n",
       "<style scoped>\n",
       "    .dataframe tbody tr th:only-of-type {\n",
       "        vertical-align: middle;\n",
       "    }\n",
       "\n",
       "    .dataframe tbody tr th {\n",
       "        vertical-align: top;\n",
       "    }\n",
       "\n",
       "    .dataframe thead th {\n",
       "        text-align: right;\n",
       "    }\n",
       "</style>\n",
       "<table border=\"1\" class=\"dataframe\">\n",
       "  <thead>\n",
       "    <tr style=\"text-align: right;\">\n",
       "      <th></th>\n",
       "      <th>Job Title</th>\n",
       "      <th>Job ID</th>\n",
       "      <th>Job Link</th>\n",
       "    </tr>\n",
       "  </thead>\n",
       "  <tbody>\n",
       "    <tr>\n",
       "      <th>0</th>\n",
       "      <td>Product Owner</td>\n",
       "      <td>3727338724</td>\n",
       "      <td>https://www.linkedin.com/jobs/view/3727338724/...</td>\n",
       "    </tr>\n",
       "    <tr>\n",
       "      <th>1</th>\n",
       "      <td>IT Asset Management Specialist</td>\n",
       "      <td>3727081512</td>\n",
       "      <td>https://www.linkedin.com/jobs/view/3727081512/...</td>\n",
       "    </tr>\n",
       "    <tr>\n",
       "      <th>2</th>\n",
       "      <td>Antifraud Specialist</td>\n",
       "      <td>3724313818</td>\n",
       "      <td>https://www.linkedin.com/jobs/view/3724313818/...</td>\n",
       "    </tr>\n",
       "    <tr>\n",
       "      <th>3</th>\n",
       "      <td>Database Operations and Administration Specialist</td>\n",
       "      <td>3727026060</td>\n",
       "      <td>https://www.linkedin.com/jobs/view/3727026060/...</td>\n",
       "    </tr>\n",
       "    <tr>\n",
       "      <th>4</th>\n",
       "      <td>Data Anotator - English</td>\n",
       "      <td>3728856063</td>\n",
       "      <td>https://www.linkedin.com/jobs/view/3728856063/...</td>\n",
       "    </tr>\n",
       "    <tr>\n",
       "      <th>...</th>\n",
       "      <td>...</td>\n",
       "      <td>...</td>\n",
       "      <td>...</td>\n",
       "    </tr>\n",
       "    <tr>\n",
       "      <th>554</th>\n",
       "      <td>Full-Stack Developer</td>\n",
       "      <td>3727540226</td>\n",
       "      <td>https://www.linkedin.com/jobs/view/3727540226/...</td>\n",
       "    </tr>\n",
       "    <tr>\n",
       "      <th>555</th>\n",
       "      <td>Country Preparedness &amp; IHR (CPI) Officer</td>\n",
       "      <td>3727803898</td>\n",
       "      <td>https://www.linkedin.com/jobs/view/3727803898/...</td>\n",
       "    </tr>\n",
       "    <tr>\n",
       "      <th>556</th>\n",
       "      <td>Senior Database Developer / DBA</td>\n",
       "      <td>3726603929</td>\n",
       "      <td>https://www.linkedin.com/jobs/view/3726603929/...</td>\n",
       "    </tr>\n",
       "    <tr>\n",
       "      <th>557</th>\n",
       "      <td>Full Stack Engineer</td>\n",
       "      <td>3728213291</td>\n",
       "      <td>https://www.linkedin.com/jobs/view/3728213291/...</td>\n",
       "    </tr>\n",
       "    <tr>\n",
       "      <th>558</th>\n",
       "      <td>C++ Software Engineer II</td>\n",
       "      <td>3695168918</td>\n",
       "      <td>https://www.linkedin.com/jobs/view/3695168918/...</td>\n",
       "    </tr>\n",
       "  </tbody>\n",
       "</table>\n",
       "<p>559 rows × 3 columns</p>\n",
       "</div>"
      ],
      "text/plain": [
       "                                             Job Title      Job ID  \\\n",
       "0                                        Product Owner  3727338724   \n",
       "1                       IT Asset Management Specialist  3727081512   \n",
       "2                                 Antifraud Specialist  3724313818   \n",
       "3    Database Operations and Administration Specialist  3727026060   \n",
       "4                              Data Anotator - English  3728856063   \n",
       "..                                                 ...         ...   \n",
       "554                               Full-Stack Developer  3727540226   \n",
       "555           Country Preparedness & IHR (CPI) Officer  3727803898   \n",
       "556                    Senior Database Developer / DBA  3726603929   \n",
       "557                                Full Stack Engineer  3728213291   \n",
       "558                           C++ Software Engineer II  3695168918   \n",
       "\n",
       "                                              Job Link  \n",
       "0    https://www.linkedin.com/jobs/view/3727338724/...  \n",
       "1    https://www.linkedin.com/jobs/view/3727081512/...  \n",
       "2    https://www.linkedin.com/jobs/view/3724313818/...  \n",
       "3    https://www.linkedin.com/jobs/view/3727026060/...  \n",
       "4    https://www.linkedin.com/jobs/view/3728856063/...  \n",
       "..                                                 ...  \n",
       "554  https://www.linkedin.com/jobs/view/3727540226/...  \n",
       "555  https://www.linkedin.com/jobs/view/3727803898/...  \n",
       "556  https://www.linkedin.com/jobs/view/3726603929/...  \n",
       "557  https://www.linkedin.com/jobs/view/3728213291/...  \n",
       "558  https://www.linkedin.com/jobs/view/3695168918/...  \n",
       "\n",
       "[559 rows x 3 columns]"
      ]
     },
     "execution_count": 36,
     "metadata": {},
     "output_type": "execute_result"
    }
   ],
   "source": [
    "df_concat"
   ]
  },
  {
   "cell_type": "code",
   "execution_count": 37,
   "id": "c440ff55-8320-491d-94a2-1da1ebcb9cef",
   "metadata": {},
   "outputs": [
    {
     "data": {
      "text/plain": [
       "559"
      ]
     },
     "execution_count": 37,
     "metadata": {},
     "output_type": "execute_result"
    }
   ],
   "source": [
    "total_records=0\n",
    "for file in file_names:\n",
    "    total_records=total_records+int(file.split('__')[2].strip('.csv'))\n",
    "total_records"
   ]
  },
  {
   "cell_type": "code",
   "execution_count": 38,
   "id": "981d25ae-2bae-46d7-8f83-437835bb35c4",
   "metadata": {},
   "outputs": [
    {
     "data": {
      "text/plain": [
       "559"
      ]
     },
     "execution_count": 38,
     "metadata": {},
     "output_type": "execute_result"
    }
   ],
   "source": [
    "len(df_concat)"
   ]
  },
  {
   "cell_type": "code",
   "execution_count": 42,
   "id": "4dfdc697-f2b0-4df9-ac6a-42cbcae86993",
   "metadata": {},
   "outputs": [
    {
     "data": {
      "text/plain": [
       "'Concatenated files/2nd Week 03 Oct-09 Oct/'"
      ]
     },
     "execution_count": 42,
     "metadata": {},
     "output_type": "execute_result"
    }
   ],
   "source": [
    "folder_path='Concatenated files/2nd Week 03 Oct-09 Oct/'\n",
    "folder_path"
   ]
  },
  {
   "cell_type": "code",
   "execution_count": 40,
   "id": "fc2f7c34-f6f2-477b-8a09-f2f77e32759b",
   "metadata": {},
   "outputs": [],
   "source": [
    "df_concat.to_csv(folder_path+f'Linkedin_Job_Links_01-Oct-2023_{len(df_concat)}-jobs_{len(file_names)}-pages.csv',index=False)"
   ]
  },
  {
   "cell_type": "code",
   "execution_count": null,
   "id": "15042d9b-fe23-431c-8632-9d1c0904f66c",
   "metadata": {},
   "outputs": [],
   "source": []
  }
 ],
 "metadata": {
  "kernelspec": {
   "display_name": "Python 3 (ipykernel)",
   "language": "python",
   "name": "python3"
  },
  "language_info": {
   "codemirror_mode": {
    "name": "ipython",
    "version": 3
   },
   "file_extension": ".py",
   "mimetype": "text/x-python",
   "name": "python",
   "nbconvert_exporter": "python",
   "pygments_lexer": "ipython3",
   "version": "3.11.4"
  }
 },
 "nbformat": 4,
 "nbformat_minor": 5
}
