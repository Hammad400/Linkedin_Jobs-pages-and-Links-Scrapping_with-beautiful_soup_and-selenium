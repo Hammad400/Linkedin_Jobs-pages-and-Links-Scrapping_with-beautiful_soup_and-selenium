{
 "cells": [
  {
   "cell_type": "code",
   "execution_count": 8,
   "id": "81ac062a-82c7-49ee-b287-c219641155b6",
   "metadata": {},
   "outputs": [],
   "source": [
    "import pandas as pd\n",
    "import numpy as np"
   ]
  },
  {
   "cell_type": "code",
   "execution_count": 9,
   "id": "33d8abb1-a617-4557-b98f-5951966001a2",
   "metadata": {},
   "outputs": [],
   "source": [
    "path='Concatenated files/1st Week 26 Sep-02 Oct/Linkedin_Job_Links_27-Sep-2023_430-jobs_18-pages.csv'"
   ]
  },
  {
   "cell_type": "code",
   "execution_count": 10,
   "id": "ea083d0e-c886-4620-a6b3-778654b7f58b",
   "metadata": {},
   "outputs": [],
   "source": [
    "df=pd.read_csv(path)"
   ]
  },
  {
   "cell_type": "code",
   "execution_count": 11,
   "id": "3fcc5547-6d25-4924-a540-95e753ee99f0",
   "metadata": {},
   "outputs": [
    {
     "data": {
      "text/html": [
       "<div>\n",
       "<style scoped>\n",
       "    .dataframe tbody tr th:only-of-type {\n",
       "        vertical-align: middle;\n",
       "    }\n",
       "\n",
       "    .dataframe tbody tr th {\n",
       "        vertical-align: top;\n",
       "    }\n",
       "\n",
       "    .dataframe thead th {\n",
       "        text-align: right;\n",
       "    }\n",
       "</style>\n",
       "<table border=\"1\" class=\"dataframe\">\n",
       "  <thead>\n",
       "    <tr style=\"text-align: right;\">\n",
       "      <th></th>\n",
       "      <th>Job Title</th>\n",
       "      <th>Job Link</th>\n",
       "      <th>Job ID</th>\n",
       "    </tr>\n",
       "  </thead>\n",
       "  <tbody>\n",
       "    <tr>\n",
       "      <th>0</th>\n",
       "      <td>Data Annotator</td>\n",
       "      <td>https://www.linkedin.com/jobs/view/3727535445/...</td>\n",
       "      <td>3727535445</td>\n",
       "    </tr>\n",
       "    <tr>\n",
       "      <th>1</th>\n",
       "      <td>PowerBi Data Analyst</td>\n",
       "      <td>https://www.linkedin.com/jobs/view/3725544721/...</td>\n",
       "      <td>3725544721</td>\n",
       "    </tr>\n",
       "    <tr>\n",
       "      <th>2</th>\n",
       "      <td>Analyst - EMEA</td>\n",
       "      <td>https://www.linkedin.com/jobs/view/3697131076/...</td>\n",
       "      <td>3697131076</td>\n",
       "    </tr>\n",
       "    <tr>\n",
       "      <th>3</th>\n",
       "      <td>Email Copywriter/Strategist</td>\n",
       "      <td>https://www.linkedin.com/jobs/view/3723056673/...</td>\n",
       "      <td>3723056673</td>\n",
       "    </tr>\n",
       "    <tr>\n",
       "      <th>4</th>\n",
       "      <td>Fresh Telecom Intern</td>\n",
       "      <td>https://www.linkedin.com/jobs/view/3727538999/...</td>\n",
       "      <td>3727538999</td>\n",
       "    </tr>\n",
       "    <tr>\n",
       "      <th>...</th>\n",
       "      <td>...</td>\n",
       "      <td>...</td>\n",
       "      <td>...</td>\n",
       "    </tr>\n",
       "    <tr>\n",
       "      <th>425</th>\n",
       "      <td>Senior Dotnet Developer</td>\n",
       "      <td>https://www.linkedin.com/jobs/view/3727398144/...</td>\n",
       "      <td>3727398144</td>\n",
       "    </tr>\n",
       "    <tr>\n",
       "      <th>426</th>\n",
       "      <td>Senior MEAN/MERN Developer</td>\n",
       "      <td>https://www.linkedin.com/jobs/view/3727507538/...</td>\n",
       "      <td>3727507538</td>\n",
       "    </tr>\n",
       "    <tr>\n",
       "      <th>427</th>\n",
       "      <td>Senior 3D Artist</td>\n",
       "      <td>https://www.linkedin.com/jobs/view/3727502311/...</td>\n",
       "      <td>3727502311</td>\n",
       "    </tr>\n",
       "    <tr>\n",
       "      <th>428</th>\n",
       "      <td>Cardiac Catheterization Laboratory Technologist</td>\n",
       "      <td>https://www.linkedin.com/jobs/view/3727372921/...</td>\n",
       "      <td>3727372921</td>\n",
       "    </tr>\n",
       "    <tr>\n",
       "      <th>429</th>\n",
       "      <td>Sr. Storyboard Artist</td>\n",
       "      <td>https://www.linkedin.com/jobs/view/3727544393/...</td>\n",
       "      <td>3727544393</td>\n",
       "    </tr>\n",
       "  </tbody>\n",
       "</table>\n",
       "<p>430 rows × 3 columns</p>\n",
       "</div>"
      ],
      "text/plain": [
       "                                           Job Title  \\\n",
       "0                                     Data Annotator   \n",
       "1                               PowerBi Data Analyst   \n",
       "2                                     Analyst - EMEA   \n",
       "3                        Email Copywriter/Strategist   \n",
       "4                               Fresh Telecom Intern   \n",
       "..                                               ...   \n",
       "425                          Senior Dotnet Developer   \n",
       "426                       Senior MEAN/MERN Developer   \n",
       "427                                 Senior 3D Artist   \n",
       "428  Cardiac Catheterization Laboratory Technologist   \n",
       "429                            Sr. Storyboard Artist   \n",
       "\n",
       "                                              Job Link      Job ID  \n",
       "0    https://www.linkedin.com/jobs/view/3727535445/...  3727535445  \n",
       "1    https://www.linkedin.com/jobs/view/3725544721/...  3725544721  \n",
       "2    https://www.linkedin.com/jobs/view/3697131076/...  3697131076  \n",
       "3    https://www.linkedin.com/jobs/view/3723056673/...  3723056673  \n",
       "4    https://www.linkedin.com/jobs/view/3727538999/...  3727538999  \n",
       "..                                                 ...         ...  \n",
       "425  https://www.linkedin.com/jobs/view/3727398144/...  3727398144  \n",
       "426  https://www.linkedin.com/jobs/view/3727507538/...  3727507538  \n",
       "427  https://www.linkedin.com/jobs/view/3727502311/...  3727502311  \n",
       "428  https://www.linkedin.com/jobs/view/3727372921/...  3727372921  \n",
       "429  https://www.linkedin.com/jobs/view/3727544393/...  3727544393  \n",
       "\n",
       "[430 rows x 3 columns]"
      ]
     },
     "execution_count": 11,
     "metadata": {},
     "output_type": "execute_result"
    }
   ],
   "source": [
    "df"
   ]
  },
  {
   "cell_type": "code",
   "execution_count": 13,
   "id": "ef2bd986-a157-46a1-83b8-4bef0c56e5d2",
   "metadata": {},
   "outputs": [
    {
     "data": {
      "text/plain": [
       "430"
      ]
     },
     "execution_count": 13,
     "metadata": {},
     "output_type": "execute_result"
    }
   ],
   "source": [
    "len(df)"
   ]
  },
  {
   "cell_type": "code",
   "execution_count": 12,
   "id": "f46f8835-2357-40fe-a25f-9ef307238a00",
   "metadata": {},
   "outputs": [
    {
     "data": {
      "text/plain": [
       "352"
      ]
     },
     "execution_count": 12,
     "metadata": {},
     "output_type": "execute_result"
    }
   ],
   "source": [
    "len(df['Job ID'].unique())"
   ]
  },
  {
   "cell_type": "code",
   "execution_count": 15,
   "id": "d42ba0aa-3827-487c-9281-8fec09ba9627",
   "metadata": {},
   "outputs": [
    {
     "data": {
      "text/plain": [
       "Job Title    3\n",
       "Job Link     0\n",
       "Job ID       0\n",
       "dtype: int64"
      ]
     },
     "execution_count": 15,
     "metadata": {},
     "output_type": "execute_result"
    }
   ],
   "source": [
    "df.isnull().sum()"
   ]
  },
  {
   "cell_type": "code",
   "execution_count": 24,
   "id": "0c6a13eb-f470-450d-bc4b-708004f0f8c1",
   "metadata": {},
   "outputs": [
    {
     "data": {
      "text/plain": [
       "Job ID\n",
       "3727542561    4\n",
       "3727399468    4\n",
       "3727531252    4\n",
       "3726896682    4\n",
       "3727369752    4\n",
       "             ..\n",
       "3727521979    1\n",
       "3727367883    1\n",
       "3630755338    1\n",
       "3727396138    1\n",
       "3727544393    1\n",
       "Name: count, Length: 352, dtype: int64"
      ]
     },
     "execution_count": 24,
     "metadata": {},
     "output_type": "execute_result"
    }
   ],
   "source": [
    "df['Job ID'].value_counts()"
   ]
  },
  {
   "cell_type": "code",
   "execution_count": 34,
   "id": "f28a1ea2-97dc-4227-ad96-5dca90ac6bdf",
   "metadata": {},
   "outputs": [
    {
     "data": {
      "text/plain": [
       "array([4, 1], dtype=int64)"
      ]
     },
     "execution_count": 34,
     "metadata": {},
     "output_type": "execute_result"
    }
   ],
   "source": [
    "df['Job ID'].value_counts().unique()"
   ]
  },
  {
   "cell_type": "code",
   "execution_count": 26,
   "id": "74d5b1f2-2856-453c-91bf-c880b5d0e542",
   "metadata": {},
   "outputs": [
    {
     "data": {
      "text/plain": [
       "Job ID\n",
       "3727542561    4\n",
       "3727399468    4\n",
       "3727531252    4\n",
       "3726896682    4\n",
       "3727369752    4\n",
       "3727505861    4\n",
       "3727538965    4\n",
       "3727394723    4\n",
       "3727508822    4\n",
       "3727370414    4\n",
       "3727539497    4\n",
       "3727370416    4\n",
       "3693921215    4\n",
       "3727520777    4\n",
       "3727518653    4\n",
       "3726680162    4\n",
       "3727366938    4\n",
       "3727507551    4\n",
       "3727529651    4\n",
       "3726334631    4\n",
       "3727540146    4\n",
       "3727395196    4\n",
       "3727370490    4\n",
       "3727543480    4\n",
       "3727068586    4\n",
       "3727511782    4\n",
       "3728605671    1\n",
       "3728790371    1\n",
       "3727557655    1\n",
       "3728786703    1\n",
       "3727544104    1\n",
       "3727534873    1\n",
       "3727370435    1\n",
       "3723298344    1\n",
       "3727520388    1\n",
       "3727518619    1\n",
       "3727536315    1\n",
       "3727547219    1\n",
       "3727064967    1\n",
       "3727508902    1\n",
       "3727319068    1\n",
       "3727539678    1\n",
       "3727066470    1\n",
       "3727512115    1\n",
       "3727555018    1\n",
       "3679509233    1\n",
       "3727374000    1\n",
       "3727506590    1\n",
       "3727543091    1\n",
       "3728613178    1\n",
       "Name: count, dtype: int64"
      ]
     },
     "execution_count": 26,
     "metadata": {},
     "output_type": "execute_result"
    }
   ],
   "source": [
    "df['Job ID'].value_counts()[:50]"
   ]
  },
  {
   "cell_type": "code",
   "execution_count": 50,
   "id": "39e37bea-c137-496e-b0b9-91ea44ceaeb2",
   "metadata": {},
   "outputs": [
    {
     "data": {
      "text/plain": [
       "Job ID\n",
       "3727542561     True\n",
       "3727399468     True\n",
       "3727531252     True\n",
       "3726896682     True\n",
       "3727369752     True\n",
       "              ...  \n",
       "3727521979    False\n",
       "3727367883    False\n",
       "3630755338    False\n",
       "3727396138    False\n",
       "3727544393    False\n",
       "Name: count, Length: 352, dtype: bool"
      ]
     },
     "execution_count": 50,
     "metadata": {},
     "output_type": "execute_result"
    }
   ],
   "source": [
    "df['Job ID'].value_counts()==4"
   ]
  },
  {
   "cell_type": "code",
   "execution_count": 33,
   "id": "c4eb00ee-0257-4dc7-96d4-1533c0bed756",
   "metadata": {},
   "outputs": [
    {
     "data": {
      "text/plain": [
       "count\n",
       "1    326\n",
       "4     26\n",
       "Name: count, dtype: int64"
      ]
     },
     "execution_count": 33,
     "metadata": {},
     "output_type": "execute_result"
    }
   ],
   "source": [
    "df['Job ID'].value_counts().value_counts()"
   ]
  },
  {
   "cell_type": "code",
   "execution_count": 53,
   "id": "9b231bd1-688d-4655-8172-0510d74c72c4",
   "metadata": {},
   "outputs": [
    {
     "data": {
      "text/plain": [
       "4"
      ]
     },
     "execution_count": 53,
     "metadata": {},
     "output_type": "execute_result"
    }
   ],
   "source": [
    "df['Job ID'].value_counts()[3727542561]"
   ]
  },
  {
   "cell_type": "code",
   "execution_count": 54,
   "id": "1befd91f-c903-4f98-8c77-fbbc0b8f986b",
   "metadata": {},
   "outputs": [],
   "source": [
    "Duplicated_Ids=[]\n",
    "for id in df['Job ID'].unique():\n",
    "    if df['Job ID'].value_counts()[id]==4:\n",
    "        Duplicated_Ids.append(id)"
   ]
  },
  {
   "cell_type": "code",
   "execution_count": 74,
   "id": "c0e25715-4b58-4cd5-be12-8d505edc6c9a",
   "metadata": {},
   "outputs": [
    {
     "data": {
      "text/html": [
       "<div>\n",
       "<style scoped>\n",
       "    .dataframe tbody tr th:only-of-type {\n",
       "        vertical-align: middle;\n",
       "    }\n",
       "\n",
       "    .dataframe tbody tr th {\n",
       "        vertical-align: top;\n",
       "    }\n",
       "\n",
       "    .dataframe thead th {\n",
       "        text-align: right;\n",
       "    }\n",
       "</style>\n",
       "<table border=\"1\" class=\"dataframe\">\n",
       "  <thead>\n",
       "    <tr style=\"text-align: right;\">\n",
       "      <th></th>\n",
       "      <th>Job Title</th>\n",
       "      <th>Job Link</th>\n",
       "      <th>Job ID</th>\n",
       "    </tr>\n",
       "  </thead>\n",
       "  <tbody>\n",
       "    <tr>\n",
       "      <th>305</th>\n",
       "      <td>Senior Sales Account Manager</td>\n",
       "      <td>https://www.linkedin.com/jobs/view/3727542561/...</td>\n",
       "      <td>3727542561</td>\n",
       "    </tr>\n",
       "    <tr>\n",
       "      <th>330</th>\n",
       "      <td>Senior Sales Account Manager</td>\n",
       "      <td>https://www.linkedin.com/jobs/view/3727542561/...</td>\n",
       "      <td>3727542561</td>\n",
       "    </tr>\n",
       "    <tr>\n",
       "      <th>355</th>\n",
       "      <td>Senior Sales Account Manager</td>\n",
       "      <td>https://www.linkedin.com/jobs/view/3727542561/...</td>\n",
       "      <td>3727542561</td>\n",
       "    </tr>\n",
       "    <tr>\n",
       "      <th>380</th>\n",
       "      <td>Senior Sales Account Manager</td>\n",
       "      <td>https://www.linkedin.com/jobs/view/3727542561/...</td>\n",
       "      <td>3727542561</td>\n",
       "    </tr>\n",
       "  </tbody>\n",
       "</table>\n",
       "</div>"
      ],
      "text/plain": [
       "                        Job Title  \\\n",
       "305  Senior Sales Account Manager   \n",
       "330  Senior Sales Account Manager   \n",
       "355  Senior Sales Account Manager   \n",
       "380  Senior Sales Account Manager   \n",
       "\n",
       "                                              Job Link      Job ID  \n",
       "305  https://www.linkedin.com/jobs/view/3727542561/...  3727542561  \n",
       "330  https://www.linkedin.com/jobs/view/3727542561/...  3727542561  \n",
       "355  https://www.linkedin.com/jobs/view/3727542561/...  3727542561  \n",
       "380  https://www.linkedin.com/jobs/view/3727542561/...  3727542561  "
      ]
     },
     "execution_count": 74,
     "metadata": {},
     "output_type": "execute_result"
    }
   ],
   "source": [
    "df[df['Job ID']==3727542561]"
   ]
  },
  {
   "cell_type": "code",
   "execution_count": 77,
   "id": "595edefc-e16a-4e60-8b30-d713c044da8a",
   "metadata": {},
   "outputs": [
    {
     "data": {
      "text/html": [
       "<div>\n",
       "<style scoped>\n",
       "    .dataframe tbody tr th:only-of-type {\n",
       "        vertical-align: middle;\n",
       "    }\n",
       "\n",
       "    .dataframe tbody tr th {\n",
       "        vertical-align: top;\n",
       "    }\n",
       "\n",
       "    .dataframe thead th {\n",
       "        text-align: right;\n",
       "    }\n",
       "</style>\n",
       "<table border=\"1\" class=\"dataframe\">\n",
       "  <thead>\n",
       "    <tr style=\"text-align: right;\">\n",
       "      <th></th>\n",
       "      <th>Job Title</th>\n",
       "      <th>Job Link</th>\n",
       "      <th>Job ID</th>\n",
       "    </tr>\n",
       "  </thead>\n",
       "  <tbody>\n",
       "    <tr>\n",
       "      <th>214</th>\n",
       "      <td>Linkedin Marketing Specialist</td>\n",
       "      <td>https://www.linkedin.com/jobs/view/3727511782/...</td>\n",
       "      <td>3727511782</td>\n",
       "    </tr>\n",
       "    <tr>\n",
       "      <th>215</th>\n",
       "      <td>NaN</td>\n",
       "      <td>https://www.linkedin.com/jobs/view/3727511782/...</td>\n",
       "      <td>3727511782</td>\n",
       "    </tr>\n",
       "    <tr>\n",
       "      <th>216</th>\n",
       "      <td>NaN</td>\n",
       "      <td>https://www.linkedin.com/jobs/view/3727511782/...</td>\n",
       "      <td>3727511782</td>\n",
       "    </tr>\n",
       "    <tr>\n",
       "      <th>217</th>\n",
       "      <td>NaN</td>\n",
       "      <td>https://www.linkedin.com/jobs/view/3727511782/...</td>\n",
       "      <td>3727511782</td>\n",
       "    </tr>\n",
       "    <tr>\n",
       "      <th>298</th>\n",
       "      <td>Hybrid QA for financial software</td>\n",
       "      <td>https://www.linkedin.com/jobs/view/3727543480/...</td>\n",
       "      <td>3727543480</td>\n",
       "    </tr>\n",
       "    <tr>\n",
       "      <th>...</th>\n",
       "      <td>...</td>\n",
       "      <td>...</td>\n",
       "      <td>...</td>\n",
       "    </tr>\n",
       "    <tr>\n",
       "      <th>393</th>\n",
       "      <td>Principal Engineer, Trilogy (Remote) - $100,00...</td>\n",
       "      <td>https://www.linkedin.com/jobs/view/3727369752/...</td>\n",
       "      <td>3727369752</td>\n",
       "    </tr>\n",
       "    <tr>\n",
       "      <th>394</th>\n",
       "      <td>NetSuite Functional Consultant</td>\n",
       "      <td>https://www.linkedin.com/jobs/view/3726896682/...</td>\n",
       "      <td>3726896682</td>\n",
       "    </tr>\n",
       "    <tr>\n",
       "      <th>395</th>\n",
       "      <td>React Native Developer</td>\n",
       "      <td>https://www.linkedin.com/jobs/view/3727531252/...</td>\n",
       "      <td>3727531252</td>\n",
       "    </tr>\n",
       "    <tr>\n",
       "      <th>396</th>\n",
       "      <td>Sales Manager</td>\n",
       "      <td>https://www.linkedin.com/jobs/view/3727068586/...</td>\n",
       "      <td>3727068586</td>\n",
       "    </tr>\n",
       "    <tr>\n",
       "      <th>397</th>\n",
       "      <td>Technical Lead</td>\n",
       "      <td>https://www.linkedin.com/jobs/view/3727520777/...</td>\n",
       "      <td>3727520777</td>\n",
       "    </tr>\n",
       "  </tbody>\n",
       "</table>\n",
       "<p>104 rows × 3 columns</p>\n",
       "</div>"
      ],
      "text/plain": [
       "                                             Job Title  \\\n",
       "214                      Linkedin Marketing Specialist   \n",
       "215                                                NaN   \n",
       "216                                                NaN   \n",
       "217                                                NaN   \n",
       "298                   Hybrid QA for financial software   \n",
       "..                                                 ...   \n",
       "393  Principal Engineer, Trilogy (Remote) - $100,00...   \n",
       "394                     NetSuite Functional Consultant   \n",
       "395                             React Native Developer   \n",
       "396                                      Sales Manager   \n",
       "397                                     Technical Lead   \n",
       "\n",
       "                                              Job Link      Job ID  \n",
       "214  https://www.linkedin.com/jobs/view/3727511782/...  3727511782  \n",
       "215  https://www.linkedin.com/jobs/view/3727511782/...  3727511782  \n",
       "216  https://www.linkedin.com/jobs/view/3727511782/...  3727511782  \n",
       "217  https://www.linkedin.com/jobs/view/3727511782/...  3727511782  \n",
       "298  https://www.linkedin.com/jobs/view/3727543480/...  3727543480  \n",
       "..                                                 ...         ...  \n",
       "393  https://www.linkedin.com/jobs/view/3727369752/...  3727369752  \n",
       "394  https://www.linkedin.com/jobs/view/3726896682/...  3726896682  \n",
       "395  https://www.linkedin.com/jobs/view/3727531252/...  3727531252  \n",
       "396  https://www.linkedin.com/jobs/view/3727068586/...  3727068586  \n",
       "397  https://www.linkedin.com/jobs/view/3727520777/...  3727520777  \n",
       "\n",
       "[104 rows x 3 columns]"
      ]
     },
     "execution_count": 77,
     "metadata": {},
     "output_type": "execute_result"
    }
   ],
   "source": [
    "df_duplicated=df[df['Job ID'].isin(Duplicated_Ids)]\n",
    "df_duplicated"
   ]
  },
  {
   "cell_type": "code",
   "execution_count": 78,
   "id": "59656598-a9e3-44b8-8ab4-f0be4157b54d",
   "metadata": {},
   "outputs": [
    {
     "data": {
      "text/plain": [
       "104"
      ]
     },
     "execution_count": 78,
     "metadata": {},
     "output_type": "execute_result"
    }
   ],
   "source": [
    "len(df_duplicated)"
   ]
  },
  {
   "cell_type": "code",
   "execution_count": 86,
   "id": "3646b18e-2cf4-41f8-92ef-75a78fd86aa9",
   "metadata": {},
   "outputs": [
    {
     "data": {
      "text/html": [
       "<div>\n",
       "<style scoped>\n",
       "    .dataframe tbody tr th:only-of-type {\n",
       "        vertical-align: middle;\n",
       "    }\n",
       "\n",
       "    .dataframe tbody tr th {\n",
       "        vertical-align: top;\n",
       "    }\n",
       "\n",
       "    .dataframe thead th {\n",
       "        text-align: right;\n",
       "    }\n",
       "</style>\n",
       "<table border=\"1\" class=\"dataframe\">\n",
       "  <thead>\n",
       "    <tr style=\"text-align: right;\">\n",
       "      <th></th>\n",
       "      <th>Job Title</th>\n",
       "      <th>Job Link</th>\n",
       "      <th>Job ID</th>\n",
       "    </tr>\n",
       "  </thead>\n",
       "  <tbody>\n",
       "    <tr>\n",
       "      <th>216</th>\n",
       "      <td>NaN</td>\n",
       "      <td>https://www.linkedin.com/jobs/view/3727511782/...</td>\n",
       "      <td>3727511782</td>\n",
       "    </tr>\n",
       "    <tr>\n",
       "      <th>217</th>\n",
       "      <td>NaN</td>\n",
       "      <td>https://www.linkedin.com/jobs/view/3727511782/...</td>\n",
       "      <td>3727511782</td>\n",
       "    </tr>\n",
       "    <tr>\n",
       "      <th>323</th>\n",
       "      <td>Hybrid QA for financial software</td>\n",
       "      <td>https://www.linkedin.com/jobs/view/3727543480/...</td>\n",
       "      <td>3727543480</td>\n",
       "    </tr>\n",
       "    <tr>\n",
       "      <th>324</th>\n",
       "      <td>Software Engineer with AI Tooling Expertise, S...</td>\n",
       "      <td>https://www.linkedin.com/jobs/view/3727370490/...</td>\n",
       "      <td>3727370490</td>\n",
       "    </tr>\n",
       "    <tr>\n",
       "      <th>325</th>\n",
       "      <td>Sales Agent or Truck Dispatcher US Based Call ...</td>\n",
       "      <td>https://www.linkedin.com/jobs/view/3727395196/...</td>\n",
       "      <td>3727395196</td>\n",
       "    </tr>\n",
       "    <tr>\n",
       "      <th>...</th>\n",
       "      <td>...</td>\n",
       "      <td>...</td>\n",
       "      <td>...</td>\n",
       "    </tr>\n",
       "    <tr>\n",
       "      <th>393</th>\n",
       "      <td>Principal Engineer, Trilogy (Remote) - $100,00...</td>\n",
       "      <td>https://www.linkedin.com/jobs/view/3727369752/...</td>\n",
       "      <td>3727369752</td>\n",
       "    </tr>\n",
       "    <tr>\n",
       "      <th>394</th>\n",
       "      <td>NetSuite Functional Consultant</td>\n",
       "      <td>https://www.linkedin.com/jobs/view/3726896682/...</td>\n",
       "      <td>3726896682</td>\n",
       "    </tr>\n",
       "    <tr>\n",
       "      <th>395</th>\n",
       "      <td>React Native Developer</td>\n",
       "      <td>https://www.linkedin.com/jobs/view/3727531252/...</td>\n",
       "      <td>3727531252</td>\n",
       "    </tr>\n",
       "    <tr>\n",
       "      <th>396</th>\n",
       "      <td>Sales Manager</td>\n",
       "      <td>https://www.linkedin.com/jobs/view/3727068586/...</td>\n",
       "      <td>3727068586</td>\n",
       "    </tr>\n",
       "    <tr>\n",
       "      <th>397</th>\n",
       "      <td>Technical Lead</td>\n",
       "      <td>https://www.linkedin.com/jobs/view/3727520777/...</td>\n",
       "      <td>3727520777</td>\n",
       "    </tr>\n",
       "  </tbody>\n",
       "</table>\n",
       "<p>77 rows × 3 columns</p>\n",
       "</div>"
      ],
      "text/plain": [
       "                                             Job Title  \\\n",
       "216                                                NaN   \n",
       "217                                                NaN   \n",
       "323                   Hybrid QA for financial software   \n",
       "324  Software Engineer with AI Tooling Expertise, S...   \n",
       "325  Sales Agent or Truck Dispatcher US Based Call ...   \n",
       "..                                                 ...   \n",
       "393  Principal Engineer, Trilogy (Remote) - $100,00...   \n",
       "394                     NetSuite Functional Consultant   \n",
       "395                             React Native Developer   \n",
       "396                                      Sales Manager   \n",
       "397                                     Technical Lead   \n",
       "\n",
       "                                              Job Link      Job ID  \n",
       "216  https://www.linkedin.com/jobs/view/3727511782/...  3727511782  \n",
       "217  https://www.linkedin.com/jobs/view/3727511782/...  3727511782  \n",
       "323  https://www.linkedin.com/jobs/view/3727543480/...  3727543480  \n",
       "324  https://www.linkedin.com/jobs/view/3727370490/...  3727370490  \n",
       "325  https://www.linkedin.com/jobs/view/3727395196/...  3727395196  \n",
       "..                                                 ...         ...  \n",
       "393  https://www.linkedin.com/jobs/view/3727369752/...  3727369752  \n",
       "394  https://www.linkedin.com/jobs/view/3726896682/...  3726896682  \n",
       "395  https://www.linkedin.com/jobs/view/3727531252/...  3727531252  \n",
       "396  https://www.linkedin.com/jobs/view/3727068586/...  3727068586  \n",
       "397  https://www.linkedin.com/jobs/view/3727520777/...  3727520777  \n",
       "\n",
       "[77 rows x 3 columns]"
      ]
     },
     "execution_count": 86,
     "metadata": {},
     "output_type": "execute_result"
    }
   ],
   "source": [
    "duplicates = df.duplicated()\n",
    "df[duplicates]"
   ]
  },
  {
   "cell_type": "code",
   "execution_count": 87,
   "id": "ed5f7b86-e36d-4529-8348-00aed5b02b5f",
   "metadata": {},
   "outputs": [
    {
     "data": {
      "text/plain": [
       "77"
      ]
     },
     "execution_count": 87,
     "metadata": {},
     "output_type": "execute_result"
    }
   ],
   "source": [
    "len(df[duplicates])"
   ]
  },
  {
   "cell_type": "code",
   "execution_count": 90,
   "id": "88210200-bf59-441b-b4d7-d244ae038dee",
   "metadata": {},
   "outputs": [
    {
     "data": {
      "text/html": [
       "<div>\n",
       "<style scoped>\n",
       "    .dataframe tbody tr th:only-of-type {\n",
       "        vertical-align: middle;\n",
       "    }\n",
       "\n",
       "    .dataframe tbody tr th {\n",
       "        vertical-align: top;\n",
       "    }\n",
       "\n",
       "    .dataframe thead th {\n",
       "        text-align: right;\n",
       "    }\n",
       "</style>\n",
       "<table border=\"1\" class=\"dataframe\">\n",
       "  <thead>\n",
       "    <tr style=\"text-align: right;\">\n",
       "      <th></th>\n",
       "      <th>Job Title</th>\n",
       "      <th>Job Link</th>\n",
       "      <th>Job ID</th>\n",
       "    </tr>\n",
       "  </thead>\n",
       "  <tbody>\n",
       "    <tr>\n",
       "      <th>215</th>\n",
       "      <td>NaN</td>\n",
       "      <td>https://www.linkedin.com/jobs/view/3727511782/...</td>\n",
       "      <td>3727511782</td>\n",
       "    </tr>\n",
       "    <tr>\n",
       "      <th>216</th>\n",
       "      <td>NaN</td>\n",
       "      <td>https://www.linkedin.com/jobs/view/3727511782/...</td>\n",
       "      <td>3727511782</td>\n",
       "    </tr>\n",
       "    <tr>\n",
       "      <th>217</th>\n",
       "      <td>NaN</td>\n",
       "      <td>https://www.linkedin.com/jobs/view/3727511782/...</td>\n",
       "      <td>3727511782</td>\n",
       "    </tr>\n",
       "    <tr>\n",
       "      <th>323</th>\n",
       "      <td>Hybrid QA for financial software</td>\n",
       "      <td>https://www.linkedin.com/jobs/view/3727543480/...</td>\n",
       "      <td>3727543480</td>\n",
       "    </tr>\n",
       "    <tr>\n",
       "      <th>324</th>\n",
       "      <td>Software Engineer with AI Tooling Expertise, S...</td>\n",
       "      <td>https://www.linkedin.com/jobs/view/3727370490/...</td>\n",
       "      <td>3727370490</td>\n",
       "    </tr>\n",
       "    <tr>\n",
       "      <th>...</th>\n",
       "      <td>...</td>\n",
       "      <td>...</td>\n",
       "      <td>...</td>\n",
       "    </tr>\n",
       "    <tr>\n",
       "      <th>393</th>\n",
       "      <td>Principal Engineer, Trilogy (Remote) - $100,00...</td>\n",
       "      <td>https://www.linkedin.com/jobs/view/3727369752/...</td>\n",
       "      <td>3727369752</td>\n",
       "    </tr>\n",
       "    <tr>\n",
       "      <th>394</th>\n",
       "      <td>NetSuite Functional Consultant</td>\n",
       "      <td>https://www.linkedin.com/jobs/view/3726896682/...</td>\n",
       "      <td>3726896682</td>\n",
       "    </tr>\n",
       "    <tr>\n",
       "      <th>395</th>\n",
       "      <td>React Native Developer</td>\n",
       "      <td>https://www.linkedin.com/jobs/view/3727531252/...</td>\n",
       "      <td>3727531252</td>\n",
       "    </tr>\n",
       "    <tr>\n",
       "      <th>396</th>\n",
       "      <td>Sales Manager</td>\n",
       "      <td>https://www.linkedin.com/jobs/view/3727068586/...</td>\n",
       "      <td>3727068586</td>\n",
       "    </tr>\n",
       "    <tr>\n",
       "      <th>397</th>\n",
       "      <td>Technical Lead</td>\n",
       "      <td>https://www.linkedin.com/jobs/view/3727520777/...</td>\n",
       "      <td>3727520777</td>\n",
       "    </tr>\n",
       "  </tbody>\n",
       "</table>\n",
       "<p>78 rows × 3 columns</p>\n",
       "</div>"
      ],
      "text/plain": [
       "                                             Job Title  \\\n",
       "215                                                NaN   \n",
       "216                                                NaN   \n",
       "217                                                NaN   \n",
       "323                   Hybrid QA for financial software   \n",
       "324  Software Engineer with AI Tooling Expertise, S...   \n",
       "..                                                 ...   \n",
       "393  Principal Engineer, Trilogy (Remote) - $100,00...   \n",
       "394                     NetSuite Functional Consultant   \n",
       "395                             React Native Developer   \n",
       "396                                      Sales Manager   \n",
       "397                                     Technical Lead   \n",
       "\n",
       "                                              Job Link      Job ID  \n",
       "215  https://www.linkedin.com/jobs/view/3727511782/...  3727511782  \n",
       "216  https://www.linkedin.com/jobs/view/3727511782/...  3727511782  \n",
       "217  https://www.linkedin.com/jobs/view/3727511782/...  3727511782  \n",
       "323  https://www.linkedin.com/jobs/view/3727543480/...  3727543480  \n",
       "324  https://www.linkedin.com/jobs/view/3727370490/...  3727370490  \n",
       "..                                                 ...         ...  \n",
       "393  https://www.linkedin.com/jobs/view/3727369752/...  3727369752  \n",
       "394  https://www.linkedin.com/jobs/view/3726896682/...  3726896682  \n",
       "395  https://www.linkedin.com/jobs/view/3727531252/...  3727531252  \n",
       "396  https://www.linkedin.com/jobs/view/3727068586/...  3727068586  \n",
       "397  https://www.linkedin.com/jobs/view/3727520777/...  3727520777  \n",
       "\n",
       "[78 rows x 3 columns]"
      ]
     },
     "execution_count": 90,
     "metadata": {},
     "output_type": "execute_result"
    }
   ],
   "source": [
    "duplicates = df['Job ID'].duplicated()\n",
    "df[duplicates]"
   ]
  },
  {
   "cell_type": "code",
   "execution_count": 91,
   "id": "61911585-57a0-428d-9df0-a2e6ada67f08",
   "metadata": {},
   "outputs": [
    {
     "data": {
      "text/plain": [
       "78"
      ]
     },
     "execution_count": 91,
     "metadata": {},
     "output_type": "execute_result"
    }
   ],
   "source": [
    "len(df[duplicates])"
   ]
  },
  {
   "cell_type": "code",
   "execution_count": 93,
   "id": "a8362238-ff68-4812-9571-579f67b19bd4",
   "metadata": {},
   "outputs": [
    {
     "data": {
      "text/plain": [
       "78"
      ]
     },
     "execution_count": 93,
     "metadata": {},
     "output_type": "execute_result"
    }
   ],
   "source": [
    "104-26"
   ]
  },
  {
   "cell_type": "code",
   "execution_count": 94,
   "id": "55242712-4018-4156-a59e-72ed7ece389c",
   "metadata": {},
   "outputs": [
    {
     "data": {
      "text/html": [
       "<div>\n",
       "<style scoped>\n",
       "    .dataframe tbody tr th:only-of-type {\n",
       "        vertical-align: middle;\n",
       "    }\n",
       "\n",
       "    .dataframe tbody tr th {\n",
       "        vertical-align: top;\n",
       "    }\n",
       "\n",
       "    .dataframe thead th {\n",
       "        text-align: right;\n",
       "    }\n",
       "</style>\n",
       "<table border=\"1\" class=\"dataframe\">\n",
       "  <thead>\n",
       "    <tr style=\"text-align: right;\">\n",
       "      <th></th>\n",
       "      <th>Job Title</th>\n",
       "      <th>Job Link</th>\n",
       "      <th>Job ID</th>\n",
       "    </tr>\n",
       "  </thead>\n",
       "  <tbody>\n",
       "    <tr>\n",
       "      <th>0</th>\n",
       "      <td>Data Annotator</td>\n",
       "      <td>https://www.linkedin.com/jobs/view/3727535445/...</td>\n",
       "      <td>3727535445</td>\n",
       "    </tr>\n",
       "    <tr>\n",
       "      <th>1</th>\n",
       "      <td>PowerBi Data Analyst</td>\n",
       "      <td>https://www.linkedin.com/jobs/view/3725544721/...</td>\n",
       "      <td>3725544721</td>\n",
       "    </tr>\n",
       "    <tr>\n",
       "      <th>2</th>\n",
       "      <td>Analyst - EMEA</td>\n",
       "      <td>https://www.linkedin.com/jobs/view/3697131076/...</td>\n",
       "      <td>3697131076</td>\n",
       "    </tr>\n",
       "    <tr>\n",
       "      <th>3</th>\n",
       "      <td>Email Copywriter/Strategist</td>\n",
       "      <td>https://www.linkedin.com/jobs/view/3723056673/...</td>\n",
       "      <td>3723056673</td>\n",
       "    </tr>\n",
       "    <tr>\n",
       "      <th>4</th>\n",
       "      <td>Fresh Telecom Intern</td>\n",
       "      <td>https://www.linkedin.com/jobs/view/3727538999/...</td>\n",
       "      <td>3727538999</td>\n",
       "    </tr>\n",
       "    <tr>\n",
       "      <th>...</th>\n",
       "      <td>...</td>\n",
       "      <td>...</td>\n",
       "      <td>...</td>\n",
       "    </tr>\n",
       "    <tr>\n",
       "      <th>425</th>\n",
       "      <td>Senior Dotnet Developer</td>\n",
       "      <td>https://www.linkedin.com/jobs/view/3727398144/...</td>\n",
       "      <td>3727398144</td>\n",
       "    </tr>\n",
       "    <tr>\n",
       "      <th>426</th>\n",
       "      <td>Senior MEAN/MERN Developer</td>\n",
       "      <td>https://www.linkedin.com/jobs/view/3727507538/...</td>\n",
       "      <td>3727507538</td>\n",
       "    </tr>\n",
       "    <tr>\n",
       "      <th>427</th>\n",
       "      <td>Senior 3D Artist</td>\n",
       "      <td>https://www.linkedin.com/jobs/view/3727502311/...</td>\n",
       "      <td>3727502311</td>\n",
       "    </tr>\n",
       "    <tr>\n",
       "      <th>428</th>\n",
       "      <td>Cardiac Catheterization Laboratory Technologist</td>\n",
       "      <td>https://www.linkedin.com/jobs/view/3727372921/...</td>\n",
       "      <td>3727372921</td>\n",
       "    </tr>\n",
       "    <tr>\n",
       "      <th>429</th>\n",
       "      <td>Sr. Storyboard Artist</td>\n",
       "      <td>https://www.linkedin.com/jobs/view/3727544393/...</td>\n",
       "      <td>3727544393</td>\n",
       "    </tr>\n",
       "  </tbody>\n",
       "</table>\n",
       "<p>353 rows × 3 columns</p>\n",
       "</div>"
      ],
      "text/plain": [
       "                                           Job Title  \\\n",
       "0                                     Data Annotator   \n",
       "1                               PowerBi Data Analyst   \n",
       "2                                     Analyst - EMEA   \n",
       "3                        Email Copywriter/Strategist   \n",
       "4                               Fresh Telecom Intern   \n",
       "..                                               ...   \n",
       "425                          Senior Dotnet Developer   \n",
       "426                       Senior MEAN/MERN Developer   \n",
       "427                                 Senior 3D Artist   \n",
       "428  Cardiac Catheterization Laboratory Technologist   \n",
       "429                            Sr. Storyboard Artist   \n",
       "\n",
       "                                              Job Link      Job ID  \n",
       "0    https://www.linkedin.com/jobs/view/3727535445/...  3727535445  \n",
       "1    https://www.linkedin.com/jobs/view/3725544721/...  3725544721  \n",
       "2    https://www.linkedin.com/jobs/view/3697131076/...  3697131076  \n",
       "3    https://www.linkedin.com/jobs/view/3723056673/...  3723056673  \n",
       "4    https://www.linkedin.com/jobs/view/3727538999/...  3727538999  \n",
       "..                                                 ...         ...  \n",
       "425  https://www.linkedin.com/jobs/view/3727398144/...  3727398144  \n",
       "426  https://www.linkedin.com/jobs/view/3727507538/...  3727507538  \n",
       "427  https://www.linkedin.com/jobs/view/3727502311/...  3727502311  \n",
       "428  https://www.linkedin.com/jobs/view/3727372921/...  3727372921  \n",
       "429  https://www.linkedin.com/jobs/view/3727544393/...  3727544393  \n",
       "\n",
       "[353 rows x 3 columns]"
      ]
     },
     "execution_count": 94,
     "metadata": {},
     "output_type": "execute_result"
    }
   ],
   "source": [
    "df_no_duplicates = df.drop_duplicates()\n",
    "df_no_duplicates"
   ]
  },
  {
   "cell_type": "code",
   "execution_count": 95,
   "id": "6411f463-93f2-4a40-9452-1de573516fc2",
   "metadata": {},
   "outputs": [
    {
     "data": {
      "text/plain": [
       "77"
      ]
     },
     "execution_count": 95,
     "metadata": {},
     "output_type": "execute_result"
    }
   ],
   "source": [
    "len(df)-len(df_no_duplicates)"
   ]
  },
  {
   "cell_type": "code",
   "execution_count": 111,
   "id": "c7e09fa9-3252-41ac-b4a8-61e5c992f210",
   "metadata": {},
   "outputs": [
    {
     "data": {
      "text/plain": [
       "0      3727535445\n",
       "1      3725544721\n",
       "2      3697131076\n",
       "3      3723056673\n",
       "4      3727538999\n",
       "          ...    \n",
       "425    3727398144\n",
       "426    3727507538\n",
       "427    3727502311\n",
       "428    3727372921\n",
       "429    3727544393\n",
       "Name: Job ID, Length: 352, dtype: int64"
      ]
     },
     "execution_count": 111,
     "metadata": {},
     "output_type": "execute_result"
    }
   ],
   "source": [
    "df_no_duplicates = df['Job ID'].drop_duplicates()\n",
    "df_no_duplicates"
   ]
  },
  {
   "cell_type": "code",
   "execution_count": 100,
   "id": "d6fa294f-2d5e-4b90-99b2-f446b22044ed",
   "metadata": {},
   "outputs": [
    {
     "data": {
      "text/plain": [
       "352"
      ]
     },
     "execution_count": 100,
     "metadata": {},
     "output_type": "execute_result"
    }
   ],
   "source": [
    "len(df_no_duplicates)"
   ]
  },
  {
   "cell_type": "code",
   "execution_count": 105,
   "id": "6a8165f8-1337-4a74-9de4-a339e5fddcb5",
   "metadata": {},
   "outputs": [],
   "source": [
    "no_duplicates=list(df_no_duplicates)"
   ]
  },
  {
   "cell_type": "code",
   "execution_count": 106,
   "id": "9edcb851-f418-4398-a067-0f957fbccd9d",
   "metadata": {},
   "outputs": [
    {
     "data": {
      "text/html": [
       "<div>\n",
       "<style scoped>\n",
       "    .dataframe tbody tr th:only-of-type {\n",
       "        vertical-align: middle;\n",
       "    }\n",
       "\n",
       "    .dataframe tbody tr th {\n",
       "        vertical-align: top;\n",
       "    }\n",
       "\n",
       "    .dataframe thead th {\n",
       "        text-align: right;\n",
       "    }\n",
       "</style>\n",
       "<table border=\"1\" class=\"dataframe\">\n",
       "  <thead>\n",
       "    <tr style=\"text-align: right;\">\n",
       "      <th></th>\n",
       "      <th>Job Title</th>\n",
       "      <th>Job Link</th>\n",
       "      <th>Job ID</th>\n",
       "    </tr>\n",
       "  </thead>\n",
       "  <tbody>\n",
       "    <tr>\n",
       "      <th>0</th>\n",
       "      <td>Data Annotator</td>\n",
       "      <td>https://www.linkedin.com/jobs/view/3727535445/...</td>\n",
       "      <td>3727535445</td>\n",
       "    </tr>\n",
       "    <tr>\n",
       "      <th>1</th>\n",
       "      <td>PowerBi Data Analyst</td>\n",
       "      <td>https://www.linkedin.com/jobs/view/3725544721/...</td>\n",
       "      <td>3725544721</td>\n",
       "    </tr>\n",
       "    <tr>\n",
       "      <th>2</th>\n",
       "      <td>Analyst - EMEA</td>\n",
       "      <td>https://www.linkedin.com/jobs/view/3697131076/...</td>\n",
       "      <td>3697131076</td>\n",
       "    </tr>\n",
       "    <tr>\n",
       "      <th>3</th>\n",
       "      <td>Email Copywriter/Strategist</td>\n",
       "      <td>https://www.linkedin.com/jobs/view/3723056673/...</td>\n",
       "      <td>3723056673</td>\n",
       "    </tr>\n",
       "    <tr>\n",
       "      <th>4</th>\n",
       "      <td>Fresh Telecom Intern</td>\n",
       "      <td>https://www.linkedin.com/jobs/view/3727538999/...</td>\n",
       "      <td>3727538999</td>\n",
       "    </tr>\n",
       "    <tr>\n",
       "      <th>...</th>\n",
       "      <td>...</td>\n",
       "      <td>...</td>\n",
       "      <td>...</td>\n",
       "    </tr>\n",
       "    <tr>\n",
       "      <th>425</th>\n",
       "      <td>Senior Dotnet Developer</td>\n",
       "      <td>https://www.linkedin.com/jobs/view/3727398144/...</td>\n",
       "      <td>3727398144</td>\n",
       "    </tr>\n",
       "    <tr>\n",
       "      <th>426</th>\n",
       "      <td>Senior MEAN/MERN Developer</td>\n",
       "      <td>https://www.linkedin.com/jobs/view/3727507538/...</td>\n",
       "      <td>3727507538</td>\n",
       "    </tr>\n",
       "    <tr>\n",
       "      <th>427</th>\n",
       "      <td>Senior 3D Artist</td>\n",
       "      <td>https://www.linkedin.com/jobs/view/3727502311/...</td>\n",
       "      <td>3727502311</td>\n",
       "    </tr>\n",
       "    <tr>\n",
       "      <th>428</th>\n",
       "      <td>Cardiac Catheterization Laboratory Technologist</td>\n",
       "      <td>https://www.linkedin.com/jobs/view/3727372921/...</td>\n",
       "      <td>3727372921</td>\n",
       "    </tr>\n",
       "    <tr>\n",
       "      <th>429</th>\n",
       "      <td>Sr. Storyboard Artist</td>\n",
       "      <td>https://www.linkedin.com/jobs/view/3727544393/...</td>\n",
       "      <td>3727544393</td>\n",
       "    </tr>\n",
       "  </tbody>\n",
       "</table>\n",
       "<p>430 rows × 3 columns</p>\n",
       "</div>"
      ],
      "text/plain": [
       "                                           Job Title  \\\n",
       "0                                     Data Annotator   \n",
       "1                               PowerBi Data Analyst   \n",
       "2                                     Analyst - EMEA   \n",
       "3                        Email Copywriter/Strategist   \n",
       "4                               Fresh Telecom Intern   \n",
       "..                                               ...   \n",
       "425                          Senior Dotnet Developer   \n",
       "426                       Senior MEAN/MERN Developer   \n",
       "427                                 Senior 3D Artist   \n",
       "428  Cardiac Catheterization Laboratory Technologist   \n",
       "429                            Sr. Storyboard Artist   \n",
       "\n",
       "                                              Job Link      Job ID  \n",
       "0    https://www.linkedin.com/jobs/view/3727535445/...  3727535445  \n",
       "1    https://www.linkedin.com/jobs/view/3725544721/...  3725544721  \n",
       "2    https://www.linkedin.com/jobs/view/3697131076/...  3697131076  \n",
       "3    https://www.linkedin.com/jobs/view/3723056673/...  3723056673  \n",
       "4    https://www.linkedin.com/jobs/view/3727538999/...  3727538999  \n",
       "..                                                 ...         ...  \n",
       "425  https://www.linkedin.com/jobs/view/3727398144/...  3727398144  \n",
       "426  https://www.linkedin.com/jobs/view/3727507538/...  3727507538  \n",
       "427  https://www.linkedin.com/jobs/view/3727502311/...  3727502311  \n",
       "428  https://www.linkedin.com/jobs/view/3727372921/...  3727372921  \n",
       "429  https://www.linkedin.com/jobs/view/3727544393/...  3727544393  \n",
       "\n",
       "[430 rows x 3 columns]"
      ]
     },
     "execution_count": 106,
     "metadata": {},
     "output_type": "execute_result"
    }
   ],
   "source": [
    "df[df['Job ID'].isin(no_duplicates)]"
   ]
  },
  {
   "cell_type": "code",
   "execution_count": 112,
   "id": "d51f920b-1726-42e4-a918-a094f454fd8a",
   "metadata": {},
   "outputs": [],
   "source": [
    "df_no_duplicates = df.drop_duplicates(subset=['Job ID'])"
   ]
  },
  {
   "cell_type": "code",
   "execution_count": 113,
   "id": "e4b17306-c996-4580-8d4d-062fac72500a",
   "metadata": {},
   "outputs": [
    {
     "data": {
      "text/html": [
       "<div>\n",
       "<style scoped>\n",
       "    .dataframe tbody tr th:only-of-type {\n",
       "        vertical-align: middle;\n",
       "    }\n",
       "\n",
       "    .dataframe tbody tr th {\n",
       "        vertical-align: top;\n",
       "    }\n",
       "\n",
       "    .dataframe thead th {\n",
       "        text-align: right;\n",
       "    }\n",
       "</style>\n",
       "<table border=\"1\" class=\"dataframe\">\n",
       "  <thead>\n",
       "    <tr style=\"text-align: right;\">\n",
       "      <th></th>\n",
       "      <th>Job Title</th>\n",
       "      <th>Job Link</th>\n",
       "      <th>Job ID</th>\n",
       "    </tr>\n",
       "  </thead>\n",
       "  <tbody>\n",
       "    <tr>\n",
       "      <th>0</th>\n",
       "      <td>Data Annotator</td>\n",
       "      <td>https://www.linkedin.com/jobs/view/3727535445/...</td>\n",
       "      <td>3727535445</td>\n",
       "    </tr>\n",
       "    <tr>\n",
       "      <th>1</th>\n",
       "      <td>PowerBi Data Analyst</td>\n",
       "      <td>https://www.linkedin.com/jobs/view/3725544721/...</td>\n",
       "      <td>3725544721</td>\n",
       "    </tr>\n",
       "    <tr>\n",
       "      <th>2</th>\n",
       "      <td>Analyst - EMEA</td>\n",
       "      <td>https://www.linkedin.com/jobs/view/3697131076/...</td>\n",
       "      <td>3697131076</td>\n",
       "    </tr>\n",
       "    <tr>\n",
       "      <th>3</th>\n",
       "      <td>Email Copywriter/Strategist</td>\n",
       "      <td>https://www.linkedin.com/jobs/view/3723056673/...</td>\n",
       "      <td>3723056673</td>\n",
       "    </tr>\n",
       "    <tr>\n",
       "      <th>4</th>\n",
       "      <td>Fresh Telecom Intern</td>\n",
       "      <td>https://www.linkedin.com/jobs/view/3727538999/...</td>\n",
       "      <td>3727538999</td>\n",
       "    </tr>\n",
       "    <tr>\n",
       "      <th>...</th>\n",
       "      <td>...</td>\n",
       "      <td>...</td>\n",
       "      <td>...</td>\n",
       "    </tr>\n",
       "    <tr>\n",
       "      <th>425</th>\n",
       "      <td>Senior Dotnet Developer</td>\n",
       "      <td>https://www.linkedin.com/jobs/view/3727398144/...</td>\n",
       "      <td>3727398144</td>\n",
       "    </tr>\n",
       "    <tr>\n",
       "      <th>426</th>\n",
       "      <td>Senior MEAN/MERN Developer</td>\n",
       "      <td>https://www.linkedin.com/jobs/view/3727507538/...</td>\n",
       "      <td>3727507538</td>\n",
       "    </tr>\n",
       "    <tr>\n",
       "      <th>427</th>\n",
       "      <td>Senior 3D Artist</td>\n",
       "      <td>https://www.linkedin.com/jobs/view/3727502311/...</td>\n",
       "      <td>3727502311</td>\n",
       "    </tr>\n",
       "    <tr>\n",
       "      <th>428</th>\n",
       "      <td>Cardiac Catheterization Laboratory Technologist</td>\n",
       "      <td>https://www.linkedin.com/jobs/view/3727372921/...</td>\n",
       "      <td>3727372921</td>\n",
       "    </tr>\n",
       "    <tr>\n",
       "      <th>429</th>\n",
       "      <td>Sr. Storyboard Artist</td>\n",
       "      <td>https://www.linkedin.com/jobs/view/3727544393/...</td>\n",
       "      <td>3727544393</td>\n",
       "    </tr>\n",
       "  </tbody>\n",
       "</table>\n",
       "<p>352 rows × 3 columns</p>\n",
       "</div>"
      ],
      "text/plain": [
       "                                           Job Title  \\\n",
       "0                                     Data Annotator   \n",
       "1                               PowerBi Data Analyst   \n",
       "2                                     Analyst - EMEA   \n",
       "3                        Email Copywriter/Strategist   \n",
       "4                               Fresh Telecom Intern   \n",
       "..                                               ...   \n",
       "425                          Senior Dotnet Developer   \n",
       "426                       Senior MEAN/MERN Developer   \n",
       "427                                 Senior 3D Artist   \n",
       "428  Cardiac Catheterization Laboratory Technologist   \n",
       "429                            Sr. Storyboard Artist   \n",
       "\n",
       "                                              Job Link      Job ID  \n",
       "0    https://www.linkedin.com/jobs/view/3727535445/...  3727535445  \n",
       "1    https://www.linkedin.com/jobs/view/3725544721/...  3725544721  \n",
       "2    https://www.linkedin.com/jobs/view/3697131076/...  3697131076  \n",
       "3    https://www.linkedin.com/jobs/view/3723056673/...  3723056673  \n",
       "4    https://www.linkedin.com/jobs/view/3727538999/...  3727538999  \n",
       "..                                                 ...         ...  \n",
       "425  https://www.linkedin.com/jobs/view/3727398144/...  3727398144  \n",
       "426  https://www.linkedin.com/jobs/view/3727507538/...  3727507538  \n",
       "427  https://www.linkedin.com/jobs/view/3727502311/...  3727502311  \n",
       "428  https://www.linkedin.com/jobs/view/3727372921/...  3727372921  \n",
       "429  https://www.linkedin.com/jobs/view/3727544393/...  3727544393  \n",
       "\n",
       "[352 rows x 3 columns]"
      ]
     },
     "execution_count": 113,
     "metadata": {},
     "output_type": "execute_result"
    }
   ],
   "source": [
    "df_no_duplicates"
   ]
  },
  {
   "cell_type": "code",
   "execution_count": 114,
   "id": "6fa8b300-579b-4d51-9cf2-b77cedf60c06",
   "metadata": {},
   "outputs": [],
   "source": [
    "duplicates = df_no_duplicates.duplicated(subset=['Job ID'])"
   ]
  },
  {
   "cell_type": "code",
   "execution_count": 117,
   "id": "12c2cee7-50bc-49d2-8db7-573f63817675",
   "metadata": {},
   "outputs": [
    {
     "data": {
      "text/plain": [
       "0"
      ]
     },
     "execution_count": 117,
     "metadata": {},
     "output_type": "execute_result"
    }
   ],
   "source": [
    "duplicates.sum()"
   ]
  },
  {
   "cell_type": "code",
   "execution_count": null,
   "id": "27ee92a6-fbee-40fc-88c9-bcc58836b62b",
   "metadata": {},
   "outputs": [],
   "source": []
  }
 ],
 "metadata": {
  "kernelspec": {
   "display_name": "Python 3 (ipykernel)",
   "language": "python",
   "name": "python3"
  },
  "language_info": {
   "codemirror_mode": {
    "name": "ipython",
    "version": 3
   },
   "file_extension": ".py",
   "mimetype": "text/x-python",
   "name": "python",
   "nbconvert_exporter": "python",
   "pygments_lexer": "ipython3",
   "version": "3.11.4"
  }
 },
 "nbformat": 4,
 "nbformat_minor": 5
}
