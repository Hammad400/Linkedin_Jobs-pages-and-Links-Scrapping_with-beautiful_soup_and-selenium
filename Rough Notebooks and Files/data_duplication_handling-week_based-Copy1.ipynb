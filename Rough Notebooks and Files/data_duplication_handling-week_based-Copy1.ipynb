{
 "cells": [
  {
   "cell_type": "code",
   "execution_count": 1,
   "id": "81ac062a-82c7-49ee-b287-c219641155b6",
   "metadata": {},
   "outputs": [],
   "source": [
    "import pandas as pd\n",
    "import numpy as np\n",
    "import os\n",
    "from datetime import datetime"
   ]
  },
  {
   "cell_type": "code",
   "execution_count": 2,
   "id": "33d8abb1-a617-4557-b98f-5951966001a2",
   "metadata": {},
   "outputs": [],
   "source": [
    "path='Weekly Files Concatenated from Daily Files/Linkedin_Job_Links_26-Sep-2023-to-02-Oct-2023_2116-jobs_92-pages.csv'"
   ]
  },
  {
   "cell_type": "code",
   "execution_count": 3,
   "id": "ea083d0e-c886-4620-a6b3-778654b7f58b",
   "metadata": {},
   "outputs": [],
   "source": [
    "df=pd.read_csv(path)"
   ]
  },
  {
   "cell_type": "code",
   "execution_count": 4,
   "id": "35b57aae-068c-4613-82ee-88aa20199dc0",
   "metadata": {},
   "outputs": [
    {
     "data": {
      "text/plain": [
       "['Linkedin_Job_Links_26-Sep-2023_561-jobs_23-pages.csv',\n",
       " 'Linkedin_Job_Links_27-Sep-2023_352-jobs_18-pages.csv',\n",
       " 'Linkedin_Job_Links_28-Sep-2023_309-jobs_14-pages.csv',\n",
       " 'Linkedin_Job_Links_29-Sep-2023_239-jobs_10-pages.csv',\n",
       " 'Linkedin_Job_Links_30-Sep-2023_170-jobs_7-pages.csv',\n",
       " 'Linkedin_Job_Links_01-Oct-2023_125-jobs_5-pages.csv',\n",
       " 'Linkedin_Job_Links_02-Oct-2023_360-jobs_15-pages.csv']"
      ]
     },
     "execution_count": 4,
     "metadata": {},
     "output_type": "execute_result"
    }
   ],
   "source": [
    "path=\"Not Duplicated Files_Phase-1/1st Week 26 Sep-02 Oct\"\n",
    "dir_list = os.listdir(path)\n",
    "dates=[file.split('_')[3] for file in dir_list]\n",
    "dates.sort(key=lambda date: datetime.strptime(date, \"%d-%b-%Y\"))\n",
    "file_names=[]\n",
    "for date in dates:\n",
    "    for file in dir_list:\n",
    "        if file.split('_')[3]==date:\n",
    "            file_names.append(file)\n",
    "file_names "
   ]
  },
  {
   "cell_type": "code",
   "execution_count": 5,
   "id": "e62f9409-d4ec-402c-a603-777c7c0fae11",
   "metadata": {},
   "outputs": [],
   "source": [
    "df1=pd.read_csv(path+'/'+file_names[0])\n",
    "df2=pd.read_csv(path+'/'+file_names[1])\n",
    "df3=pd.read_csv(path+'/'+file_names[2])\n",
    "df4=pd.read_csv(path+'/'+file_names[3])\n",
    "df5=pd.read_csv(path+'/'+file_names[4])\n",
    "df6=pd.read_csv(path+'/'+file_names[5])\n",
    "df7=pd.read_csv(path+'/'+file_names[6])"
   ]
  },
  {
   "cell_type": "markdown",
   "id": "2d07d66d-967d-4d86-8c12-e2ad46dcdc9a",
   "metadata": {},
   "source": [
    "### checking duplication of first file with all"
   ]
  },
  {
   "cell_type": "code",
   "execution_count": 19,
   "id": "110e6e55-c367-4ece-a523-0395153740b3",
   "metadata": {},
   "outputs": [
    {
     "data": {
      "text/html": [
       "<div>\n",
       "<style scoped>\n",
       "    .dataframe tbody tr th:only-of-type {\n",
       "        vertical-align: middle;\n",
       "    }\n",
       "\n",
       "    .dataframe tbody tr th {\n",
       "        vertical-align: top;\n",
       "    }\n",
       "\n",
       "    .dataframe thead th {\n",
       "        text-align: right;\n",
       "    }\n",
       "</style>\n",
       "<table border=\"1\" class=\"dataframe\">\n",
       "  <thead>\n",
       "    <tr style=\"text-align: right;\">\n",
       "      <th></th>\n",
       "      <th>Job Title</th>\n",
       "      <th>Job Link</th>\n",
       "      <th>Job ID</th>\n",
       "    </tr>\n",
       "  </thead>\n",
       "  <tbody>\n",
       "    <tr>\n",
       "      <th>603</th>\n",
       "      <td>Odoo Developer</td>\n",
       "      <td>https://www.linkedin.com/jobs/view/3727054738/...</td>\n",
       "      <td>3727054738</td>\n",
       "    </tr>\n",
       "    <tr>\n",
       "      <th>781</th>\n",
       "      <td>Assistant Manager Sales/Sales Executive</td>\n",
       "      <td>https://www.linkedin.com/jobs/view/3727057147/...</td>\n",
       "      <td>3727057147</td>\n",
       "    </tr>\n",
       "    <tr>\n",
       "      <th>834</th>\n",
       "      <td>Back-End Network Engineer</td>\n",
       "      <td>https://www.linkedin.com/jobs/view/3726337380/...</td>\n",
       "      <td>3726337380</td>\n",
       "    </tr>\n",
       "    <tr>\n",
       "      <th>840</th>\n",
       "      <td>Release Management Engineer</td>\n",
       "      <td>https://www.linkedin.com/jobs/view/3727054443/...</td>\n",
       "      <td>3727054443</td>\n",
       "    </tr>\n",
       "    <tr>\n",
       "      <th>842</th>\n",
       "      <td>Sr. International Sales Executive (Night Shift)</td>\n",
       "      <td>https://www.linkedin.com/jobs/view/3727051751/...</td>\n",
       "      <td>3727051751</td>\n",
       "    </tr>\n",
       "  </tbody>\n",
       "</table>\n",
       "</div>"
      ],
      "text/plain": [
       "                                           Job Title  \\\n",
       "603                                   Odoo Developer   \n",
       "781          Assistant Manager Sales/Sales Executive   \n",
       "834                        Back-End Network Engineer   \n",
       "840                      Release Management Engineer   \n",
       "842  Sr. International Sales Executive (Night Shift)   \n",
       "\n",
       "                                              Job Link      Job ID  \n",
       "603  https://www.linkedin.com/jobs/view/3727054738/...  3727054738  \n",
       "781  https://www.linkedin.com/jobs/view/3727057147/...  3727057147  \n",
       "834  https://www.linkedin.com/jobs/view/3726337380/...  3726337380  \n",
       "840  https://www.linkedin.com/jobs/view/3727054443/...  3727054443  \n",
       "842  https://www.linkedin.com/jobs/view/3727051751/...  3727051751  "
      ]
     },
     "execution_count": 19,
     "metadata": {},
     "output_type": "execute_result"
    }
   ],
   "source": [
    "df_concat=pd.concat([df1,df2],ignore_index=True) \n",
    "duplicates = df_concat['Job ID'].duplicated()\n",
    "df_concat[duplicates]"
   ]
  },
  {
   "cell_type": "code",
   "execution_count": 18,
   "id": "7a42e732-c6cc-4492-b6f0-c74abd5bf892",
   "metadata": {},
   "outputs": [
    {
     "data": {
      "text/html": [
       "<div>\n",
       "<style scoped>\n",
       "    .dataframe tbody tr th:only-of-type {\n",
       "        vertical-align: middle;\n",
       "    }\n",
       "\n",
       "    .dataframe tbody tr th {\n",
       "        vertical-align: top;\n",
       "    }\n",
       "\n",
       "    .dataframe thead th {\n",
       "        text-align: right;\n",
       "    }\n",
       "</style>\n",
       "<table border=\"1\" class=\"dataframe\">\n",
       "  <thead>\n",
       "    <tr style=\"text-align: right;\">\n",
       "      <th></th>\n",
       "      <th>Job Title</th>\n",
       "      <th>Job Link</th>\n",
       "      <th>Job ID</th>\n",
       "    </tr>\n",
       "  </thead>\n",
       "  <tbody>\n",
       "    <tr>\n",
       "      <th>564</th>\n",
       "      <td>Senior Software Engineer</td>\n",
       "      <td>https://www.linkedin.com/jobs/view/3691553817/...</td>\n",
       "      <td>3691553817</td>\n",
       "    </tr>\n",
       "    <tr>\n",
       "      <th>595</th>\n",
       "      <td>Computer Vision Engineer</td>\n",
       "      <td>https://www.linkedin.com/jobs/view/3574287743/...</td>\n",
       "      <td>3574287743</td>\n",
       "    </tr>\n",
       "    <tr>\n",
       "      <th>598</th>\n",
       "      <td>Creative Associate</td>\n",
       "      <td>https://www.linkedin.com/jobs/view/3724314689/...</td>\n",
       "      <td>3724314689</td>\n",
       "    </tr>\n",
       "    <tr>\n",
       "      <th>829</th>\n",
       "      <td>Finance Assitant (GF)</td>\n",
       "      <td>https://www.linkedin.com/jobs/view/3728173171/...</td>\n",
       "      <td>3728173171</td>\n",
       "    </tr>\n",
       "    <tr>\n",
       "      <th>867</th>\n",
       "      <td>PHP Developer Required</td>\n",
       "      <td>https://www.linkedin.com/jobs/view/3723340874/...</td>\n",
       "      <td>3723340874</td>\n",
       "    </tr>\n",
       "  </tbody>\n",
       "</table>\n",
       "</div>"
      ],
      "text/plain": [
       "                    Job Title  \\\n",
       "564  Senior Software Engineer   \n",
       "595  Computer Vision Engineer   \n",
       "598        Creative Associate   \n",
       "829     Finance Assitant (GF)   \n",
       "867    PHP Developer Required   \n",
       "\n",
       "                                              Job Link      Job ID  \n",
       "564  https://www.linkedin.com/jobs/view/3691553817/...  3691553817  \n",
       "595  https://www.linkedin.com/jobs/view/3574287743/...  3574287743  \n",
       "598  https://www.linkedin.com/jobs/view/3724314689/...  3724314689  \n",
       "829  https://www.linkedin.com/jobs/view/3728173171/...  3728173171  \n",
       "867  https://www.linkedin.com/jobs/view/3723340874/...  3723340874  "
      ]
     },
     "execution_count": 18,
     "metadata": {},
     "output_type": "execute_result"
    }
   ],
   "source": [
    "df_concat=pd.concat([df1,df3],ignore_index=True) \n",
    "duplicates = df_concat['Job ID'].duplicated()\n",
    "df_concat[duplicates]"
   ]
  },
  {
   "cell_type": "code",
   "execution_count": 17,
   "id": "c74eb509-2fc2-4314-8329-77c7d39e1816",
   "metadata": {},
   "outputs": [
    {
     "data": {
      "text/html": [
       "<div>\n",
       "<style scoped>\n",
       "    .dataframe tbody tr th:only-of-type {\n",
       "        vertical-align: middle;\n",
       "    }\n",
       "\n",
       "    .dataframe tbody tr th {\n",
       "        vertical-align: top;\n",
       "    }\n",
       "\n",
       "    .dataframe thead th {\n",
       "        text-align: right;\n",
       "    }\n",
       "</style>\n",
       "<table border=\"1\" class=\"dataframe\">\n",
       "  <thead>\n",
       "    <tr style=\"text-align: right;\">\n",
       "      <th></th>\n",
       "      <th>Job Title</th>\n",
       "      <th>Job Link</th>\n",
       "      <th>Job ID</th>\n",
       "    </tr>\n",
       "  </thead>\n",
       "  <tbody>\n",
       "    <tr>\n",
       "      <th>563</th>\n",
       "      <td>Sr. SDET Engineer</td>\n",
       "      <td>https://www.linkedin.com/jobs/view/3631034202/...</td>\n",
       "      <td>3631034202</td>\n",
       "    </tr>\n",
       "    <tr>\n",
       "      <th>611</th>\n",
       "      <td>Senior Software Engineer</td>\n",
       "      <td>https://www.linkedin.com/jobs/view/3691553817/...</td>\n",
       "      <td>3691553817</td>\n",
       "    </tr>\n",
       "    <tr>\n",
       "      <th>625</th>\n",
       "      <td>Business Development Executive (REMOTE) up to ...</td>\n",
       "      <td>https://www.linkedin.com/jobs/view/3728108177/...</td>\n",
       "      <td>3728108177</td>\n",
       "    </tr>\n",
       "    <tr>\n",
       "      <th>720</th>\n",
       "      <td>AI-Augmented Software Developer, Trilogy (Remo...</td>\n",
       "      <td>https://www.linkedin.com/jobs/view/3710741653/...</td>\n",
       "      <td>3710741653</td>\n",
       "    </tr>\n",
       "    <tr>\n",
       "      <th>746</th>\n",
       "      <td>Fixed Term: Chief Health, P5, Islamabad, Pakis...</td>\n",
       "      <td>https://www.linkedin.com/jobs/view/3727028422/...</td>\n",
       "      <td>3727028422</td>\n",
       "    </tr>\n",
       "    <tr>\n",
       "      <th>748</th>\n",
       "      <td>Senior Technical Support Engineer, Skyvera (Re...</td>\n",
       "      <td>https://www.linkedin.com/jobs/view/3715439728/...</td>\n",
       "      <td>3715439728</td>\n",
       "    </tr>\n",
       "    <tr>\n",
       "      <th>750</th>\n",
       "      <td>Senior C++ Engineer, GFI Software (Remote) - $...</td>\n",
       "      <td>https://www.linkedin.com/jobs/view/3715437919/...</td>\n",
       "      <td>3715437919</td>\n",
       "    </tr>\n",
       "  </tbody>\n",
       "</table>\n",
       "</div>"
      ],
      "text/plain": [
       "                                             Job Title  \\\n",
       "563                                  Sr. SDET Engineer   \n",
       "611                           Senior Software Engineer   \n",
       "625  Business Development Executive (REMOTE) up to ...   \n",
       "720  AI-Augmented Software Developer, Trilogy (Remo...   \n",
       "746  Fixed Term: Chief Health, P5, Islamabad, Pakis...   \n",
       "748  Senior Technical Support Engineer, Skyvera (Re...   \n",
       "750  Senior C++ Engineer, GFI Software (Remote) - $...   \n",
       "\n",
       "                                              Job Link      Job ID  \n",
       "563  https://www.linkedin.com/jobs/view/3631034202/...  3631034202  \n",
       "611  https://www.linkedin.com/jobs/view/3691553817/...  3691553817  \n",
       "625  https://www.linkedin.com/jobs/view/3728108177/...  3728108177  \n",
       "720  https://www.linkedin.com/jobs/view/3710741653/...  3710741653  \n",
       "746  https://www.linkedin.com/jobs/view/3727028422/...  3727028422  \n",
       "748  https://www.linkedin.com/jobs/view/3715439728/...  3715439728  \n",
       "750  https://www.linkedin.com/jobs/view/3715437919/...  3715437919  "
      ]
     },
     "execution_count": 17,
     "metadata": {},
     "output_type": "execute_result"
    }
   ],
   "source": [
    "df_concat2=pd.concat([df1,df4],ignore_index=True) \n",
    "duplicates = df_concat2['Job ID'].duplicated()\n",
    "df_concat2[duplicates]"
   ]
  },
  {
   "cell_type": "code",
   "execution_count": 20,
   "id": "f64808a6-5e6d-49e6-92e5-0f764d4c8ecc",
   "metadata": {},
   "outputs": [
    {
     "data": {
      "text/html": [
       "<div>\n",
       "<style scoped>\n",
       "    .dataframe tbody tr th:only-of-type {\n",
       "        vertical-align: middle;\n",
       "    }\n",
       "\n",
       "    .dataframe tbody tr th {\n",
       "        vertical-align: top;\n",
       "    }\n",
       "\n",
       "    .dataframe thead th {\n",
       "        text-align: right;\n",
       "    }\n",
       "</style>\n",
       "<table border=\"1\" class=\"dataframe\">\n",
       "  <thead>\n",
       "    <tr style=\"text-align: right;\">\n",
       "      <th></th>\n",
       "      <th>Job Title</th>\n",
       "      <th>Job Link</th>\n",
       "      <th>Job ID</th>\n",
       "    </tr>\n",
       "  </thead>\n",
       "  <tbody>\n",
       "    <tr>\n",
       "      <th>561</th>\n",
       "      <td>Sr. SDET Engineer</td>\n",
       "      <td>https://www.linkedin.com/jobs/view/3631035048/...</td>\n",
       "      <td>3631035048</td>\n",
       "    </tr>\n",
       "    <tr>\n",
       "      <th>591</th>\n",
       "      <td>Cloud Technical Specialist</td>\n",
       "      <td>https://www.linkedin.com/jobs/view/3707088816/...</td>\n",
       "      <td>3707088816</td>\n",
       "    </tr>\n",
       "    <tr>\n",
       "      <th>616</th>\n",
       "      <td>Software Architect Lead Developer</td>\n",
       "      <td>https://www.linkedin.com/jobs/view/3679798856/...</td>\n",
       "      <td>3679798856</td>\n",
       "    </tr>\n",
       "    <tr>\n",
       "      <th>636</th>\n",
       "      <td>Senior Software Engineer</td>\n",
       "      <td>https://www.linkedin.com/jobs/view/3691558187/...</td>\n",
       "      <td>3691558187</td>\n",
       "    </tr>\n",
       "    <tr>\n",
       "      <th>648</th>\n",
       "      <td>Fixed Term: Chief Health, P5, Islamabad, Pakis...</td>\n",
       "      <td>https://www.linkedin.com/jobs/view/3727028422/...</td>\n",
       "      <td>3727028422</td>\n",
       "    </tr>\n",
       "    <tr>\n",
       "      <th>708</th>\n",
       "      <td>Senior Software Engineer</td>\n",
       "      <td>https://www.linkedin.com/jobs/view/3691553817/...</td>\n",
       "      <td>3691553817</td>\n",
       "    </tr>\n",
       "  </tbody>\n",
       "</table>\n",
       "</div>"
      ],
      "text/plain": [
       "                                             Job Title  \\\n",
       "561                                  Sr. SDET Engineer   \n",
       "591                         Cloud Technical Specialist   \n",
       "616                  Software Architect Lead Developer   \n",
       "636                           Senior Software Engineer   \n",
       "648  Fixed Term: Chief Health, P5, Islamabad, Pakis...   \n",
       "708                           Senior Software Engineer   \n",
       "\n",
       "                                              Job Link      Job ID  \n",
       "561  https://www.linkedin.com/jobs/view/3631035048/...  3631035048  \n",
       "591  https://www.linkedin.com/jobs/view/3707088816/...  3707088816  \n",
       "616  https://www.linkedin.com/jobs/view/3679798856/...  3679798856  \n",
       "636  https://www.linkedin.com/jobs/view/3691558187/...  3691558187  \n",
       "648  https://www.linkedin.com/jobs/view/3727028422/...  3727028422  \n",
       "708  https://www.linkedin.com/jobs/view/3691553817/...  3691553817  "
      ]
     },
     "execution_count": 20,
     "metadata": {},
     "output_type": "execute_result"
    }
   ],
   "source": [
    "df_concat2=pd.concat([df1,df5],ignore_index=True) \n",
    "duplicates = df_concat2['Job ID'].duplicated()\n",
    "df_concat2[duplicates]"
   ]
  },
  {
   "cell_type": "code",
   "execution_count": 21,
   "id": "bb52bdc8-07b8-4655-98f5-61f26d4d99c4",
   "metadata": {},
   "outputs": [
    {
     "data": {
      "text/html": [
       "<div>\n",
       "<style scoped>\n",
       "    .dataframe tbody tr th:only-of-type {\n",
       "        vertical-align: middle;\n",
       "    }\n",
       "\n",
       "    .dataframe tbody tr th {\n",
       "        vertical-align: top;\n",
       "    }\n",
       "\n",
       "    .dataframe thead th {\n",
       "        text-align: right;\n",
       "    }\n",
       "</style>\n",
       "<table border=\"1\" class=\"dataframe\">\n",
       "  <thead>\n",
       "    <tr style=\"text-align: right;\">\n",
       "      <th></th>\n",
       "      <th>Job Title</th>\n",
       "      <th>Job Link</th>\n",
       "      <th>Job ID</th>\n",
       "    </tr>\n",
       "  </thead>\n",
       "  <tbody>\n",
       "    <tr>\n",
       "      <th>592</th>\n",
       "      <td>Sr. SDET Engineer</td>\n",
       "      <td>https://www.linkedin.com/jobs/view/3631034202/...</td>\n",
       "      <td>3631034202</td>\n",
       "    </tr>\n",
       "  </tbody>\n",
       "</table>\n",
       "</div>"
      ],
      "text/plain": [
       "             Job Title                                           Job Link  \\\n",
       "592  Sr. SDET Engineer  https://www.linkedin.com/jobs/view/3631034202/...   \n",
       "\n",
       "         Job ID  \n",
       "592  3631034202  "
      ]
     },
     "execution_count": 21,
     "metadata": {},
     "output_type": "execute_result"
    }
   ],
   "source": [
    "df_concat2=pd.concat([df1,df6],ignore_index=True) \n",
    "duplicates = df_concat2['Job ID'].duplicated()\n",
    "df_concat2[duplicates]"
   ]
  },
  {
   "cell_type": "code",
   "execution_count": 22,
   "id": "486dfdd7-2f69-4c3e-9458-4bfdba3b9b5c",
   "metadata": {},
   "outputs": [
    {
     "data": {
      "text/html": [
       "<div>\n",
       "<style scoped>\n",
       "    .dataframe tbody tr th:only-of-type {\n",
       "        vertical-align: middle;\n",
       "    }\n",
       "\n",
       "    .dataframe tbody tr th {\n",
       "        vertical-align: top;\n",
       "    }\n",
       "\n",
       "    .dataframe thead th {\n",
       "        text-align: right;\n",
       "    }\n",
       "</style>\n",
       "<table border=\"1\" class=\"dataframe\">\n",
       "  <thead>\n",
       "    <tr style=\"text-align: right;\">\n",
       "      <th></th>\n",
       "      <th>Job Title</th>\n",
       "      <th>Job Link</th>\n",
       "      <th>Job ID</th>\n",
       "    </tr>\n",
       "  </thead>\n",
       "  <tbody>\n",
       "    <tr>\n",
       "      <th>564</th>\n",
       "      <td>Sr. SDET Engineer</td>\n",
       "      <td>https://www.linkedin.com/jobs/view/3631035048/...</td>\n",
       "      <td>3631035048</td>\n",
       "    </tr>\n",
       "    <tr>\n",
       "      <th>684</th>\n",
       "      <td>Assistant Manager Project Planning &amp; Design</td>\n",
       "      <td>https://www.linkedin.com/jobs/view/3728159525/...</td>\n",
       "      <td>3728159525</td>\n",
       "    </tr>\n",
       "    <tr>\n",
       "      <th>700</th>\n",
       "      <td>Assistant Manager Channel Enablement</td>\n",
       "      <td>https://www.linkedin.com/jobs/view/3728157925/...</td>\n",
       "      <td>3728157925</td>\n",
       "    </tr>\n",
       "    <tr>\n",
       "      <th>719</th>\n",
       "      <td>AI-Augmented Software Developer, Trilogy (Remo...</td>\n",
       "      <td>https://www.linkedin.com/jobs/view/3710741653/...</td>\n",
       "      <td>3710741653</td>\n",
       "    </tr>\n",
       "    <tr>\n",
       "      <th>814</th>\n",
       "      <td>Senior Technical Support Engineer, Skyvera (Re...</td>\n",
       "      <td>https://www.linkedin.com/jobs/view/3715439728/...</td>\n",
       "      <td>3715439728</td>\n",
       "    </tr>\n",
       "    <tr>\n",
       "      <th>875</th>\n",
       "      <td>Sr. SDET Engineer</td>\n",
       "      <td>https://www.linkedin.com/jobs/view/3631034202/...</td>\n",
       "      <td>3631034202</td>\n",
       "    </tr>\n",
       "  </tbody>\n",
       "</table>\n",
       "</div>"
      ],
      "text/plain": [
       "                                             Job Title  \\\n",
       "564                                  Sr. SDET Engineer   \n",
       "684        Assistant Manager Project Planning & Design   \n",
       "700               Assistant Manager Channel Enablement   \n",
       "719  AI-Augmented Software Developer, Trilogy (Remo...   \n",
       "814  Senior Technical Support Engineer, Skyvera (Re...   \n",
       "875                                  Sr. SDET Engineer   \n",
       "\n",
       "                                              Job Link      Job ID  \n",
       "564  https://www.linkedin.com/jobs/view/3631035048/...  3631035048  \n",
       "684  https://www.linkedin.com/jobs/view/3728159525/...  3728159525  \n",
       "700  https://www.linkedin.com/jobs/view/3728157925/...  3728157925  \n",
       "719  https://www.linkedin.com/jobs/view/3710741653/...  3710741653  \n",
       "814  https://www.linkedin.com/jobs/view/3715439728/...  3715439728  \n",
       "875  https://www.linkedin.com/jobs/view/3631034202/...  3631034202  "
      ]
     },
     "execution_count": 22,
     "metadata": {},
     "output_type": "execute_result"
    }
   ],
   "source": [
    "df_concat2=pd.concat([df1,df7],ignore_index=True) \n",
    "duplicates = df_concat2['Job ID'].duplicated()\n",
    "df_concat2[duplicates]"
   ]
  },
  {
   "cell_type": "code",
   "execution_count": null,
   "id": "3c1d4d8e-85c4-42f9-9f62-7b5eb78e308e",
   "metadata": {},
   "outputs": [],
   "source": []
  },
  {
   "cell_type": "markdown",
   "id": "734d344d-ad4e-4f8d-965c-3b9eb36c5e56",
   "metadata": {},
   "source": [
    "### checking duplicates"
   ]
  },
  {
   "cell_type": "code",
   "execution_count": 25,
   "id": "ef2bd986-a157-46a1-83b8-4bef0c56e5d2",
   "metadata": {},
   "outputs": [
    {
     "data": {
      "text/plain": [
       "2116"
      ]
     },
     "execution_count": 25,
     "metadata": {},
     "output_type": "execute_result"
    }
   ],
   "source": [
    "len(df)"
   ]
  },
  {
   "cell_type": "code",
   "execution_count": 26,
   "id": "f46f8835-2357-40fe-a25f-9ef307238a00",
   "metadata": {},
   "outputs": [
    {
     "data": {
      "text/plain": [
       "1912"
      ]
     },
     "execution_count": 26,
     "metadata": {},
     "output_type": "execute_result"
    }
   ],
   "source": [
    "len(df['Job ID'].unique())"
   ]
  },
  {
   "cell_type": "code",
   "execution_count": 27,
   "id": "16f03f39-ef42-4319-a853-b6aff4dcfc74",
   "metadata": {},
   "outputs": [
    {
     "data": {
      "text/plain": [
       "204"
      ]
     },
     "execution_count": 27,
     "metadata": {},
     "output_type": "execute_result"
    }
   ],
   "source": [
    "len(df)-len(df['Job ID'].unique())"
   ]
  },
  {
   "cell_type": "code",
   "execution_count": 28,
   "id": "4d8f3b78-ccbd-4c80-b351-f31500d65605",
   "metadata": {},
   "outputs": [
    {
     "data": {
      "text/plain": [
       "Job ID\n",
       "3631034202    4\n",
       "3691553817    4\n",
       "3727540146    4\n",
       "3727374000    3\n",
       "3728826214    3\n",
       "             ..\n",
       "3727540297    1\n",
       "3727550102    1\n",
       "3727511731    1\n",
       "3727544368    1\n",
       "3731393614    1\n",
       "Name: count, Length: 1912, dtype: int64"
      ]
     },
     "execution_count": 28,
     "metadata": {},
     "output_type": "execute_result"
    }
   ],
   "source": [
    "df['Job ID'].value_counts()"
   ]
  },
  {
   "cell_type": "code",
   "execution_count": 11,
   "id": "daac1f95-161c-4c80-8771-ee3e2905fc36",
   "metadata": {},
   "outputs": [
    {
     "data": {
      "text/plain": [
       "array([4, 3, 2, 1], dtype=int64)"
      ]
     },
     "execution_count": 11,
     "metadata": {},
     "output_type": "execute_result"
    }
   ],
   "source": [
    "df['Job ID'].value_counts().unique()"
   ]
  },
  {
   "cell_type": "code",
   "execution_count": 11,
   "id": "12346237-4553-4608-a1a0-090c7402ba68",
   "metadata": {},
   "outputs": [
    {
     "data": {
      "text/plain": [
       "204"
      ]
     },
     "execution_count": 11,
     "metadata": {},
     "output_type": "execute_result"
    }
   ],
   "source": [
    "duplicates_count=df.duplicated(subset=['Job ID']).sum()\n",
    "duplicates_count"
   ]
  },
  {
   "cell_type": "code",
   "execution_count": 12,
   "id": "88210200-bf59-441b-b4d7-d244ae038dee",
   "metadata": {},
   "outputs": [
    {
     "data": {
      "text/html": [
       "<div>\n",
       "<style scoped>\n",
       "    .dataframe tbody tr th:only-of-type {\n",
       "        vertical-align: middle;\n",
       "    }\n",
       "\n",
       "    .dataframe tbody tr th {\n",
       "        vertical-align: top;\n",
       "    }\n",
       "\n",
       "    .dataframe thead th {\n",
       "        text-align: right;\n",
       "    }\n",
       "</style>\n",
       "<table border=\"1\" class=\"dataframe\">\n",
       "  <thead>\n",
       "    <tr style=\"text-align: right;\">\n",
       "      <th></th>\n",
       "      <th>Job Title</th>\n",
       "      <th>Job Link</th>\n",
       "      <th>Job ID</th>\n",
       "    </tr>\n",
       "  </thead>\n",
       "  <tbody>\n",
       "    <tr>\n",
       "      <th>603</th>\n",
       "      <td>Odoo Developer</td>\n",
       "      <td>https://www.linkedin.com/jobs/view/3727054738/...</td>\n",
       "      <td>3727054738</td>\n",
       "    </tr>\n",
       "    <tr>\n",
       "      <th>781</th>\n",
       "      <td>Assistant Manager Sales/Sales Executive</td>\n",
       "      <td>https://www.linkedin.com/jobs/view/3727057147/...</td>\n",
       "      <td>3727057147</td>\n",
       "    </tr>\n",
       "    <tr>\n",
       "      <th>834</th>\n",
       "      <td>Back-End Network Engineer</td>\n",
       "      <td>https://www.linkedin.com/jobs/view/3726337380/...</td>\n",
       "      <td>3726337380</td>\n",
       "    </tr>\n",
       "    <tr>\n",
       "      <th>840</th>\n",
       "      <td>Release Management Engineer</td>\n",
       "      <td>https://www.linkedin.com/jobs/view/3727054443/...</td>\n",
       "      <td>3727054443</td>\n",
       "    </tr>\n",
       "    <tr>\n",
       "      <th>842</th>\n",
       "      <td>Sr. International Sales Executive (Night Shift)</td>\n",
       "      <td>https://www.linkedin.com/jobs/view/3727051751/...</td>\n",
       "      <td>3727051751</td>\n",
       "    </tr>\n",
       "    <tr>\n",
       "      <th>...</th>\n",
       "      <td>...</td>\n",
       "      <td>...</td>\n",
       "      <td>...</td>\n",
       "    </tr>\n",
       "    <tr>\n",
       "      <th>2101</th>\n",
       "      <td>iOS Developer, gt.school (Remote) - $100,000/y...</td>\n",
       "      <td>https://www.linkedin.com/jobs/view/3727369745/...</td>\n",
       "      <td>3727369745</td>\n",
       "    </tr>\n",
       "    <tr>\n",
       "      <th>2102</th>\n",
       "      <td>Principal Software Architect, gt.school (Remot...</td>\n",
       "      <td>https://www.linkedin.com/jobs/view/3723018240/...</td>\n",
       "      <td>3723018240</td>\n",
       "    </tr>\n",
       "    <tr>\n",
       "      <th>2103</th>\n",
       "      <td>Senior C++ Engineer, Trilogy (Remote) - $200,0...</td>\n",
       "      <td>https://www.linkedin.com/jobs/view/3727372131/...</td>\n",
       "      <td>3727372131</td>\n",
       "    </tr>\n",
       "    <tr>\n",
       "      <th>2104</th>\n",
       "      <td>Senior Mobile Engineer, gt.school (Remote) - $...</td>\n",
       "      <td>https://www.linkedin.com/jobs/view/3723013929/...</td>\n",
       "      <td>3723013929</td>\n",
       "    </tr>\n",
       "    <tr>\n",
       "      <th>2105</th>\n",
       "      <td>Senior Mobile Developer, gt.school (Remote) - ...</td>\n",
       "      <td>https://www.linkedin.com/jobs/view/3723015541/...</td>\n",
       "      <td>3723015541</td>\n",
       "    </tr>\n",
       "  </tbody>\n",
       "</table>\n",
       "<p>204 rows × 3 columns</p>\n",
       "</div>"
      ],
      "text/plain": [
       "                                              Job Title  \\\n",
       "603                                      Odoo Developer   \n",
       "781             Assistant Manager Sales/Sales Executive   \n",
       "834                           Back-End Network Engineer   \n",
       "840                         Release Management Engineer   \n",
       "842     Sr. International Sales Executive (Night Shift)   \n",
       "...                                                 ...   \n",
       "2101  iOS Developer, gt.school (Remote) - $100,000/y...   \n",
       "2102  Principal Software Architect, gt.school (Remot...   \n",
       "2103  Senior C++ Engineer, Trilogy (Remote) - $200,0...   \n",
       "2104  Senior Mobile Engineer, gt.school (Remote) - $...   \n",
       "2105  Senior Mobile Developer, gt.school (Remote) - ...   \n",
       "\n",
       "                                               Job Link      Job ID  \n",
       "603   https://www.linkedin.com/jobs/view/3727054738/...  3727054738  \n",
       "781   https://www.linkedin.com/jobs/view/3727057147/...  3727057147  \n",
       "834   https://www.linkedin.com/jobs/view/3726337380/...  3726337380  \n",
       "840   https://www.linkedin.com/jobs/view/3727054443/...  3727054443  \n",
       "842   https://www.linkedin.com/jobs/view/3727051751/...  3727051751  \n",
       "...                                                 ...         ...  \n",
       "2101  https://www.linkedin.com/jobs/view/3727369745/...  3727369745  \n",
       "2102  https://www.linkedin.com/jobs/view/3723018240/...  3723018240  \n",
       "2103  https://www.linkedin.com/jobs/view/3727372131/...  3727372131  \n",
       "2104  https://www.linkedin.com/jobs/view/3723013929/...  3723013929  \n",
       "2105  https://www.linkedin.com/jobs/view/3723015541/...  3723015541  \n",
       "\n",
       "[204 rows x 3 columns]"
      ]
     },
     "execution_count": 12,
     "metadata": {},
     "output_type": "execute_result"
    }
   ],
   "source": [
    "duplicates = df['Job ID'].duplicated()\n",
    "df[duplicates]"
   ]
  },
  {
   "cell_type": "code",
   "execution_count": 15,
   "id": "f9a5aa72-7902-4ef4-8ee3-ac3db864fb4b",
   "metadata": {},
   "outputs": [
    {
     "data": {
      "text/plain": [
       "913"
      ]
     },
     "execution_count": 15,
     "metadata": {},
     "output_type": "execute_result"
    }
   ],
   "source": [
    "561+352"
   ]
  },
  {
   "cell_type": "code",
   "execution_count": 27,
   "id": "0e4aea22-179d-41d3-9c94-480e9de85ce1",
   "metadata": {},
   "outputs": [
    {
     "data": {
      "text/plain": [
       "1222"
      ]
     },
     "execution_count": 27,
     "metadata": {},
     "output_type": "execute_result"
    }
   ],
   "source": [
    "913+309"
   ]
  },
  {
   "cell_type": "code",
   "execution_count": 26,
   "id": "be71465b-a416-4beb-87a5-6f1981228439",
   "metadata": {},
   "outputs": [
    {
     "data": {
      "text/plain": [
       "1756"
      ]
     },
     "execution_count": 26,
     "metadata": {},
     "output_type": "execute_result"
    }
   ],
   "source": [
    "1222+239+170+125"
   ]
  },
  {
   "cell_type": "code",
   "execution_count": 27,
   "id": "b1a0fd98-a963-48bc-9143-5eebe87bd565",
   "metadata": {},
   "outputs": [
    {
     "data": {
      "text/plain": [
       "2116"
      ]
     },
     "execution_count": 27,
     "metadata": {},
     "output_type": "execute_result"
    }
   ],
   "source": [
    "1222+239+170+125+360"
   ]
  },
  {
   "cell_type": "code",
   "execution_count": 34,
   "id": "f4a768a4-00fe-4118-b88d-1bb3bc676078",
   "metadata": {},
   "outputs": [
    {
     "data": {
      "text/plain": [
       "RangeIndex(start=0, stop=2116, step=1)"
      ]
     },
     "execution_count": 34,
     "metadata": {},
     "output_type": "execute_result"
    }
   ],
   "source": [
    "df.index"
   ]
  },
  {
   "cell_type": "code",
   "execution_count": 15,
   "id": "2e54317d-7ac4-46d3-9b70-e4707be48aa7",
   "metadata": {},
   "outputs": [
    {
     "data": {
      "text/plain": [
       "Index([ 603,  781,  834,  840,  842,  916,  947,  950, 1181, 1219,\n",
       "       ...\n",
       "       2086, 2087, 2088, 2089, 2090, 2101, 2102, 2103, 2104, 2105],\n",
       "      dtype='int64', length=204)"
      ]
     },
     "execution_count": 15,
     "metadata": {},
     "output_type": "execute_result"
    }
   ],
   "source": [
    "df[duplicates].index"
   ]
  },
  {
   "cell_type": "code",
   "execution_count": null,
   "id": "8a8f5290-70ab-4630-8422-b8809711e5a0",
   "metadata": {},
   "outputs": [],
   "source": []
  },
  {
   "cell_type": "code",
   "execution_count": null,
   "id": "20dee3d2-7537-4e5a-8fc9-81c49614a9cb",
   "metadata": {},
   "outputs": [],
   "source": []
  },
  {
   "cell_type": "code",
   "execution_count": null,
   "id": "52b53cb5-beaf-404f-904b-2573e139a8e9",
   "metadata": {},
   "outputs": [],
   "source": []
  },
  {
   "cell_type": "code",
   "execution_count": null,
   "id": "162104b1-6c1c-4786-b687-ced06e956a04",
   "metadata": {},
   "outputs": [],
   "source": []
  },
  {
   "cell_type": "code",
   "execution_count": null,
   "id": "bda73fd3-de2a-4ec2-8ac1-7a32251b0180",
   "metadata": {},
   "outputs": [],
   "source": []
  },
  {
   "cell_type": "markdown",
   "id": "e8a24c4c-f8ec-4a18-a337-3f090cf98a33",
   "metadata": {},
   "source": [
    "we have to +1 index for last index"
   ]
  },
  {
   "cell_type": "code",
   "execution_count": null,
   "id": "9a4e5328-0339-4f87-9cce-9365b2468933",
   "metadata": {},
   "outputs": [],
   "source": [
    "df.iloc[550:561]"
   ]
  },
  {
   "cell_type": "code",
   "execution_count": 51,
   "id": "d18178e8-7b90-4e50-b42c-f7fbf9c71feb",
   "metadata": {},
   "outputs": [
    {
     "data": {
      "text/plain": [
       "Index([], dtype='int64')"
      ]
     },
     "execution_count": 51,
     "metadata": {},
     "output_type": "execute_result"
    }
   ],
   "source": [
    "df.iloc[:561][duplicates[:561]].index"
   ]
  },
  {
   "cell_type": "code",
   "execution_count": 43,
   "id": "da7b04ab-45b8-436b-bb85-d7f2db93c1d5",
   "metadata": {},
   "outputs": [
    {
     "data": {
      "text/plain": [
       "Index([603, 781, 834, 840, 842], dtype='int64')"
      ]
     },
     "execution_count": 43,
     "metadata": {},
     "output_type": "execute_result"
    }
   ],
   "source": [
    "df.iloc[561:912][duplicates[561:912]].index"
   ]
  },
  {
   "cell_type": "code",
   "execution_count": 30,
   "id": "885cf81e-5836-4e2f-9d79-fdd26c41aa53",
   "metadata": {},
   "outputs": [
    {
     "data": {
      "text/plain": [
       "5"
      ]
     },
     "execution_count": 30,
     "metadata": {},
     "output_type": "execute_result"
    }
   ],
   "source": [
    "len(df.iloc[561:913][duplicates[561:913]].index)"
   ]
  },
  {
   "cell_type": "code",
   "execution_count": 44,
   "id": "473d44a4-329f-498e-8290-e6a96b078fd5",
   "metadata": {},
   "outputs": [
    {
     "data": {
      "text/plain": [
       "Index([916, 947, 950, 1181, 1219], dtype='int64')"
      ]
     },
     "execution_count": 44,
     "metadata": {},
     "output_type": "execute_result"
    }
   ],
   "source": [
    "df.iloc[913:1221][duplicates[913:1221]].index"
   ]
  },
  {
   "cell_type": "code",
   "execution_count": 31,
   "id": "9719d013-155a-4101-ab8a-476f1d2d3878",
   "metadata": {},
   "outputs": [
    {
     "data": {
      "text/plain": [
       "5"
      ]
     },
     "execution_count": 31,
     "metadata": {},
     "output_type": "execute_result"
    }
   ],
   "source": [
    "len(df.iloc[913:1222][duplicates[913:1222]].index)"
   ]
  },
  {
   "cell_type": "code",
   "execution_count": 45,
   "id": "ad43182e-49e0-4aa4-b547-ffbd4cbcbaa2",
   "metadata": {},
   "outputs": [
    {
     "data": {
      "text/plain": [
       "Index([1224, 1237, 1241, 1270, 1272, 1282, 1286, 1297, 1305, 1306, 1322, 1381,\n",
       "       1384, 1390, 1397, 1398, 1400, 1404, 1405, 1407, 1408, 1409, 1411, 1414,\n",
       "       1415, 1416, 1418, 1419, 1422, 1423, 1425, 1427, 1428, 1429, 1447, 1451],\n",
       "      dtype='int64')"
      ]
     },
     "execution_count": 45,
     "metadata": {},
     "output_type": "execute_result"
    }
   ],
   "source": [
    "df.iloc[1222:1460][duplicates[1222:1460]].index"
   ]
  },
  {
   "cell_type": "code",
   "execution_count": 32,
   "id": "6323fb1d-81db-4817-a76a-ea7e9c3b0699",
   "metadata": {},
   "outputs": [
    {
     "data": {
      "text/plain": [
       "36"
      ]
     },
     "execution_count": 32,
     "metadata": {},
     "output_type": "execute_result"
    }
   ],
   "source": [
    "len(df.iloc[1222:1461][duplicates[1222:1461]].index)"
   ]
  },
  {
   "cell_type": "code",
   "execution_count": 46,
   "id": "32a7886a-4c1f-459b-b173-273dbcfe2e42",
   "metadata": {},
   "outputs": [
    {
     "data": {
      "text/plain": [
       "Index([1461, 1462, 1463, 1467, 1469, 1470, 1471, 1474, 1475, 1476, 1479, 1480,\n",
       "       1482, 1484, 1485, 1487, 1488, 1489, 1491, 1493, 1494, 1495, 1497, 1499,\n",
       "       1500, 1501, 1503, 1505, 1506, 1511, 1512, 1513, 1516, 1536, 1537, 1539,\n",
       "       1541, 1544, 1548, 1549, 1555, 1556, 1562, 1564, 1567, 1568, 1576, 1578,\n",
       "       1586, 1588, 1590, 1591, 1592, 1593, 1608, 1611, 1612, 1613, 1619, 1622],\n",
       "      dtype='int64')"
      ]
     },
     "execution_count": 46,
     "metadata": {},
     "output_type": "execute_result"
    }
   ],
   "source": [
    "df.iloc[1461:1630][duplicates[1461:1630]].index"
   ]
  },
  {
   "cell_type": "code",
   "execution_count": 33,
   "id": "3ca341f2-94f4-4b2e-8aac-fbbe55507eee",
   "metadata": {},
   "outputs": [
    {
     "data": {
      "text/plain": [
       "60"
      ]
     },
     "execution_count": 33,
     "metadata": {},
     "output_type": "execute_result"
    }
   ],
   "source": [
    "len(df.iloc[1461:1631][duplicates[1461:1631]].index)"
   ]
  },
  {
   "cell_type": "code",
   "execution_count": 47,
   "id": "70f40d81-8769-406f-aeab-ade081ca6d96",
   "metadata": {},
   "outputs": [
    {
     "data": {
      "text/plain": [
       "Index([1634, 1647, 1651, 1653, 1657, 1662, 1671, 1682, 1684, 1724, 1728, 1739,\n",
       "       1746, 1752],\n",
       "      dtype='int64')"
      ]
     },
     "execution_count": 47,
     "metadata": {},
     "output_type": "execute_result"
    }
   ],
   "source": [
    "df.iloc[1631:1755][duplicates[1631:1755]].index"
   ]
  },
  {
   "cell_type": "code",
   "execution_count": 34,
   "id": "66e835b0-766d-40b1-974e-a40484199e1f",
   "metadata": {},
   "outputs": [
    {
     "data": {
      "text/plain": [
       "14"
      ]
     },
     "execution_count": 34,
     "metadata": {},
     "output_type": "execute_result"
    }
   ],
   "source": [
    "len(df.iloc[1631:1756][duplicates[1631:1756]].index)"
   ]
  },
  {
   "cell_type": "code",
   "execution_count": 59,
   "id": "d5c6e129-ccae-41d3-8aab-267cfa1805ef",
   "metadata": {},
   "outputs": [
    {
     "data": {
      "text/plain": [
       "Index([1759, 1764, 1771, 1775, 1786, 1806, 1831, 1833, 1834, 1836, 1837, 1838,\n",
       "       1849, 1856, 1858, 1859, 1861, 1862, 1863, 1865, 1868, 1879, 1881, 1882,\n",
       "       1883, 1884, 1895, 1904, 1906, 1907, 1908, 1909, 1911, 1914, 1931, 1932,\n",
       "       1958, 1959, 1973, 1981, 1982, 1983, 1984, 1986, 2007, 2008, 2009, 2010,\n",
       "       2011, 2013, 2019, 2020, 2021, 2022, 2031, 2032, 2033, 2034, 2036, 2038,\n",
       "       2039, 2040, 2056, 2057, 2058, 2059, 2061, 2062, 2067, 2069, 2070, 2081,\n",
       "       2082, 2083, 2086, 2087, 2088, 2089, 2090, 2101, 2102, 2103, 2104, 2105],\n",
       "      dtype='int64')"
      ]
     },
     "execution_count": 59,
     "metadata": {},
     "output_type": "execute_result"
    }
   ],
   "source": [
    "df.iloc[1756:2116][duplicates[1756:2116]].index"
   ]
  },
  {
   "cell_type": "code",
   "execution_count": 35,
   "id": "0ef02ee2-59f0-4926-94c2-205d7d3f487a",
   "metadata": {},
   "outputs": [
    {
     "data": {
      "text/plain": [
       "84"
      ]
     },
     "execution_count": 35,
     "metadata": {},
     "output_type": "execute_result"
    }
   ],
   "source": [
    "len(df.iloc[1756:2116][duplicates[1756:2116]].index)"
   ]
  },
  {
   "cell_type": "code",
   "execution_count": 36,
   "id": "4a5624b3-c498-406d-91d3-307ef049c1b3",
   "metadata": {},
   "outputs": [
    {
     "data": {
      "text/plain": [
       "204"
      ]
     },
     "execution_count": 36,
     "metadata": {},
     "output_type": "execute_result"
    }
   ],
   "source": [
    "5+5+36+60+14+84"
   ]
  },
  {
   "cell_type": "code",
   "execution_count": null,
   "id": "d4cdb1e9-5254-480d-83b8-859944baf471",
   "metadata": {},
   "outputs": [],
   "source": []
  },
  {
   "cell_type": "code",
   "execution_count": null,
   "id": "3306c93c-e78a-4ee3-8b89-41955776bf02",
   "metadata": {},
   "outputs": [],
   "source": []
  },
  {
   "cell_type": "code",
   "execution_count": null,
   "id": "66947fb6-f373-47b3-a169-65b984ee8ba7",
   "metadata": {},
   "outputs": [],
   "source": []
  },
  {
   "cell_type": "code",
   "execution_count": null,
   "id": "86bd8cc8-ae3a-45fd-9878-b4f1afc7bf3e",
   "metadata": {},
   "outputs": [],
   "source": []
  },
  {
   "cell_type": "code",
   "execution_count": null,
   "id": "57ce2194-0a15-403f-9507-10e46dbf1614",
   "metadata": {},
   "outputs": [],
   "source": []
  },
  {
   "cell_type": "code",
   "execution_count": null,
   "id": "fd65abe6-2b34-4ced-b117-1147327d574f",
   "metadata": {},
   "outputs": [],
   "source": []
  },
  {
   "cell_type": "code",
   "execution_count": null,
   "id": "44cb5e56-06dc-4425-8f87-4907bfbbf39f",
   "metadata": {},
   "outputs": [],
   "source": []
  },
  {
   "cell_type": "code",
   "execution_count": null,
   "id": "f1e8d2e8-b6e7-4a3a-be69-be78f5d51a4c",
   "metadata": {},
   "outputs": [],
   "source": []
  },
  {
   "cell_type": "code",
   "execution_count": null,
   "id": "5077d041-773b-4dd1-8ae5-9b36d570678a",
   "metadata": {},
   "outputs": [],
   "source": []
  },
  {
   "cell_type": "code",
   "execution_count": null,
   "id": "d3d7b736-3fba-4038-b855-bf05d53dfcbd",
   "metadata": {},
   "outputs": [],
   "source": []
  },
  {
   "cell_type": "code",
   "execution_count": null,
   "id": "f1e731ab-5067-4da0-b4e8-e81e40db3bc2",
   "metadata": {},
   "outputs": [],
   "source": []
  },
  {
   "cell_type": "code",
   "execution_count": 13,
   "id": "1177fe43-3538-48f1-8409-7c72408dc424",
   "metadata": {},
   "outputs": [
    {
     "name": "stdout",
     "output_type": "stream",
     "text": [
      "start_index:0\n",
      "end_index:561\n",
      "start_index:561\n",
      "end_index:913\n",
      "start_index:913\n",
      "end_index:1222\n",
      "start_index:1222\n",
      "end_index:1461\n",
      "start_index:1461\n",
      "end_index:1631\n",
      "start_index:1631\n",
      "end_index:1756\n",
      "start_index:1756\n",
      "end_index:2116\n"
     ]
    }
   ],
   "source": [
    "start_index=0\n",
    "# start_indexes=[]\n",
    "for file in file_names:\n",
    "    df2=pd.read_csv(path+'/'+file)\n",
    "    nrows=len(df2)\n",
    "    end_index=start_index+ len(df2)\n",
    "    print(f'start_index:{start_index}')\n",
    "    print(f'end_index:{end_index}')\n",
    "    start_index=end_index\n",
    "    # start_indexes.append(start_index)\n",
    "\n",
    "    \n",
    "    \n",
    "    "
   ]
  },
  {
   "cell_type": "code",
   "execution_count": 26,
   "id": "24dc59e6-3f55-4ab7-bd59-e7369649b4a3",
   "metadata": {},
   "outputs": [],
   "source": [
    "start_index=0\n",
    "for file in file_names:\n",
    "    df2=pd.read_csv(path+'/'+file)\n",
    "    nrows=len(df2)\n",
    "    end_index=start_index+ len(df2)\n",
    "    df3=df.drop(df.index[df.iloc[start_index:end_index][duplicates[start_index:end_index]].index])\n",
    "    df3=df3.iloc[start_index:end_index]\n",
    "    df3.to_csv(file,index=False)\n",
    "    start_index=end_index"
   ]
  },
  {
   "cell_type": "code",
   "execution_count": 29,
   "id": "90d57277-3d0f-4752-9a28-4d082be6cfdf",
   "metadata": {},
   "outputs": [],
   "source": [
    "df4=pd.read_csv('Linkedin_Job_Links_28-Sep-2023_309-jobs_14-pages.csv')"
   ]
  },
  {
   "cell_type": "code",
   "execution_count": 30,
   "id": "76e19481-ea17-44b6-834b-d9c9ed90a331",
   "metadata": {},
   "outputs": [
    {
     "data": {
      "text/html": [
       "<div>\n",
       "<style scoped>\n",
       "    .dataframe tbody tr th:only-of-type {\n",
       "        vertical-align: middle;\n",
       "    }\n",
       "\n",
       "    .dataframe tbody tr th {\n",
       "        vertical-align: top;\n",
       "    }\n",
       "\n",
       "    .dataframe thead th {\n",
       "        text-align: right;\n",
       "    }\n",
       "</style>\n",
       "<table border=\"1\" class=\"dataframe\">\n",
       "  <thead>\n",
       "    <tr style=\"text-align: right;\">\n",
       "      <th></th>\n",
       "      <th>Job Title</th>\n",
       "      <th>Job Link</th>\n",
       "      <th>Job ID</th>\n",
       "    </tr>\n",
       "  </thead>\n",
       "  <tbody>\n",
       "    <tr>\n",
       "      <th>0</th>\n",
       "      <td>Snr. Mgr. Metro &amp; Transmission</td>\n",
       "      <td>https://www.linkedin.com/jobs/view/3726270160/...</td>\n",
       "      <td>3726270160</td>\n",
       "    </tr>\n",
       "    <tr>\n",
       "      <th>1</th>\n",
       "      <td>Senior UI/UX Designer</td>\n",
       "      <td>https://www.linkedin.com/jobs/view/3728235345/...</td>\n",
       "      <td>3728235345</td>\n",
       "    </tr>\n",
       "    <tr>\n",
       "      <th>2</th>\n",
       "      <td>Manager Product Innovation</td>\n",
       "      <td>https://www.linkedin.com/jobs/view/3711977720/...</td>\n",
       "      <td>3711977720</td>\n",
       "    </tr>\n",
       "    <tr>\n",
       "      <th>3</th>\n",
       "      <td>LinkedIn Data Extractor</td>\n",
       "      <td>https://www.linkedin.com/jobs/view/3728211581/...</td>\n",
       "      <td>3728211581</td>\n",
       "    </tr>\n",
       "    <tr>\n",
       "      <th>4</th>\n",
       "      <td>Senior Computer Vision Engineer</td>\n",
       "      <td>https://www.linkedin.com/jobs/view/3677060094/...</td>\n",
       "      <td>3677060094</td>\n",
       "    </tr>\n",
       "    <tr>\n",
       "      <th>...</th>\n",
       "      <td>...</td>\n",
       "      <td>...</td>\n",
       "      <td>...</td>\n",
       "    </tr>\n",
       "    <tr>\n",
       "      <th>304</th>\n",
       "      <td>Manager Project Acquisition</td>\n",
       "      <td>https://www.linkedin.com/jobs/view/3728836470/...</td>\n",
       "      <td>3728836470</td>\n",
       "    </tr>\n",
       "    <tr>\n",
       "      <th>305</th>\n",
       "      <td>Sales Agent</td>\n",
       "      <td>https://www.linkedin.com/jobs/view/3716056255/...</td>\n",
       "      <td>3716056255</td>\n",
       "    </tr>\n",
       "    <tr>\n",
       "      <th>306</th>\n",
       "      <td>Sr. SDET Engineer</td>\n",
       "      <td>https://www.linkedin.com/jobs/view/3631034202/...</td>\n",
       "      <td>3631034202</td>\n",
       "    </tr>\n",
       "    <tr>\n",
       "      <th>307</th>\n",
       "      <td>Software Engineer</td>\n",
       "      <td>https://www.linkedin.com/jobs/view/3722461744/...</td>\n",
       "      <td>3722461744</td>\n",
       "    </tr>\n",
       "    <tr>\n",
       "      <th>308</th>\n",
       "      <td>Machine Learning Engineer</td>\n",
       "      <td>https://www.linkedin.com/jobs/view/3728825617/...</td>\n",
       "      <td>3728825617</td>\n",
       "    </tr>\n",
       "  </tbody>\n",
       "</table>\n",
       "<p>309 rows × 3 columns</p>\n",
       "</div>"
      ],
      "text/plain": [
       "                           Job Title  \\\n",
       "0     Snr. Mgr. Metro & Transmission   \n",
       "1              Senior UI/UX Designer   \n",
       "2         Manager Product Innovation   \n",
       "3            LinkedIn Data Extractor   \n",
       "4    Senior Computer Vision Engineer   \n",
       "..                               ...   \n",
       "304      Manager Project Acquisition   \n",
       "305                      Sales Agent   \n",
       "306                Sr. SDET Engineer   \n",
       "307                Software Engineer   \n",
       "308        Machine Learning Engineer   \n",
       "\n",
       "                                              Job Link      Job ID  \n",
       "0    https://www.linkedin.com/jobs/view/3726270160/...  3726270160  \n",
       "1    https://www.linkedin.com/jobs/view/3728235345/...  3728235345  \n",
       "2    https://www.linkedin.com/jobs/view/3711977720/...  3711977720  \n",
       "3    https://www.linkedin.com/jobs/view/3728211581/...  3728211581  \n",
       "4    https://www.linkedin.com/jobs/view/3677060094/...  3677060094  \n",
       "..                                                 ...         ...  \n",
       "304  https://www.linkedin.com/jobs/view/3728836470/...  3728836470  \n",
       "305  https://www.linkedin.com/jobs/view/3716056255/...  3716056255  \n",
       "306  https://www.linkedin.com/jobs/view/3631034202/...  3631034202  \n",
       "307  https://www.linkedin.com/jobs/view/3722461744/...  3722461744  \n",
       "308  https://www.linkedin.com/jobs/view/3728825617/...  3728825617  \n",
       "\n",
       "[309 rows x 3 columns]"
      ]
     },
     "execution_count": 30,
     "metadata": {},
     "output_type": "execute_result"
    }
   ],
   "source": [
    "df4"
   ]
  },
  {
   "cell_type": "code",
   "execution_count": 19,
   "id": "9cac02e5-a7cc-4ab3-9c31-f5f7e3ee29a3",
   "metadata": {},
   "outputs": [
    {
     "data": {
      "text/html": [
       "<div>\n",
       "<style scoped>\n",
       "    .dataframe tbody tr th:only-of-type {\n",
       "        vertical-align: middle;\n",
       "    }\n",
       "\n",
       "    .dataframe tbody tr th {\n",
       "        vertical-align: top;\n",
       "    }\n",
       "\n",
       "    .dataframe thead th {\n",
       "        text-align: right;\n",
       "    }\n",
       "</style>\n",
       "<table border=\"1\" class=\"dataframe\">\n",
       "  <thead>\n",
       "    <tr style=\"text-align: right;\">\n",
       "      <th></th>\n",
       "      <th>Job Title</th>\n",
       "      <th>Job Link</th>\n",
       "      <th>Job ID</th>\n",
       "    </tr>\n",
       "  </thead>\n",
       "  <tbody>\n",
       "    <tr>\n",
       "      <th>561</th>\n",
       "      <td>Data Annotator</td>\n",
       "      <td>https://www.linkedin.com/jobs/view/3727535445/...</td>\n",
       "      <td>3727535445</td>\n",
       "    </tr>\n",
       "    <tr>\n",
       "      <th>562</th>\n",
       "      <td>PowerBi Data Analyst</td>\n",
       "      <td>https://www.linkedin.com/jobs/view/3725544721/...</td>\n",
       "      <td>3725544721</td>\n",
       "    </tr>\n",
       "    <tr>\n",
       "      <th>563</th>\n",
       "      <td>Analyst - EMEA</td>\n",
       "      <td>https://www.linkedin.com/jobs/view/3697131076/...</td>\n",
       "      <td>3697131076</td>\n",
       "    </tr>\n",
       "    <tr>\n",
       "      <th>564</th>\n",
       "      <td>Email Copywriter/Strategist</td>\n",
       "      <td>https://www.linkedin.com/jobs/view/3723056673/...</td>\n",
       "      <td>3723056673</td>\n",
       "    </tr>\n",
       "    <tr>\n",
       "      <th>565</th>\n",
       "      <td>Fresh Telecom Intern</td>\n",
       "      <td>https://www.linkedin.com/jobs/view/3727538999/...</td>\n",
       "      <td>3727538999</td>\n",
       "    </tr>\n",
       "    <tr>\n",
       "      <th>...</th>\n",
       "      <td>...</td>\n",
       "      <td>...</td>\n",
       "      <td>...</td>\n",
       "    </tr>\n",
       "    <tr>\n",
       "      <th>908</th>\n",
       "      <td>Snr. Mgr. Metro &amp; Transmission</td>\n",
       "      <td>https://www.linkedin.com/jobs/view/3726270160/...</td>\n",
       "      <td>3726270160</td>\n",
       "    </tr>\n",
       "    <tr>\n",
       "      <th>909</th>\n",
       "      <td>Senior UI/UX Designer</td>\n",
       "      <td>https://www.linkedin.com/jobs/view/3728235345/...</td>\n",
       "      <td>3728235345</td>\n",
       "    </tr>\n",
       "    <tr>\n",
       "      <th>910</th>\n",
       "      <td>Manager Product Innovation</td>\n",
       "      <td>https://www.linkedin.com/jobs/view/3711977720/...</td>\n",
       "      <td>3711977720</td>\n",
       "    </tr>\n",
       "    <tr>\n",
       "      <th>911</th>\n",
       "      <td>Senior Software Engineer</td>\n",
       "      <td>https://www.linkedin.com/jobs/view/3691553817/...</td>\n",
       "      <td>3691553817</td>\n",
       "    </tr>\n",
       "    <tr>\n",
       "      <th>912</th>\n",
       "      <td>LinkedIn Data Extractor</td>\n",
       "      <td>https://www.linkedin.com/jobs/view/3728211581/...</td>\n",
       "      <td>3728211581</td>\n",
       "    </tr>\n",
       "  </tbody>\n",
       "</table>\n",
       "<p>352 rows × 3 columns</p>\n",
       "</div>"
      ],
      "text/plain": [
       "                          Job Title  \\\n",
       "561                  Data Annotator   \n",
       "562            PowerBi Data Analyst   \n",
       "563                  Analyst - EMEA   \n",
       "564     Email Copywriter/Strategist   \n",
       "565            Fresh Telecom Intern   \n",
       "..                              ...   \n",
       "908  Snr. Mgr. Metro & Transmission   \n",
       "909           Senior UI/UX Designer   \n",
       "910      Manager Product Innovation   \n",
       "911        Senior Software Engineer   \n",
       "912         LinkedIn Data Extractor   \n",
       "\n",
       "                                              Job Link      Job ID  \n",
       "561  https://www.linkedin.com/jobs/view/3727535445/...  3727535445  \n",
       "562  https://www.linkedin.com/jobs/view/3725544721/...  3725544721  \n",
       "563  https://www.linkedin.com/jobs/view/3697131076/...  3697131076  \n",
       "564  https://www.linkedin.com/jobs/view/3723056673/...  3723056673  \n",
       "565  https://www.linkedin.com/jobs/view/3727538999/...  3727538999  \n",
       "..                                                 ...         ...  \n",
       "908  https://www.linkedin.com/jobs/view/3726270160/...  3726270160  \n",
       "909  https://www.linkedin.com/jobs/view/3728235345/...  3728235345  \n",
       "910  https://www.linkedin.com/jobs/view/3711977720/...  3711977720  \n",
       "911  https://www.linkedin.com/jobs/view/3691553817/...  3691553817  \n",
       "912  https://www.linkedin.com/jobs/view/3728211581/...  3728211581  \n",
       "\n",
       "[352 rows x 3 columns]"
      ]
     },
     "execution_count": 19,
     "metadata": {},
     "output_type": "execute_result"
    }
   ],
   "source": [
    "df4[561:913]"
   ]
  },
  {
   "cell_type": "code",
   "execution_count": null,
   "id": "ad463b04-b836-48e7-bab2-4c9d206061e9",
   "metadata": {},
   "outputs": [],
   "source": []
  },
  {
   "cell_type": "code",
   "execution_count": null,
   "id": "fd5c6329-7427-42a9-b889-5a772ee2bf2b",
   "metadata": {},
   "outputs": [],
   "source": []
  },
  {
   "cell_type": "code",
   "execution_count": 60,
   "id": "6c2f27a8-d6c0-4414-b1ce-01656975b8a5",
   "metadata": {},
   "outputs": [
    {
     "data": {
      "text/plain": [
       "Index([3, 34, 37, 268, 306], dtype='int64')"
      ]
     },
     "execution_count": 60,
     "metadata": {},
     "output_type": "execute_result"
    }
   ],
   "source": [
    "df.iloc[913:1222][duplicates[913:1222]].index-913"
   ]
  },
  {
   "cell_type": "code",
   "execution_count": 25,
   "id": "400e7bbd-bd87-4bbd-b5f5-e379f3177f72",
   "metadata": {},
   "outputs": [
    {
     "data": {
      "text/plain": [
       "Job Title                             Computer Vision Engineer\n",
       "Job Link     https://www.linkedin.com/jobs/view/3574287743/...\n",
       "Job ID                                              3574287743\n",
       "Name: 947, dtype: object"
      ]
     },
     "execution_count": 25,
     "metadata": {},
     "output_type": "execute_result"
    }
   ],
   "source": [
    "df.iloc[913:1222].iloc[34]"
   ]
  },
  {
   "cell_type": "code",
   "execution_count": 65,
   "id": "fb6e471c-976e-4f2a-81dd-fa77ca60cc51",
   "metadata": {},
   "outputs": [
    {
     "data": {
      "text/plain": [
       "Index([603, 781, 834, 840, 842], dtype='int64')"
      ]
     },
     "execution_count": 65,
     "metadata": {},
     "output_type": "execute_result"
    }
   ],
   "source": [
    "df.iloc[561:913][duplicates[561:913]].index"
   ]
  },
  {
   "cell_type": "code",
   "execution_count": 54,
   "id": "df871f63-53ac-4e3a-8bf8-44696e51a4ab",
   "metadata": {},
   "outputs": [
    {
     "data": {
      "text/plain": [
       "Index([42, 220, 273, 279, 281], dtype='int64')"
      ]
     },
     "execution_count": 54,
     "metadata": {},
     "output_type": "execute_result"
    }
   ],
   "source": [
    "df.iloc[561:913][duplicates[561:913]].index-561"
   ]
  },
  {
   "cell_type": "code",
   "execution_count": 62,
   "id": "c60862ba-cac2-4eba-a4aa-954352705cce",
   "metadata": {},
   "outputs": [
    {
     "data": {
      "text/html": [
       "<div>\n",
       "<style scoped>\n",
       "    .dataframe tbody tr th:only-of-type {\n",
       "        vertical-align: middle;\n",
       "    }\n",
       "\n",
       "    .dataframe tbody tr th {\n",
       "        vertical-align: top;\n",
       "    }\n",
       "\n",
       "    .dataframe thead th {\n",
       "        text-align: right;\n",
       "    }\n",
       "</style>\n",
       "<table border=\"1\" class=\"dataframe\">\n",
       "  <thead>\n",
       "    <tr style=\"text-align: right;\">\n",
       "      <th></th>\n",
       "      <th>Job Title</th>\n",
       "      <th>Job Link</th>\n",
       "      <th>Job ID</th>\n",
       "    </tr>\n",
       "  </thead>\n",
       "  <tbody>\n",
       "    <tr>\n",
       "      <th>0</th>\n",
       "      <td>LinkedIn Data Extractor</td>\n",
       "      <td>https://www.linkedin.com/jobs/view/3727054368/...</td>\n",
       "      <td>3727054368</td>\n",
       "    </tr>\n",
       "    <tr>\n",
       "      <th>1</th>\n",
       "      <td>It Management Intern</td>\n",
       "      <td>https://www.linkedin.com/jobs/view/3723395858/...</td>\n",
       "      <td>3723395858</td>\n",
       "    </tr>\n",
       "    <tr>\n",
       "      <th>2</th>\n",
       "      <td>SQL Database Developer</td>\n",
       "      <td>https://www.linkedin.com/jobs/view/3727034665/...</td>\n",
       "      <td>3727034665</td>\n",
       "    </tr>\n",
       "    <tr>\n",
       "      <th>3</th>\n",
       "      <td>Business Intelligence Developer</td>\n",
       "      <td>https://www.linkedin.com/jobs/view/3727029273/...</td>\n",
       "      <td>3727029273</td>\n",
       "    </tr>\n",
       "    <tr>\n",
       "      <th>4</th>\n",
       "      <td>Web Developer - Internship</td>\n",
       "      <td>https://www.linkedin.com/jobs/view/3727034696/...</td>\n",
       "      <td>3727034696</td>\n",
       "    </tr>\n",
       "    <tr>\n",
       "      <th>...</th>\n",
       "      <td>...</td>\n",
       "      <td>...</td>\n",
       "      <td>...</td>\n",
       "    </tr>\n",
       "    <tr>\n",
       "      <th>2111</th>\n",
       "      <td>Full-Stack Developer (Node/ Nest/ Typescript/ ...</td>\n",
       "      <td>https://www.linkedin.com/jobs/view/3731370342/...</td>\n",
       "      <td>3731370342</td>\n",
       "    </tr>\n",
       "    <tr>\n",
       "      <th>2112</th>\n",
       "      <td>Senior Software Engineer (.Net)</td>\n",
       "      <td>https://www.linkedin.com/jobs/view/3730675546/...</td>\n",
       "      <td>3730675546</td>\n",
       "    </tr>\n",
       "    <tr>\n",
       "      <th>2113</th>\n",
       "      <td>Senior Video Editor</td>\n",
       "      <td>https://www.linkedin.com/jobs/view/3730341895/...</td>\n",
       "      <td>3730341895</td>\n",
       "    </tr>\n",
       "    <tr>\n",
       "      <th>2114</th>\n",
       "      <td>Senior Full-stack Java / Angular Developer - +...</td>\n",
       "      <td>https://www.linkedin.com/jobs/view/3726999342/...</td>\n",
       "      <td>3726999342</td>\n",
       "    </tr>\n",
       "    <tr>\n",
       "      <th>2115</th>\n",
       "      <td>Senior .Net MAUI /Xamarin developer</td>\n",
       "      <td>https://www.linkedin.com/jobs/view/3731393614/...</td>\n",
       "      <td>3731393614</td>\n",
       "    </tr>\n",
       "  </tbody>\n",
       "</table>\n",
       "<p>2111 rows × 3 columns</p>\n",
       "</div>"
      ],
      "text/plain": [
       "                                              Job Title  \\\n",
       "0                               LinkedIn Data Extractor   \n",
       "1                                  It Management Intern   \n",
       "2                                SQL Database Developer   \n",
       "3                       Business Intelligence Developer   \n",
       "4                            Web Developer - Internship   \n",
       "...                                                 ...   \n",
       "2111  Full-Stack Developer (Node/ Nest/ Typescript/ ...   \n",
       "2112                    Senior Software Engineer (.Net)   \n",
       "2113                                Senior Video Editor   \n",
       "2114  Senior Full-stack Java / Angular Developer - +...   \n",
       "2115                Senior .Net MAUI /Xamarin developer   \n",
       "\n",
       "                                               Job Link      Job ID  \n",
       "0     https://www.linkedin.com/jobs/view/3727054368/...  3727054368  \n",
       "1     https://www.linkedin.com/jobs/view/3723395858/...  3723395858  \n",
       "2     https://www.linkedin.com/jobs/view/3727034665/...  3727034665  \n",
       "3     https://www.linkedin.com/jobs/view/3727029273/...  3727029273  \n",
       "4     https://www.linkedin.com/jobs/view/3727034696/...  3727034696  \n",
       "...                                                 ...         ...  \n",
       "2111  https://www.linkedin.com/jobs/view/3731370342/...  3731370342  \n",
       "2112  https://www.linkedin.com/jobs/view/3730675546/...  3730675546  \n",
       "2113  https://www.linkedin.com/jobs/view/3730341895/...  3730341895  \n",
       "2114  https://www.linkedin.com/jobs/view/3726999342/...  3726999342  \n",
       "2115  https://www.linkedin.com/jobs/view/3731393614/...  3731393614  \n",
       "\n",
       "[2111 rows x 3 columns]"
      ]
     },
     "execution_count": 62,
     "metadata": {},
     "output_type": "execute_result"
    }
   ],
   "source": [
    "df.drop(df.index[df.iloc[561:913][duplicates[561:913]].index])"
   ]
  },
  {
   "cell_type": "code",
   "execution_count": 20,
   "id": "f2aad807-e1b7-4397-a456-5818a9165b1b",
   "metadata": {},
   "outputs": [],
   "source": [
    "df2 = df.drop(df.index[df.iloc[561:913][duplicates[561:913]].index])"
   ]
  },
  {
   "cell_type": "code",
   "execution_count": 21,
   "id": "cdfb5a69-941b-49c2-92c8-66030cbfd768",
   "metadata": {},
   "outputs": [
    {
     "data": {
      "text/html": [
       "<div>\n",
       "<style scoped>\n",
       "    .dataframe tbody tr th:only-of-type {\n",
       "        vertical-align: middle;\n",
       "    }\n",
       "\n",
       "    .dataframe tbody tr th {\n",
       "        vertical-align: top;\n",
       "    }\n",
       "\n",
       "    .dataframe thead th {\n",
       "        text-align: right;\n",
       "    }\n",
       "</style>\n",
       "<table border=\"1\" class=\"dataframe\">\n",
       "  <thead>\n",
       "    <tr style=\"text-align: right;\">\n",
       "      <th></th>\n",
       "      <th>Job Title</th>\n",
       "      <th>Job Link</th>\n",
       "      <th>Job ID</th>\n",
       "    </tr>\n",
       "  </thead>\n",
       "  <tbody>\n",
       "    <tr>\n",
       "      <th>0</th>\n",
       "      <td>LinkedIn Data Extractor</td>\n",
       "      <td>https://www.linkedin.com/jobs/view/3727054368/...</td>\n",
       "      <td>3727054368</td>\n",
       "    </tr>\n",
       "    <tr>\n",
       "      <th>1</th>\n",
       "      <td>It Management Intern</td>\n",
       "      <td>https://www.linkedin.com/jobs/view/3723395858/...</td>\n",
       "      <td>3723395858</td>\n",
       "    </tr>\n",
       "    <tr>\n",
       "      <th>2</th>\n",
       "      <td>SQL Database Developer</td>\n",
       "      <td>https://www.linkedin.com/jobs/view/3727034665/...</td>\n",
       "      <td>3727034665</td>\n",
       "    </tr>\n",
       "    <tr>\n",
       "      <th>3</th>\n",
       "      <td>Business Intelligence Developer</td>\n",
       "      <td>https://www.linkedin.com/jobs/view/3727029273/...</td>\n",
       "      <td>3727029273</td>\n",
       "    </tr>\n",
       "    <tr>\n",
       "      <th>4</th>\n",
       "      <td>Web Developer - Internship</td>\n",
       "      <td>https://www.linkedin.com/jobs/view/3727034696/...</td>\n",
       "      <td>3727034696</td>\n",
       "    </tr>\n",
       "    <tr>\n",
       "      <th>...</th>\n",
       "      <td>...</td>\n",
       "      <td>...</td>\n",
       "      <td>...</td>\n",
       "    </tr>\n",
       "    <tr>\n",
       "      <th>2111</th>\n",
       "      <td>Full-Stack Developer (Node/ Nest/ Typescript/ ...</td>\n",
       "      <td>https://www.linkedin.com/jobs/view/3731370342/...</td>\n",
       "      <td>3731370342</td>\n",
       "    </tr>\n",
       "    <tr>\n",
       "      <th>2112</th>\n",
       "      <td>Senior Software Engineer (.Net)</td>\n",
       "      <td>https://www.linkedin.com/jobs/view/3730675546/...</td>\n",
       "      <td>3730675546</td>\n",
       "    </tr>\n",
       "    <tr>\n",
       "      <th>2113</th>\n",
       "      <td>Senior Video Editor</td>\n",
       "      <td>https://www.linkedin.com/jobs/view/3730341895/...</td>\n",
       "      <td>3730341895</td>\n",
       "    </tr>\n",
       "    <tr>\n",
       "      <th>2114</th>\n",
       "      <td>Senior Full-stack Java / Angular Developer - +...</td>\n",
       "      <td>https://www.linkedin.com/jobs/view/3726999342/...</td>\n",
       "      <td>3726999342</td>\n",
       "    </tr>\n",
       "    <tr>\n",
       "      <th>2115</th>\n",
       "      <td>Senior .Net MAUI /Xamarin developer</td>\n",
       "      <td>https://www.linkedin.com/jobs/view/3731393614/...</td>\n",
       "      <td>3731393614</td>\n",
       "    </tr>\n",
       "  </tbody>\n",
       "</table>\n",
       "<p>2116 rows × 3 columns</p>\n",
       "</div>"
      ],
      "text/plain": [
       "                                              Job Title  \\\n",
       "0                               LinkedIn Data Extractor   \n",
       "1                                  It Management Intern   \n",
       "2                                SQL Database Developer   \n",
       "3                       Business Intelligence Developer   \n",
       "4                            Web Developer - Internship   \n",
       "...                                                 ...   \n",
       "2111  Full-Stack Developer (Node/ Nest/ Typescript/ ...   \n",
       "2112                    Senior Software Engineer (.Net)   \n",
       "2113                                Senior Video Editor   \n",
       "2114  Senior Full-stack Java / Angular Developer - +...   \n",
       "2115                Senior .Net MAUI /Xamarin developer   \n",
       "\n",
       "                                               Job Link      Job ID  \n",
       "0     https://www.linkedin.com/jobs/view/3727054368/...  3727054368  \n",
       "1     https://www.linkedin.com/jobs/view/3723395858/...  3723395858  \n",
       "2     https://www.linkedin.com/jobs/view/3727034665/...  3727034665  \n",
       "3     https://www.linkedin.com/jobs/view/3727029273/...  3727029273  \n",
       "4     https://www.linkedin.com/jobs/view/3727034696/...  3727034696  \n",
       "...                                                 ...         ...  \n",
       "2111  https://www.linkedin.com/jobs/view/3731370342/...  3731370342  \n",
       "2112  https://www.linkedin.com/jobs/view/3730675546/...  3730675546  \n",
       "2113  https://www.linkedin.com/jobs/view/3730341895/...  3730341895  \n",
       "2114  https://www.linkedin.com/jobs/view/3726999342/...  3726999342  \n",
       "2115  https://www.linkedin.com/jobs/view/3731393614/...  3731393614  \n",
       "\n",
       "[2116 rows x 3 columns]"
      ]
     },
     "execution_count": 21,
     "metadata": {},
     "output_type": "execute_result"
    }
   ],
   "source": [
    "df.drop(df.index[df.iloc[:561][duplicates[:561]].index])"
   ]
  },
  {
   "cell_type": "code",
   "execution_count": 24,
   "id": "44fb9e8f-ac74-4ed2-a34e-d02996eebe24",
   "metadata": {},
   "outputs": [
    {
     "data": {
      "text/html": [
       "<div>\n",
       "<style scoped>\n",
       "    .dataframe tbody tr th:only-of-type {\n",
       "        vertical-align: middle;\n",
       "    }\n",
       "\n",
       "    .dataframe tbody tr th {\n",
       "        vertical-align: top;\n",
       "    }\n",
       "\n",
       "    .dataframe thead th {\n",
       "        text-align: right;\n",
       "    }\n",
       "</style>\n",
       "<table border=\"1\" class=\"dataframe\">\n",
       "  <thead>\n",
       "    <tr style=\"text-align: right;\">\n",
       "      <th></th>\n",
       "      <th>Job Title</th>\n",
       "      <th>Job Link</th>\n",
       "      <th>Job ID</th>\n",
       "    </tr>\n",
       "  </thead>\n",
       "  <tbody>\n",
       "    <tr>\n",
       "      <th>561</th>\n",
       "      <td>Data Annotator</td>\n",
       "      <td>https://www.linkedin.com/jobs/view/3727535445/...</td>\n",
       "      <td>3727535445</td>\n",
       "    </tr>\n",
       "    <tr>\n",
       "      <th>562</th>\n",
       "      <td>PowerBi Data Analyst</td>\n",
       "      <td>https://www.linkedin.com/jobs/view/3725544721/...</td>\n",
       "      <td>3725544721</td>\n",
       "    </tr>\n",
       "    <tr>\n",
       "      <th>563</th>\n",
       "      <td>Analyst - EMEA</td>\n",
       "      <td>https://www.linkedin.com/jobs/view/3697131076/...</td>\n",
       "      <td>3697131076</td>\n",
       "    </tr>\n",
       "    <tr>\n",
       "      <th>564</th>\n",
       "      <td>Email Copywriter/Strategist</td>\n",
       "      <td>https://www.linkedin.com/jobs/view/3723056673/...</td>\n",
       "      <td>3723056673</td>\n",
       "    </tr>\n",
       "    <tr>\n",
       "      <th>565</th>\n",
       "      <td>Fresh Telecom Intern</td>\n",
       "      <td>https://www.linkedin.com/jobs/view/3727538999/...</td>\n",
       "      <td>3727538999</td>\n",
       "    </tr>\n",
       "    <tr>\n",
       "      <th>...</th>\n",
       "      <td>...</td>\n",
       "      <td>...</td>\n",
       "      <td>...</td>\n",
       "    </tr>\n",
       "    <tr>\n",
       "      <th>913</th>\n",
       "      <td>Snr. Mgr. Metro &amp; Transmission</td>\n",
       "      <td>https://www.linkedin.com/jobs/view/3726270160/...</td>\n",
       "      <td>3726270160</td>\n",
       "    </tr>\n",
       "    <tr>\n",
       "      <th>914</th>\n",
       "      <td>Senior UI/UX Designer</td>\n",
       "      <td>https://www.linkedin.com/jobs/view/3728235345/...</td>\n",
       "      <td>3728235345</td>\n",
       "    </tr>\n",
       "    <tr>\n",
       "      <th>915</th>\n",
       "      <td>Manager Product Innovation</td>\n",
       "      <td>https://www.linkedin.com/jobs/view/3711977720/...</td>\n",
       "      <td>3711977720</td>\n",
       "    </tr>\n",
       "    <tr>\n",
       "      <th>916</th>\n",
       "      <td>Senior Software Engineer</td>\n",
       "      <td>https://www.linkedin.com/jobs/view/3691553817/...</td>\n",
       "      <td>3691553817</td>\n",
       "    </tr>\n",
       "    <tr>\n",
       "      <th>917</th>\n",
       "      <td>LinkedIn Data Extractor</td>\n",
       "      <td>https://www.linkedin.com/jobs/view/3728211581/...</td>\n",
       "      <td>3728211581</td>\n",
       "    </tr>\n",
       "  </tbody>\n",
       "</table>\n",
       "<p>352 rows × 3 columns</p>\n",
       "</div>"
      ],
      "text/plain": [
       "                          Job Title  \\\n",
       "561                  Data Annotator   \n",
       "562            PowerBi Data Analyst   \n",
       "563                  Analyst - EMEA   \n",
       "564     Email Copywriter/Strategist   \n",
       "565            Fresh Telecom Intern   \n",
       "..                              ...   \n",
       "913  Snr. Mgr. Metro & Transmission   \n",
       "914           Senior UI/UX Designer   \n",
       "915      Manager Product Innovation   \n",
       "916        Senior Software Engineer   \n",
       "917         LinkedIn Data Extractor   \n",
       "\n",
       "                                              Job Link      Job ID  \n",
       "561  https://www.linkedin.com/jobs/view/3727535445/...  3727535445  \n",
       "562  https://www.linkedin.com/jobs/view/3725544721/...  3725544721  \n",
       "563  https://www.linkedin.com/jobs/view/3697131076/...  3697131076  \n",
       "564  https://www.linkedin.com/jobs/view/3723056673/...  3723056673  \n",
       "565  https://www.linkedin.com/jobs/view/3727538999/...  3727538999  \n",
       "..                                                 ...         ...  \n",
       "913  https://www.linkedin.com/jobs/view/3726270160/...  3726270160  \n",
       "914  https://www.linkedin.com/jobs/view/3728235345/...  3728235345  \n",
       "915  https://www.linkedin.com/jobs/view/3711977720/...  3711977720  \n",
       "916  https://www.linkedin.com/jobs/view/3691553817/...  3691553817  \n",
       "917  https://www.linkedin.com/jobs/view/3728211581/...  3728211581  \n",
       "\n",
       "[352 rows x 3 columns]"
      ]
     },
     "execution_count": 24,
     "metadata": {},
     "output_type": "execute_result"
    }
   ],
   "source": [
    "df2.iloc[561:913]"
   ]
  },
  {
   "cell_type": "code",
   "execution_count": 73,
   "id": "cca6e1be-28ef-4b50-8912-81e1f7fce9eb",
   "metadata": {},
   "outputs": [
    {
     "data": {
      "text/plain": [
       "2111"
      ]
     },
     "execution_count": 73,
     "metadata": {},
     "output_type": "execute_result"
    }
   ],
   "source": [
    "len(df2)"
   ]
  },
  {
   "cell_type": "markdown",
   "id": "481a52b9-4157-4a2f-9a0e-2c4263d42097",
   "metadata": {},
   "source": [
    "### droping duplicates"
   ]
  },
  {
   "cell_type": "code",
   "execution_count": 61,
   "id": "d51f920b-1726-42e4-a918-a094f454fd8a",
   "metadata": {},
   "outputs": [],
   "source": [
    "df_no_duplicates = df.drop_duplicates(subset=['Job ID'])"
   ]
  },
  {
   "cell_type": "code",
   "execution_count": 62,
   "id": "e4b17306-c996-4580-8d4d-062fac72500a",
   "metadata": {},
   "outputs": [
    {
     "data": {
      "text/html": [
       "<div>\n",
       "<style scoped>\n",
       "    .dataframe tbody tr th:only-of-type {\n",
       "        vertical-align: middle;\n",
       "    }\n",
       "\n",
       "    .dataframe tbody tr th {\n",
       "        vertical-align: top;\n",
       "    }\n",
       "\n",
       "    .dataframe thead th {\n",
       "        text-align: right;\n",
       "    }\n",
       "</style>\n",
       "<table border=\"1\" class=\"dataframe\">\n",
       "  <thead>\n",
       "    <tr style=\"text-align: right;\">\n",
       "      <th></th>\n",
       "      <th>Job Title</th>\n",
       "      <th>Job ID</th>\n",
       "      <th>Job Link</th>\n",
       "    </tr>\n",
       "  </thead>\n",
       "  <tbody>\n",
       "    <tr>\n",
       "      <th>0</th>\n",
       "      <td>Sr. SDET Engineer</td>\n",
       "      <td>3631035048</td>\n",
       "      <td>https://www.linkedin.com/jobs/view/3631035048/...</td>\n",
       "    </tr>\n",
       "    <tr>\n",
       "      <th>1</th>\n",
       "      <td>Senior Data Engineer</td>\n",
       "      <td>3728806847</td>\n",
       "      <td>https://www.linkedin.com/jobs/view/3728806847/...</td>\n",
       "    </tr>\n",
       "    <tr>\n",
       "      <th>2</th>\n",
       "      <td>Lead Data Engineer</td>\n",
       "      <td>3712059465</td>\n",
       "      <td>https://www.linkedin.com/jobs/view/3712059465/...</td>\n",
       "    </tr>\n",
       "    <tr>\n",
       "      <th>3</th>\n",
       "      <td>Lead Software Engineer, gt.school (Remote) - $...</td>\n",
       "      <td>3723011973</td>\n",
       "      <td>https://www.linkedin.com/jobs/view/3723011973/...</td>\n",
       "    </tr>\n",
       "    <tr>\n",
       "      <th>4</th>\n",
       "      <td>Management Trainee Program</td>\n",
       "      <td>3729936457</td>\n",
       "      <td>https://www.linkedin.com/jobs/view/3729936457/...</td>\n",
       "    </tr>\n",
       "    <tr>\n",
       "      <th>...</th>\n",
       "      <td>...</td>\n",
       "      <td>...</td>\n",
       "      <td>...</td>\n",
       "    </tr>\n",
       "    <tr>\n",
       "      <th>165</th>\n",
       "      <td>Head of Primary School</td>\n",
       "      <td>3728836506</td>\n",
       "      <td>https://www.linkedin.com/jobs/view/3728836506/...</td>\n",
       "    </tr>\n",
       "    <tr>\n",
       "      <th>166</th>\n",
       "      <td>Senior Graphic Designer</td>\n",
       "      <td>3730420882</td>\n",
       "      <td>https://www.linkedin.com/jobs/view/3730420882/...</td>\n",
       "    </tr>\n",
       "    <tr>\n",
       "      <th>167</th>\n",
       "      <td>2D Animator</td>\n",
       "      <td>3728854365</td>\n",
       "      <td>https://www.linkedin.com/jobs/view/3728854365/...</td>\n",
       "    </tr>\n",
       "    <tr>\n",
       "      <th>168</th>\n",
       "      <td>Freelance Translator - German into Dutch (Belg...</td>\n",
       "      <td>3720367170</td>\n",
       "      <td>https://www.linkedin.com/jobs/view/3720367170/...</td>\n",
       "    </tr>\n",
       "    <tr>\n",
       "      <th>169</th>\n",
       "      <td>Senior Wordpress Developer</td>\n",
       "      <td>3723050636</td>\n",
       "      <td>https://www.linkedin.com/jobs/view/3723050636/...</td>\n",
       "    </tr>\n",
       "  </tbody>\n",
       "</table>\n",
       "<p>170 rows × 3 columns</p>\n",
       "</div>"
      ],
      "text/plain": [
       "                                             Job Title      Job ID  \\\n",
       "0                                    Sr. SDET Engineer  3631035048   \n",
       "1                                 Senior Data Engineer  3728806847   \n",
       "2                                   Lead Data Engineer  3712059465   \n",
       "3    Lead Software Engineer, gt.school (Remote) - $...  3723011973   \n",
       "4                           Management Trainee Program  3729936457   \n",
       "..                                                 ...         ...   \n",
       "165                             Head of Primary School  3728836506   \n",
       "166                            Senior Graphic Designer  3730420882   \n",
       "167                                        2D Animator  3728854365   \n",
       "168  Freelance Translator - German into Dutch (Belg...  3720367170   \n",
       "169                         Senior Wordpress Developer  3723050636   \n",
       "\n",
       "                                              Job Link  \n",
       "0    https://www.linkedin.com/jobs/view/3631035048/...  \n",
       "1    https://www.linkedin.com/jobs/view/3728806847/...  \n",
       "2    https://www.linkedin.com/jobs/view/3712059465/...  \n",
       "3    https://www.linkedin.com/jobs/view/3723011973/...  \n",
       "4    https://www.linkedin.com/jobs/view/3729936457/...  \n",
       "..                                                 ...  \n",
       "165  https://www.linkedin.com/jobs/view/3728836506/...  \n",
       "166  https://www.linkedin.com/jobs/view/3730420882/...  \n",
       "167  https://www.linkedin.com/jobs/view/3728854365/...  \n",
       "168  https://www.linkedin.com/jobs/view/3720367170/...  \n",
       "169  https://www.linkedin.com/jobs/view/3723050636/...  \n",
       "\n",
       "[170 rows x 3 columns]"
      ]
     },
     "execution_count": 62,
     "metadata": {},
     "output_type": "execute_result"
    }
   ],
   "source": [
    "df_no_duplicates"
   ]
  },
  {
   "cell_type": "code",
   "execution_count": 45,
   "id": "27ee92a6-fbee-40fc-88c9-bcc58836b62b",
   "metadata": {},
   "outputs": [
    {
     "data": {
      "text/plain": [
       "239"
      ]
     },
     "execution_count": 45,
     "metadata": {},
     "output_type": "execute_result"
    }
   ],
   "source": [
    "len(df_no_duplicates)"
   ]
  },
  {
   "cell_type": "code",
   "execution_count": 46,
   "id": "f0f684e7-089a-41c8-80bc-03eac7314c89",
   "metadata": {},
   "outputs": [
    {
     "data": {
      "text/plain": [
       "239"
      ]
     },
     "execution_count": 46,
     "metadata": {},
     "output_type": "execute_result"
    }
   ],
   "source": [
    "len(df)-duplicates_count"
   ]
  },
  {
   "cell_type": "markdown",
   "id": "eaf6cc95-fa64-4a00-946a-27e1e44f6eef",
   "metadata": {},
   "source": [
    "### Building modified path"
   ]
  },
  {
   "cell_type": "code",
   "execution_count": 47,
   "id": "dcd86b85-09b0-4120-8422-b8175aa4946d",
   "metadata": {},
   "outputs": [
    {
     "data": {
      "text/plain": [
       "'Linkedin_Job_Links_29-Sep-2023_'"
      ]
     },
     "execution_count": 47,
     "metadata": {},
     "output_type": "execute_result"
    }
   ],
   "source": [
    "pre_link=path.split('/')[-1].split(path.split('/')[-1].split('_')[4].strip('-jobs'))[0]\n",
    "pre_link"
   ]
  },
  {
   "cell_type": "code",
   "execution_count": 48,
   "id": "932dfa40-fa66-453a-8c38-e601c035b5f9",
   "metadata": {},
   "outputs": [
    {
     "data": {
      "text/plain": [
       "'-jobs_10-pages.csv'"
      ]
     },
     "execution_count": 48,
     "metadata": {},
     "output_type": "execute_result"
    }
   ],
   "source": [
    "post_link=path.split('/')[-1].split(path.split('/')[-1].split('_')[4].strip('-jobs'))[1]\n",
    "post_link"
   ]
  },
  {
   "cell_type": "code",
   "execution_count": 49,
   "id": "070eb2f0-360d-4cdb-91c0-2e6e3ddbb5ad",
   "metadata": {},
   "outputs": [
    {
     "data": {
      "text/plain": [
       "'Not Duplicated Files/1st Week 26 Sep-02 Oct/Linkedin_Job_Links_29-Sep-2023_239-jobs_10-pages.csv'"
      ]
     },
     "execution_count": 49,
     "metadata": {},
     "output_type": "execute_result"
    }
   ],
   "source": [
    "Not_duplicated_folder_path='Not Duplicated Files/1st Week 26 Sep-02 Oct/'+pre_link+str(len(df_no_duplicates))+post_link\n",
    "Not_duplicated_folder_path"
   ]
  },
  {
   "cell_type": "code",
   "execution_count": 50,
   "id": "b5ba8463-dc4e-4ded-841a-bb5c68e561a2",
   "metadata": {},
   "outputs": [
    {
     "data": {
      "text/plain": [
       "'Dupllicated Files/Linkedin_Job_Links_29-Sep-2023_239-jobs_10-pages.csv'"
      ]
     },
     "execution_count": 50,
     "metadata": {},
     "output_type": "execute_result"
    }
   ],
   "source": [
    "Duplicated_folder_path='Dupllicated Files/'+path.split('/')[-1]\n",
    "Duplicated_folder_path"
   ]
  },
  {
   "cell_type": "markdown",
   "id": "a63e807c-0e67-483b-bf15-6470d1205464",
   "metadata": {},
   "source": [
    "### saving file"
   ]
  },
  {
   "cell_type": "code",
   "execution_count": 7,
   "id": "03ff8ebf-0460-402c-851a-ce1bb2d293c4",
   "metadata": {},
   "outputs": [],
   "source": [
    "if df.duplicated(subset=['Job ID']).sum()>0:\n",
    "    df_no_duplicates.to_csv(Not_duplicated_folder_path,index=False)\n",
    "    df.to_csv(Duplicated_folder_path,index=False)\n",
    "else:\n",
    "    df.to_csv('Not Duplicated Files/1st Week 26 Sep-02 Oct/'+path.split('/')[-1],index=False)    "
   ]
  },
  {
   "cell_type": "code",
   "execution_count": null,
   "id": "e30630bb-adc4-4f24-9d5e-b989dfc1c765",
   "metadata": {},
   "outputs": [],
   "source": []
  }
 ],
 "metadata": {
  "kernelspec": {
   "display_name": "Python 3 (ipykernel)",
   "language": "python",
   "name": "python3"
  },
  "language_info": {
   "codemirror_mode": {
    "name": "ipython",
    "version": 3
   },
   "file_extension": ".py",
   "mimetype": "text/x-python",
   "name": "python",
   "nbconvert_exporter": "python",
   "pygments_lexer": "ipython3",
   "version": "3.11.4"
  }
 },
 "nbformat": 4,
 "nbformat_minor": 5
}
