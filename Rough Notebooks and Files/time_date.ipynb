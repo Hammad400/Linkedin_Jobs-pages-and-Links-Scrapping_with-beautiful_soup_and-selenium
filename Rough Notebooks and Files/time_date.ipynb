{
 "cells": [
  {
   "cell_type": "code",
   "execution_count": 6,
   "id": "2929726c-ad86-4d0e-bd79-d6ddf177b44d",
   "metadata": {},
   "outputs": [
    {
     "name": "stdout",
     "output_type": "stream",
     "text": [
      "28-09-2023__09-12-PM\n"
     ]
    }
   ],
   "source": [
    "import datetime\n",
    "x = datetime.datetime.now()\n",
    "print(x)"
   ]
  },
  {
   "cell_type": "code",
   "execution_count": 9,
   "id": "7c95a185-c6b0-439c-b760-7670e203e4fe",
   "metadata": {},
   "outputs": [
    {
     "name": "stdout",
     "output_type": "stream",
     "text": [
      "28-09-2023--09-22-PM\n"
     ]
    }
   ],
   "source": [
    "import datetime\n",
    "x = datetime.datetime.now().strftime(\"%d-%m-%Y--%I-%M-%p\")\n",
    "print(x)"
   ]
  },
  {
   "cell_type": "code",
   "execution_count": 2,
   "id": "d77795c0-6ee0-4c85-b85d-abc4e6bf3181",
   "metadata": {},
   "outputs": [
    {
     "name": "stdout",
     "output_type": "stream",
     "text": [
      "28-09-2023__09-09-PM\n"
     ]
    }
   ],
   "source": [
    "print(x.strftime(\"%d-%m-%Y__%I-%M-%p\"))"
   ]
  },
  {
   "cell_type": "code",
   "execution_count": 3,
   "id": "c381756c-2240-4e39-a5fb-ab07727556cf",
   "metadata": {},
   "outputs": [
    {
     "name": "stdout",
     "output_type": "stream",
     "text": [
      "2023\n",
      "Thursday\n"
     ]
    }
   ],
   "source": [
    "import datetime\n",
    "\n",
    "x = datetime.datetime.now()\n",
    "\n",
    "print(x.year)\n",
    "print(x.strftime(\"%A\"))"
   ]
  },
  {
   "cell_type": "code",
   "execution_count": null,
   "id": "139f2979-9ee3-4b02-ba0f-4ef8bc4a05d6",
   "metadata": {},
   "outputs": [],
   "source": []
  }
 ],
 "metadata": {
  "kernelspec": {
   "display_name": "Python 3 (ipykernel)",
   "language": "python",
   "name": "python3"
  },
  "language_info": {
   "codemirror_mode": {
    "name": "ipython",
    "version": 3
   },
   "file_extension": ".py",
   "mimetype": "text/x-python",
   "name": "python",
   "nbconvert_exporter": "python",
   "pygments_lexer": "ipython3",
   "version": "3.11.4"
  }
 },
 "nbformat": 4,
 "nbformat_minor": 5
}
