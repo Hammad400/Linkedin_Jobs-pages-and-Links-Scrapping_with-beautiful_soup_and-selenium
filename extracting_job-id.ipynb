{
 "cells": [
  {
   "cell_type": "code",
   "execution_count": 21,
   "id": "1e3ea630-136b-483e-8ce6-606e8fa66169",
   "metadata": {},
   "outputs": [],
   "source": [
    "import os\n",
    "import pandas as pd"
   ]
  },
  {
   "cell_type": "code",
   "execution_count": 22,
   "id": "bb763ce1-3911-4186-a6d2-50efdcc3f949",
   "metadata": {},
   "outputs": [],
   "source": [
    "path='Concatenated files/1st Week 26 Sep-02 Oct/Linkedin_Job_Links_27-Sep-2023_430-jobs_18-pages.csv'"
   ]
  },
  {
   "cell_type": "code",
   "execution_count": 23,
   "id": "1189f18b-69a9-4952-bb44-9aae7bb2e736",
   "metadata": {},
   "outputs": [],
   "source": [
    "df=pd.read_csv(path)"
   ]
  },
  {
   "cell_type": "code",
   "execution_count": 4,
   "id": "2a210774-83ff-4c8c-a4c0-b30ea46b429c",
   "metadata": {},
   "outputs": [
    {
     "data": {
      "text/html": [
       "<div>\n",
       "<style scoped>\n",
       "    .dataframe tbody tr th:only-of-type {\n",
       "        vertical-align: middle;\n",
       "    }\n",
       "\n",
       "    .dataframe tbody tr th {\n",
       "        vertical-align: top;\n",
       "    }\n",
       "\n",
       "    .dataframe thead th {\n",
       "        text-align: right;\n",
       "    }\n",
       "</style>\n",
       "<table border=\"1\" class=\"dataframe\">\n",
       "  <thead>\n",
       "    <tr style=\"text-align: right;\">\n",
       "      <th></th>\n",
       "      <th>Job Title</th>\n",
       "      <th>Job Link</th>\n",
       "    </tr>\n",
       "  </thead>\n",
       "  <tbody>\n",
       "    <tr>\n",
       "      <th>0</th>\n",
       "      <td>LinkedIn Data Extractor</td>\n",
       "      <td>https://www.linkedin.com/jobs/view/3727054368/...</td>\n",
       "    </tr>\n",
       "    <tr>\n",
       "      <th>1</th>\n",
       "      <td>It Management Intern</td>\n",
       "      <td>https://www.linkedin.com/jobs/view/3723395858/...</td>\n",
       "    </tr>\n",
       "    <tr>\n",
       "      <th>2</th>\n",
       "      <td>SQL Database Developer</td>\n",
       "      <td>https://www.linkedin.com/jobs/view/3727034665/...</td>\n",
       "    </tr>\n",
       "    <tr>\n",
       "      <th>3</th>\n",
       "      <td>Business Intelligence Developer</td>\n",
       "      <td>https://www.linkedin.com/jobs/view/3727029273/...</td>\n",
       "    </tr>\n",
       "    <tr>\n",
       "      <th>4</th>\n",
       "      <td>Web Developer - Internship</td>\n",
       "      <td>https://www.linkedin.com/jobs/view/3727034696/...</td>\n",
       "    </tr>\n",
       "    <tr>\n",
       "      <th>...</th>\n",
       "      <td>...</td>\n",
       "      <td>...</td>\n",
       "    </tr>\n",
       "    <tr>\n",
       "      <th>556</th>\n",
       "      <td>Sr. React Native developer</td>\n",
       "      <td>https://www.linkedin.com/jobs/view/3728033193/...</td>\n",
       "    </tr>\n",
       "    <tr>\n",
       "      <th>557</th>\n",
       "      <td>2D Animator</td>\n",
       "      <td>https://www.linkedin.com/jobs/view/3728149502/...</td>\n",
       "    </tr>\n",
       "    <tr>\n",
       "      <th>558</th>\n",
       "      <td>Interior Designer</td>\n",
       "      <td>https://www.linkedin.com/jobs/view/3727041322/...</td>\n",
       "    </tr>\n",
       "    <tr>\n",
       "      <th>559</th>\n",
       "      <td>Sr. Angular Developer</td>\n",
       "      <td>https://www.linkedin.com/jobs/view/3727030301/...</td>\n",
       "    </tr>\n",
       "    <tr>\n",
       "      <th>560</th>\n",
       "      <td>Senior Angular Developer</td>\n",
       "      <td>https://www.linkedin.com/jobs/view/3727031145/...</td>\n",
       "    </tr>\n",
       "  </tbody>\n",
       "</table>\n",
       "<p>561 rows × 2 columns</p>\n",
       "</div>"
      ],
      "text/plain": [
       "                           Job Title  \\\n",
       "0            LinkedIn Data Extractor   \n",
       "1               It Management Intern   \n",
       "2             SQL Database Developer   \n",
       "3    Business Intelligence Developer   \n",
       "4         Web Developer - Internship   \n",
       "..                               ...   \n",
       "556       Sr. React Native developer   \n",
       "557                      2D Animator   \n",
       "558                Interior Designer   \n",
       "559            Sr. Angular Developer   \n",
       "560         Senior Angular Developer   \n",
       "\n",
       "                                              Job Link  \n",
       "0    https://www.linkedin.com/jobs/view/3727054368/...  \n",
       "1    https://www.linkedin.com/jobs/view/3723395858/...  \n",
       "2    https://www.linkedin.com/jobs/view/3727034665/...  \n",
       "3    https://www.linkedin.com/jobs/view/3727029273/...  \n",
       "4    https://www.linkedin.com/jobs/view/3727034696/...  \n",
       "..                                                 ...  \n",
       "556  https://www.linkedin.com/jobs/view/3728033193/...  \n",
       "557  https://www.linkedin.com/jobs/view/3728149502/...  \n",
       "558  https://www.linkedin.com/jobs/view/3727041322/...  \n",
       "559  https://www.linkedin.com/jobs/view/3727030301/...  \n",
       "560  https://www.linkedin.com/jobs/view/3727031145/...  \n",
       "\n",
       "[561 rows x 2 columns]"
      ]
     },
     "execution_count": 4,
     "metadata": {},
     "output_type": "execute_result"
    }
   ],
   "source": [
    "df"
   ]
  },
  {
   "cell_type": "code",
   "execution_count": 24,
   "id": "19fb4099-b6f7-4ad8-96c3-a45a94e43ef7",
   "metadata": {},
   "outputs": [],
   "source": [
    "df['Job ID']=df['Job Link'].apply(lambda x:int(x.split('/')[5]))"
   ]
  },
  {
   "cell_type": "code",
   "execution_count": 25,
   "id": "4c00e163-da9f-4416-815c-bf559613cc7f",
   "metadata": {},
   "outputs": [
    {
     "data": {
      "text/html": [
       "<div>\n",
       "<style scoped>\n",
       "    .dataframe tbody tr th:only-of-type {\n",
       "        vertical-align: middle;\n",
       "    }\n",
       "\n",
       "    .dataframe tbody tr th {\n",
       "        vertical-align: top;\n",
       "    }\n",
       "\n",
       "    .dataframe thead th {\n",
       "        text-align: right;\n",
       "    }\n",
       "</style>\n",
       "<table border=\"1\" class=\"dataframe\">\n",
       "  <thead>\n",
       "    <tr style=\"text-align: right;\">\n",
       "      <th></th>\n",
       "      <th>Job Title</th>\n",
       "      <th>Job Link</th>\n",
       "      <th>Job ID</th>\n",
       "    </tr>\n",
       "  </thead>\n",
       "  <tbody>\n",
       "    <tr>\n",
       "      <th>0</th>\n",
       "      <td>Data Annotator</td>\n",
       "      <td>https://www.linkedin.com/jobs/view/3727535445/...</td>\n",
       "      <td>3727535445</td>\n",
       "    </tr>\n",
       "    <tr>\n",
       "      <th>1</th>\n",
       "      <td>PowerBi Data Analyst</td>\n",
       "      <td>https://www.linkedin.com/jobs/view/3725544721/...</td>\n",
       "      <td>3725544721</td>\n",
       "    </tr>\n",
       "    <tr>\n",
       "      <th>2</th>\n",
       "      <td>Analyst - EMEA</td>\n",
       "      <td>https://www.linkedin.com/jobs/view/3697131076/...</td>\n",
       "      <td>3697131076</td>\n",
       "    </tr>\n",
       "    <tr>\n",
       "      <th>3</th>\n",
       "      <td>Email Copywriter/Strategist</td>\n",
       "      <td>https://www.linkedin.com/jobs/view/3723056673/...</td>\n",
       "      <td>3723056673</td>\n",
       "    </tr>\n",
       "    <tr>\n",
       "      <th>4</th>\n",
       "      <td>Fresh Telecom Intern</td>\n",
       "      <td>https://www.linkedin.com/jobs/view/3727538999/...</td>\n",
       "      <td>3727538999</td>\n",
       "    </tr>\n",
       "    <tr>\n",
       "      <th>...</th>\n",
       "      <td>...</td>\n",
       "      <td>...</td>\n",
       "      <td>...</td>\n",
       "    </tr>\n",
       "    <tr>\n",
       "      <th>425</th>\n",
       "      <td>Senior Dotnet Developer</td>\n",
       "      <td>https://www.linkedin.com/jobs/view/3727398144/...</td>\n",
       "      <td>3727398144</td>\n",
       "    </tr>\n",
       "    <tr>\n",
       "      <th>426</th>\n",
       "      <td>Senior MEAN/MERN Developer</td>\n",
       "      <td>https://www.linkedin.com/jobs/view/3727507538/...</td>\n",
       "      <td>3727507538</td>\n",
       "    </tr>\n",
       "    <tr>\n",
       "      <th>427</th>\n",
       "      <td>Senior 3D Artist</td>\n",
       "      <td>https://www.linkedin.com/jobs/view/3727502311/...</td>\n",
       "      <td>3727502311</td>\n",
       "    </tr>\n",
       "    <tr>\n",
       "      <th>428</th>\n",
       "      <td>Cardiac Catheterization Laboratory Technologist</td>\n",
       "      <td>https://www.linkedin.com/jobs/view/3727372921/...</td>\n",
       "      <td>3727372921</td>\n",
       "    </tr>\n",
       "    <tr>\n",
       "      <th>429</th>\n",
       "      <td>Sr. Storyboard Artist</td>\n",
       "      <td>https://www.linkedin.com/jobs/view/3727544393/...</td>\n",
       "      <td>3727544393</td>\n",
       "    </tr>\n",
       "  </tbody>\n",
       "</table>\n",
       "<p>430 rows × 3 columns</p>\n",
       "</div>"
      ],
      "text/plain": [
       "                                           Job Title  \\\n",
       "0                                     Data Annotator   \n",
       "1                               PowerBi Data Analyst   \n",
       "2                                     Analyst - EMEA   \n",
       "3                        Email Copywriter/Strategist   \n",
       "4                               Fresh Telecom Intern   \n",
       "..                                               ...   \n",
       "425                          Senior Dotnet Developer   \n",
       "426                       Senior MEAN/MERN Developer   \n",
       "427                                 Senior 3D Artist   \n",
       "428  Cardiac Catheterization Laboratory Technologist   \n",
       "429                            Sr. Storyboard Artist   \n",
       "\n",
       "                                              Job Link      Job ID  \n",
       "0    https://www.linkedin.com/jobs/view/3727535445/...  3727535445  \n",
       "1    https://www.linkedin.com/jobs/view/3725544721/...  3725544721  \n",
       "2    https://www.linkedin.com/jobs/view/3697131076/...  3697131076  \n",
       "3    https://www.linkedin.com/jobs/view/3723056673/...  3723056673  \n",
       "4    https://www.linkedin.com/jobs/view/3727538999/...  3727538999  \n",
       "..                                                 ...         ...  \n",
       "425  https://www.linkedin.com/jobs/view/3727398144/...  3727398144  \n",
       "426  https://www.linkedin.com/jobs/view/3727507538/...  3727507538  \n",
       "427  https://www.linkedin.com/jobs/view/3727502311/...  3727502311  \n",
       "428  https://www.linkedin.com/jobs/view/3727372921/...  3727372921  \n",
       "429  https://www.linkedin.com/jobs/view/3727544393/...  3727544393  \n",
       "\n",
       "[430 rows x 3 columns]"
      ]
     },
     "execution_count": 25,
     "metadata": {},
     "output_type": "execute_result"
    }
   ],
   "source": [
    "df"
   ]
  },
  {
   "cell_type": "code",
   "execution_count": 26,
   "id": "d750ef55-e40a-4754-8fb4-1e6e36fd9e84",
   "metadata": {},
   "outputs": [
    {
     "data": {
      "text/plain": [
       "3727535445"
      ]
     },
     "execution_count": 26,
     "metadata": {},
     "output_type": "execute_result"
    }
   ],
   "source": [
    "df['Job ID'][0]"
   ]
  },
  {
   "cell_type": "code",
   "execution_count": 27,
   "id": "3a7919ce-3181-47e3-92aa-4a47019556f0",
   "metadata": {},
   "outputs": [],
   "source": [
    "df.to_csv(path,index=False)"
   ]
  },
  {
   "cell_type": "code",
   "execution_count": null,
   "id": "85559b80-950a-4fd0-b323-eab4e495909f",
   "metadata": {},
   "outputs": [],
   "source": []
  }
 ],
 "metadata": {
  "kernelspec": {
   "display_name": "Python 3 (ipykernel)",
   "language": "python",
   "name": "python3"
  },
  "language_info": {
   "codemirror_mode": {
    "name": "ipython",
    "version": 3
   },
   "file_extension": ".py",
   "mimetype": "text/x-python",
   "name": "python",
   "nbconvert_exporter": "python",
   "pygments_lexer": "ipython3",
   "version": "3.11.4"
  }
 },
 "nbformat": 4,
 "nbformat_minor": 5
}
