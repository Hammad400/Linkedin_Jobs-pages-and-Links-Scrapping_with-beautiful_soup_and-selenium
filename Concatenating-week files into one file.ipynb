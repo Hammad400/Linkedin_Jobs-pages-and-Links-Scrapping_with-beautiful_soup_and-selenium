{
 "cells": [
  {
   "cell_type": "code",
   "execution_count": 5,
   "id": "f9c44706-1bdb-4d5b-b70d-78e27bb9b552",
   "metadata": {},
   "outputs": [],
   "source": [
    "import os\n",
    "import pandas as pd\n",
    "from datetime import datetime"
   ]
  },
  {
   "cell_type": "code",
   "execution_count": 2,
   "id": "868caaa8-4508-42b0-a5d8-98f4675ec616",
   "metadata": {},
   "outputs": [],
   "source": [
    "path=\"Weekly Files Not Duplicated\""
   ]
  },
  {
   "cell_type": "code",
   "execution_count": 3,
   "id": "edd2f6b4-005a-41b8-abbe-8ba4f399692a",
   "metadata": {},
   "outputs": [
    {
     "data": {
      "text/plain": [
       "['Linkedin_Job_Links_03-Oct-2023-to-09-Oct-2023_1875-jobs_89-pages.csv',\n",
       " 'Linkedin_Job_Links_07-Nov-2023-to-13-Nov-2023_754-jobs_32-pages.csv',\n",
       " 'Linkedin_Job_Links_10-Oct-2023-to-16-Oct-2023_1928-jobs_93-pages.csv',\n",
       " 'Linkedin_Job_Links_14-Nov-2023-to-20-Nov-2023_1560-jobs_70-pages.csv',\n",
       " 'Linkedin_Job_Links_17-Oct-2023-to-23-0ct-2023_1844-jobs_97-pages.csv',\n",
       " 'Linkedin_Job_Links_21-Nov-2023-to-27-Nov-2023_1036-jobs_57-pages.csv',\n",
       " 'Linkedin_Job_Links_24-Oct-2023-to-30-0ct-2023_1824-jobs_83-pages.csv',\n",
       " 'Linkedin_Job_Links_26-Sep-2023-to-02-Oct-2023_1912-jobs_92-pages.csv',\n",
       " 'Linkedin_Job_Links_31-Oct-2023-to-06-Nov-2023_1561-jobs_72-pages.csv']"
      ]
     },
     "execution_count": 3,
     "metadata": {},
     "output_type": "execute_result"
    }
   ],
   "source": [
    "dir_list = os.listdir(path)\n",
    "dir_list"
   ]
  },
  {
   "cell_type": "code",
   "execution_count": 4,
   "id": "13f77b33-95be-425d-93a9-3e8e8f5331f7",
   "metadata": {},
   "outputs": [
    {
     "data": {
      "text/plain": [
       "9"
      ]
     },
     "execution_count": 4,
     "metadata": {},
     "output_type": "execute_result"
    }
   ],
   "source": [
    "len(dir_list)"
   ]
  },
  {
   "cell_type": "code",
   "execution_count": 11,
   "id": "64eea290-0602-4eb1-abc0-50baa18c3608",
   "metadata": {},
   "outputs": [
    {
     "data": {
      "text/plain": [
       "['Linkedin_Job_Links_26-Sep-2023-to-02-Oct-2023_1912-jobs_92-pages.csv',\n",
       " 'Linkedin_Job_Links_03-Oct-2023-to-09-Oct-2023_1875-jobs_89-pages.csv',\n",
       " 'Linkedin_Job_Links_10-Oct-2023-to-16-Oct-2023_1928-jobs_93-pages.csv',\n",
       " 'Linkedin_Job_Links_17-Oct-2023-to-23-0ct-2023_1844-jobs_97-pages.csv',\n",
       " 'Linkedin_Job_Links_24-Oct-2023-to-30-0ct-2023_1824-jobs_83-pages.csv',\n",
       " 'Linkedin_Job_Links_31-Oct-2023-to-06-Nov-2023_1561-jobs_72-pages.csv',\n",
       " 'Linkedin_Job_Links_07-Nov-2023-to-13-Nov-2023_754-jobs_32-pages.csv',\n",
       " 'Linkedin_Job_Links_14-Nov-2023-to-20-Nov-2023_1560-jobs_70-pages.csv',\n",
       " 'Linkedin_Job_Links_21-Nov-2023-to-27-Nov-2023_1036-jobs_57-pages.csv']"
      ]
     },
     "execution_count": 11,
     "metadata": {},
     "output_type": "execute_result"
    }
   ],
   "source": [
    "dates=[file.split('_')[3].split('-to-')[0] for file in dir_list]\n",
    "dates.sort(key=lambda date: datetime.strptime(date, \"%d-%b-%Y\"))\n",
    "file_names=[]\n",
    "for date in dates:\n",
    "    for file in dir_list:\n",
    "        if file.split('_')[3].split('-to-')[0]==date:\n",
    "            file_names.append(file)\n",
    "file_names    "
   ]
  },
  {
   "cell_type": "code",
   "execution_count": 13,
   "id": "391609ce-f290-4284-bfd4-3315dd962750",
   "metadata": {},
   "outputs": [
    {
     "data": {
      "text/plain": [
       "['Linkedin_Job_Links_26-Sep-2023-to-02-Oct-2023_1912-jobs_92-pages.csv',\n",
       " 'Linkedin_Job_Links_03-Oct-2023-to-09-Oct-2023_1875-jobs_89-pages.csv',\n",
       " 'Linkedin_Job_Links_10-Oct-2023-to-16-Oct-2023_1928-jobs_93-pages.csv',\n",
       " 'Linkedin_Job_Links_17-Oct-2023-to-23-0ct-2023_1844-jobs_97-pages.csv',\n",
       " 'Linkedin_Job_Links_24-Oct-2023-to-30-0ct-2023_1824-jobs_83-pages.csv',\n",
       " 'Linkedin_Job_Links_31-Oct-2023-to-06-Nov-2023_1561-jobs_72-pages.csv',\n",
       " 'Linkedin_Job_Links_07-Nov-2023-to-13-Nov-2023_754-jobs_32-pages.csv']"
      ]
     },
     "execution_count": 13,
     "metadata": {},
     "output_type": "execute_result"
    }
   ],
   "source": [
    "file_names[:7]"
   ]
  },
  {
   "cell_type": "code",
   "execution_count": 14,
   "id": "68769be6-78cd-4e62-a70b-a4b70a8bc5c5",
   "metadata": {},
   "outputs": [],
   "source": [
    "df_concat=None\n",
    "for file in file_names[:7]:\n",
    "    df=pd.read_csv(path+'/'+file)\n",
    "    df_concat=pd.concat([df_concat,df],ignore_index=True)    "
   ]
  },
  {
   "cell_type": "code",
   "execution_count": 15,
   "id": "68e7c70d-4b04-4985-ac76-7c1b370a2972",
   "metadata": {},
   "outputs": [
    {
     "data": {
      "text/html": [
       "<div>\n",
       "<style scoped>\n",
       "    .dataframe tbody tr th:only-of-type {\n",
       "        vertical-align: middle;\n",
       "    }\n",
       "\n",
       "    .dataframe tbody tr th {\n",
       "        vertical-align: top;\n",
       "    }\n",
       "\n",
       "    .dataframe thead th {\n",
       "        text-align: right;\n",
       "    }\n",
       "</style>\n",
       "<table border=\"1\" class=\"dataframe\">\n",
       "  <thead>\n",
       "    <tr style=\"text-align: right;\">\n",
       "      <th></th>\n",
       "      <th>Job Title</th>\n",
       "      <th>Job Link</th>\n",
       "      <th>Job ID</th>\n",
       "    </tr>\n",
       "  </thead>\n",
       "  <tbody>\n",
       "    <tr>\n",
       "      <th>0</th>\n",
       "      <td>LinkedIn Data Extractor</td>\n",
       "      <td>https://www.linkedin.com/jobs/view/3727054368/...</td>\n",
       "      <td>3727054368</td>\n",
       "    </tr>\n",
       "    <tr>\n",
       "      <th>1</th>\n",
       "      <td>It Management Intern</td>\n",
       "      <td>https://www.linkedin.com/jobs/view/3723395858/...</td>\n",
       "      <td>3723395858</td>\n",
       "    </tr>\n",
       "    <tr>\n",
       "      <th>2</th>\n",
       "      <td>SQL Database Developer</td>\n",
       "      <td>https://www.linkedin.com/jobs/view/3727034665/...</td>\n",
       "      <td>3727034665</td>\n",
       "    </tr>\n",
       "    <tr>\n",
       "      <th>3</th>\n",
       "      <td>Business Intelligence Developer</td>\n",
       "      <td>https://www.linkedin.com/jobs/view/3727029273/...</td>\n",
       "      <td>3727029273</td>\n",
       "    </tr>\n",
       "    <tr>\n",
       "      <th>4</th>\n",
       "      <td>Web Developer - Internship</td>\n",
       "      <td>https://www.linkedin.com/jobs/view/3727034696/...</td>\n",
       "      <td>3727034696</td>\n",
       "    </tr>\n",
       "    <tr>\n",
       "      <th>...</th>\n",
       "      <td>...</td>\n",
       "      <td>...</td>\n",
       "      <td>...</td>\n",
       "    </tr>\n",
       "    <tr>\n",
       "      <th>11693</th>\n",
       "      <td>Sr. Software Engineer - UI</td>\n",
       "      <td>https://www.linkedin.com/jobs/view/3758268626/...</td>\n",
       "      <td>3758268626</td>\n",
       "    </tr>\n",
       "    <tr>\n",
       "      <th>11694</th>\n",
       "      <td>Customer Sales Representative</td>\n",
       "      <td>https://www.linkedin.com/jobs/view/3753070889/...</td>\n",
       "      <td>3753070889</td>\n",
       "    </tr>\n",
       "    <tr>\n",
       "      <th>11695</th>\n",
       "      <td>Telesales Agent or CSR</td>\n",
       "      <td>https://www.linkedin.com/jobs/view/3757800035/...</td>\n",
       "      <td>3757800035</td>\n",
       "    </tr>\n",
       "    <tr>\n",
       "      <th>11696</th>\n",
       "      <td>Sales Executive</td>\n",
       "      <td>https://www.linkedin.com/jobs/view/3757283989/...</td>\n",
       "      <td>3757283989</td>\n",
       "    </tr>\n",
       "    <tr>\n",
       "      <th>11697</th>\n",
       "      <td>Angular Developer</td>\n",
       "      <td>https://www.linkedin.com/jobs/view/3751461639/...</td>\n",
       "      <td>3751461639</td>\n",
       "    </tr>\n",
       "  </tbody>\n",
       "</table>\n",
       "<p>11698 rows × 3 columns</p>\n",
       "</div>"
      ],
      "text/plain": [
       "                             Job Title  \\\n",
       "0              LinkedIn Data Extractor   \n",
       "1                 It Management Intern   \n",
       "2               SQL Database Developer   \n",
       "3      Business Intelligence Developer   \n",
       "4           Web Developer - Internship   \n",
       "...                                ...   \n",
       "11693       Sr. Software Engineer - UI   \n",
       "11694    Customer Sales Representative   \n",
       "11695           Telesales Agent or CSR   \n",
       "11696                  Sales Executive   \n",
       "11697                Angular Developer   \n",
       "\n",
       "                                                Job Link      Job ID  \n",
       "0      https://www.linkedin.com/jobs/view/3727054368/...  3727054368  \n",
       "1      https://www.linkedin.com/jobs/view/3723395858/...  3723395858  \n",
       "2      https://www.linkedin.com/jobs/view/3727034665/...  3727034665  \n",
       "3      https://www.linkedin.com/jobs/view/3727029273/...  3727029273  \n",
       "4      https://www.linkedin.com/jobs/view/3727034696/...  3727034696  \n",
       "...                                                  ...         ...  \n",
       "11693  https://www.linkedin.com/jobs/view/3758268626/...  3758268626  \n",
       "11694  https://www.linkedin.com/jobs/view/3753070889/...  3753070889  \n",
       "11695  https://www.linkedin.com/jobs/view/3757800035/...  3757800035  \n",
       "11696  https://www.linkedin.com/jobs/view/3757283989/...  3757283989  \n",
       "11697  https://www.linkedin.com/jobs/view/3751461639/...  3751461639  \n",
       "\n",
       "[11698 rows x 3 columns]"
      ]
     },
     "execution_count": 15,
     "metadata": {},
     "output_type": "execute_result"
    }
   ],
   "source": [
    "df_concat"
   ]
  },
  {
   "cell_type": "code",
   "execution_count": 16,
   "id": "c440ff55-8320-491d-94a2-1da1ebcb9cef",
   "metadata": {},
   "outputs": [
    {
     "data": {
      "text/plain": [
       "685"
      ]
     },
     "execution_count": 16,
     "metadata": {},
     "output_type": "execute_result"
    }
   ],
   "source": [
    "total_pages=0\n",
    "for file in file_names:\n",
    "    total_pages=total_pages+int(file.split('_')[5].strip('-pages.csv'))\n",
    "total_pages"
   ]
  },
  {
   "cell_type": "code",
   "execution_count": 17,
   "id": "9abed29f-641a-4e06-955a-653d66bf797d",
   "metadata": {},
   "outputs": [
    {
     "data": {
      "text/plain": [
       "14294"
      ]
     },
     "execution_count": 17,
     "metadata": {},
     "output_type": "execute_result"
    }
   ],
   "source": [
    "total_records=0\n",
    "for file in file_names:\n",
    "    total_records=total_records+int(file.split('_')[4].strip('-jobs'))\n",
    "total_records"
   ]
  },
  {
   "cell_type": "code",
   "execution_count": 18,
   "id": "981d25ae-2bae-46d7-8f83-437835bb35c4",
   "metadata": {},
   "outputs": [
    {
     "data": {
      "text/plain": [
       "11698"
      ]
     },
     "execution_count": 18,
     "metadata": {},
     "output_type": "execute_result"
    }
   ],
   "source": [
    "len(df_concat)"
   ]
  },
  {
   "cell_type": "markdown",
   "id": "28a20c21-c5ee-4847-8670-e179392dd98c",
   "metadata": {},
   "source": [
    "### checking data duplication"
   ]
  },
  {
   "cell_type": "code",
   "execution_count": 6,
   "id": "0112242c-5907-4e26-8915-40d9b1014303",
   "metadata": {},
   "outputs": [
    {
     "ename": "NameError",
     "evalue": "name 'df_concat' is not defined",
     "output_type": "error",
     "traceback": [
      "\u001b[1;31m---------------------------------------------------------------------------\u001b[0m",
      "\u001b[1;31mNameError\u001b[0m                                 Traceback (most recent call last)",
      "Cell \u001b[1;32mIn[6], line 1\u001b[0m\n\u001b[1;32m----> 1\u001b[0m \u001b[38;5;28mlen\u001b[39m(\u001b[43mdf_concat\u001b[49m[\u001b[38;5;124m'\u001b[39m\u001b[38;5;124mJob ID\u001b[39m\u001b[38;5;124m'\u001b[39m]\u001b[38;5;241m.\u001b[39munique())\n",
      "\u001b[1;31mNameError\u001b[0m: name 'df_concat' is not defined"
     ]
    }
   ],
   "source": [
    "len(df_concat['Job ID'].unique())"
   ]
  },
  {
   "cell_type": "code",
   "execution_count": 24,
   "id": "c54f9019-3580-4833-bdfa-2df0f8df8c44",
   "metadata": {},
   "outputs": [
    {
     "data": {
      "text/plain": [
       "1490"
      ]
     },
     "execution_count": 24,
     "metadata": {},
     "output_type": "execute_result"
    }
   ],
   "source": [
    "duplicates_count=df_concat.duplicated(subset=['Job ID']).sum()\n",
    "duplicates_count"
   ]
  },
  {
   "cell_type": "code",
   "execution_count": 26,
   "id": "fcc3b0ac-27f3-4d55-ac7e-4d670ac4609e",
   "metadata": {},
   "outputs": [
    {
     "data": {
      "text/html": [
       "<div>\n",
       "<style scoped>\n",
       "    .dataframe tbody tr th:only-of-type {\n",
       "        vertical-align: middle;\n",
       "    }\n",
       "\n",
       "    .dataframe tbody tr th {\n",
       "        vertical-align: top;\n",
       "    }\n",
       "\n",
       "    .dataframe thead th {\n",
       "        text-align: right;\n",
       "    }\n",
       "</style>\n",
       "<table border=\"1\" class=\"dataframe\">\n",
       "  <thead>\n",
       "    <tr style=\"text-align: right;\">\n",
       "      <th></th>\n",
       "      <th>Job Title</th>\n",
       "      <th>Job Link</th>\n",
       "      <th>Job ID</th>\n",
       "    </tr>\n",
       "  </thead>\n",
       "  <tbody>\n",
       "    <tr>\n",
       "      <th>1917</th>\n",
       "      <td>Senior GRC Analyst</td>\n",
       "      <td>https://www.linkedin.com/jobs/view/3705698711/...</td>\n",
       "      <td>3705698711</td>\n",
       "    </tr>\n",
       "    <tr>\n",
       "      <th>1923</th>\n",
       "      <td>Technology Consulting- SAP- EAM- Rapid Innovation</td>\n",
       "      <td>https://www.linkedin.com/jobs/view/3637936648/...</td>\n",
       "      <td>3637936648</td>\n",
       "    </tr>\n",
       "    <tr>\n",
       "      <th>1924</th>\n",
       "      <td>Pre-Sales Solutions Engineer</td>\n",
       "      <td>https://www.linkedin.com/jobs/view/3722491418/...</td>\n",
       "      <td>3722491418</td>\n",
       "    </tr>\n",
       "    <tr>\n",
       "      <th>1931</th>\n",
       "      <td>DevOps Engineer</td>\n",
       "      <td>https://www.linkedin.com/jobs/view/3730356736/...</td>\n",
       "      <td>3730356736</td>\n",
       "    </tr>\n",
       "    <tr>\n",
       "      <th>1933</th>\n",
       "      <td>Business Development Executive (REMOTE) up to ...</td>\n",
       "      <td>https://www.linkedin.com/jobs/view/3728108177/...</td>\n",
       "      <td>3728108177</td>\n",
       "    </tr>\n",
       "    <tr>\n",
       "      <th>...</th>\n",
       "      <td>...</td>\n",
       "      <td>...</td>\n",
       "      <td>...</td>\n",
       "    </tr>\n",
       "    <tr>\n",
       "      <th>11641</th>\n",
       "      <td>Software Engineering Manager</td>\n",
       "      <td>https://www.linkedin.com/jobs/view/3737888915/...</td>\n",
       "      <td>3737888915</td>\n",
       "    </tr>\n",
       "    <tr>\n",
       "      <th>11645</th>\n",
       "      <td>Media Generalist</td>\n",
       "      <td>https://www.linkedin.com/jobs/view/3755745473/...</td>\n",
       "      <td>3755745473</td>\n",
       "    </tr>\n",
       "    <tr>\n",
       "      <th>11665</th>\n",
       "      <td>Talent Acquisition Manager</td>\n",
       "      <td>https://www.linkedin.com/jobs/view/3742000837/...</td>\n",
       "      <td>3742000837</td>\n",
       "    </tr>\n",
       "    <tr>\n",
       "      <th>11669</th>\n",
       "      <td>Security Guard</td>\n",
       "      <td>https://www.linkedin.com/jobs/view/3755630853/...</td>\n",
       "      <td>3755630853</td>\n",
       "    </tr>\n",
       "    <tr>\n",
       "      <th>11685</th>\n",
       "      <td>Sales Account Executive</td>\n",
       "      <td>https://www.linkedin.com/jobs/view/3756313333/...</td>\n",
       "      <td>3756313333</td>\n",
       "    </tr>\n",
       "  </tbody>\n",
       "</table>\n",
       "<p>1490 rows × 3 columns</p>\n",
       "</div>"
      ],
      "text/plain": [
       "                                               Job Title  \\\n",
       "1917                                  Senior GRC Analyst   \n",
       "1923   Technology Consulting- SAP- EAM- Rapid Innovation   \n",
       "1924                        Pre-Sales Solutions Engineer   \n",
       "1931                                     DevOps Engineer   \n",
       "1933   Business Development Executive (REMOTE) up to ...   \n",
       "...                                                  ...   \n",
       "11641                       Software Engineering Manager   \n",
       "11645                                   Media Generalist   \n",
       "11665                         Talent Acquisition Manager   \n",
       "11669                                     Security Guard   \n",
       "11685                            Sales Account Executive   \n",
       "\n",
       "                                                Job Link      Job ID  \n",
       "1917   https://www.linkedin.com/jobs/view/3705698711/...  3705698711  \n",
       "1923   https://www.linkedin.com/jobs/view/3637936648/...  3637936648  \n",
       "1924   https://www.linkedin.com/jobs/view/3722491418/...  3722491418  \n",
       "1931   https://www.linkedin.com/jobs/view/3730356736/...  3730356736  \n",
       "1933   https://www.linkedin.com/jobs/view/3728108177/...  3728108177  \n",
       "...                                                  ...         ...  \n",
       "11641  https://www.linkedin.com/jobs/view/3737888915/...  3737888915  \n",
       "11645  https://www.linkedin.com/jobs/view/3755745473/...  3755745473  \n",
       "11665  https://www.linkedin.com/jobs/view/3742000837/...  3742000837  \n",
       "11669  https://www.linkedin.com/jobs/view/3755630853/...  3755630853  \n",
       "11685  https://www.linkedin.com/jobs/view/3756313333/...  3756313333  \n",
       "\n",
       "[1490 rows x 3 columns]"
      ]
     },
     "execution_count": 26,
     "metadata": {},
     "output_type": "execute_result"
    }
   ],
   "source": [
    "duplicates = df_concat['Job ID'].duplicated()\n",
    "df_concat[duplicates]"
   ]
  },
  {
   "cell_type": "code",
   "execution_count": 27,
   "id": "a524199c-1aa6-4500-b83a-43e762488e27",
   "metadata": {},
   "outputs": [
    {
     "data": {
      "text/html": [
       "<div>\n",
       "<style scoped>\n",
       "    .dataframe tbody tr th:only-of-type {\n",
       "        vertical-align: middle;\n",
       "    }\n",
       "\n",
       "    .dataframe tbody tr th {\n",
       "        vertical-align: top;\n",
       "    }\n",
       "\n",
       "    .dataframe thead th {\n",
       "        text-align: right;\n",
       "    }\n",
       "</style>\n",
       "<table border=\"1\" class=\"dataframe\">\n",
       "  <thead>\n",
       "    <tr style=\"text-align: right;\">\n",
       "      <th></th>\n",
       "      <th>Job Title</th>\n",
       "      <th>Job Link</th>\n",
       "      <th>Job ID</th>\n",
       "    </tr>\n",
       "  </thead>\n",
       "  <tbody>\n",
       "    <tr>\n",
       "      <th>0</th>\n",
       "      <td>LinkedIn Data Extractor</td>\n",
       "      <td>https://www.linkedin.com/jobs/view/3727054368/...</td>\n",
       "      <td>3727054368</td>\n",
       "    </tr>\n",
       "    <tr>\n",
       "      <th>1</th>\n",
       "      <td>It Management Intern</td>\n",
       "      <td>https://www.linkedin.com/jobs/view/3723395858/...</td>\n",
       "      <td>3723395858</td>\n",
       "    </tr>\n",
       "    <tr>\n",
       "      <th>2</th>\n",
       "      <td>SQL Database Developer</td>\n",
       "      <td>https://www.linkedin.com/jobs/view/3727034665/...</td>\n",
       "      <td>3727034665</td>\n",
       "    </tr>\n",
       "    <tr>\n",
       "      <th>3</th>\n",
       "      <td>Business Intelligence Developer</td>\n",
       "      <td>https://www.linkedin.com/jobs/view/3727029273/...</td>\n",
       "      <td>3727029273</td>\n",
       "    </tr>\n",
       "    <tr>\n",
       "      <th>4</th>\n",
       "      <td>Web Developer - Internship</td>\n",
       "      <td>https://www.linkedin.com/jobs/view/3727034696/...</td>\n",
       "      <td>3727034696</td>\n",
       "    </tr>\n",
       "    <tr>\n",
       "      <th>...</th>\n",
       "      <td>...</td>\n",
       "      <td>...</td>\n",
       "      <td>...</td>\n",
       "    </tr>\n",
       "    <tr>\n",
       "      <th>11693</th>\n",
       "      <td>Sr. Software Engineer - UI</td>\n",
       "      <td>https://www.linkedin.com/jobs/view/3758268626/...</td>\n",
       "      <td>3758268626</td>\n",
       "    </tr>\n",
       "    <tr>\n",
       "      <th>11694</th>\n",
       "      <td>Customer Sales Representative</td>\n",
       "      <td>https://www.linkedin.com/jobs/view/3753070889/...</td>\n",
       "      <td>3753070889</td>\n",
       "    </tr>\n",
       "    <tr>\n",
       "      <th>11695</th>\n",
       "      <td>Telesales Agent or CSR</td>\n",
       "      <td>https://www.linkedin.com/jobs/view/3757800035/...</td>\n",
       "      <td>3757800035</td>\n",
       "    </tr>\n",
       "    <tr>\n",
       "      <th>11696</th>\n",
       "      <td>Sales Executive</td>\n",
       "      <td>https://www.linkedin.com/jobs/view/3757283989/...</td>\n",
       "      <td>3757283989</td>\n",
       "    </tr>\n",
       "    <tr>\n",
       "      <th>11697</th>\n",
       "      <td>Angular Developer</td>\n",
       "      <td>https://www.linkedin.com/jobs/view/3751461639/...</td>\n",
       "      <td>3751461639</td>\n",
       "    </tr>\n",
       "  </tbody>\n",
       "</table>\n",
       "<p>10208 rows × 3 columns</p>\n",
       "</div>"
      ],
      "text/plain": [
       "                             Job Title  \\\n",
       "0              LinkedIn Data Extractor   \n",
       "1                 It Management Intern   \n",
       "2               SQL Database Developer   \n",
       "3      Business Intelligence Developer   \n",
       "4           Web Developer - Internship   \n",
       "...                                ...   \n",
       "11693       Sr. Software Engineer - UI   \n",
       "11694    Customer Sales Representative   \n",
       "11695           Telesales Agent or CSR   \n",
       "11696                  Sales Executive   \n",
       "11697                Angular Developer   \n",
       "\n",
       "                                                Job Link      Job ID  \n",
       "0      https://www.linkedin.com/jobs/view/3727054368/...  3727054368  \n",
       "1      https://www.linkedin.com/jobs/view/3723395858/...  3723395858  \n",
       "2      https://www.linkedin.com/jobs/view/3727034665/...  3727034665  \n",
       "3      https://www.linkedin.com/jobs/view/3727029273/...  3727029273  \n",
       "4      https://www.linkedin.com/jobs/view/3727034696/...  3727034696  \n",
       "...                                                  ...         ...  \n",
       "11693  https://www.linkedin.com/jobs/view/3758268626/...  3758268626  \n",
       "11694  https://www.linkedin.com/jobs/view/3753070889/...  3753070889  \n",
       "11695  https://www.linkedin.com/jobs/view/3757800035/...  3757800035  \n",
       "11696  https://www.linkedin.com/jobs/view/3757283989/...  3757283989  \n",
       "11697  https://www.linkedin.com/jobs/view/3751461639/...  3751461639  \n",
       "\n",
       "[10208 rows x 3 columns]"
      ]
     },
     "execution_count": 27,
     "metadata": {},
     "output_type": "execute_result"
    }
   ],
   "source": [
    "df_no_duplicates = df_concat.drop_duplicates(subset=['Job ID'])\n",
    "df_no_duplicates"
   ]
  },
  {
   "cell_type": "code",
   "execution_count": 28,
   "id": "830a580c-7e11-406c-9f48-0e3abc0d43cb",
   "metadata": {},
   "outputs": [
    {
     "data": {
      "text/plain": [
       "10208"
      ]
     },
     "execution_count": 28,
     "metadata": {},
     "output_type": "execute_result"
    }
   ],
   "source": [
    "len(df_no_duplicates)"
   ]
  },
  {
   "cell_type": "code",
   "execution_count": 29,
   "id": "0705076e-8651-45e5-8b10-93fd95d88223",
   "metadata": {},
   "outputs": [
    {
     "data": {
      "text/plain": [
       "10208"
      ]
     },
     "execution_count": 29,
     "metadata": {},
     "output_type": "execute_result"
    }
   ],
   "source": [
    "len(df_concat)-duplicates_count"
   ]
  },
  {
   "cell_type": "markdown",
   "id": "8654e137-d194-425f-b305-17902004e11f",
   "metadata": {},
   "source": [
    "## toatal non duplicated records till 7th week:10208"
   ]
  },
  {
   "cell_type": "code",
   "execution_count": null,
   "id": "79b7b0c9-16fa-4c42-b06f-1dbd18f25ae3",
   "metadata": {},
   "outputs": [],
   "source": []
  },
  {
   "cell_type": "markdown",
   "id": "bfec5b57-3c31-460e-a4b0-bbc3f8fb46d2",
   "metadata": {},
   "source": [
    "### saving file"
   ]
  },
  {
   "cell_type": "code",
   "execution_count": 30,
   "id": "fee986ff-013c-471c-a55d-f3025ac1acee",
   "metadata": {},
   "outputs": [
    {
     "data": {
      "text/plain": [
       "'one file from all weeks/'"
      ]
     },
     "execution_count": 30,
     "metadata": {},
     "output_type": "execute_result"
    }
   ],
   "source": [
    "folder_path='one file from all weeks/'\n",
    "folder_path"
   ]
  },
  {
   "cell_type": "code",
   "execution_count": 31,
   "id": "716f6a7c-59ca-45b0-9e22-8482d2e8a016",
   "metadata": {},
   "outputs": [
    {
     "data": {
      "text/plain": [
       "'26-Sep-2023-to-13-Nov-2023'"
      ]
     },
     "execution_count": 31,
     "metadata": {},
     "output_type": "execute_result"
    }
   ],
   "source": [
    "week='26-Sep-2023-to-13-Nov-2023'\n",
    "week"
   ]
  },
  {
   "cell_type": "code",
   "execution_count": 32,
   "id": "1541a5b8-dcfc-415c-ac08-db61e5f83720",
   "metadata": {},
   "outputs": [],
   "source": [
    "df_no_duplicates.to_csv(folder_path+f'Linkedin_Job_Links_{week}_{len(df_no_duplicates)}-jobs_{total_pages}-pages_not_duplicated.csv',index=False)"
   ]
  },
  {
   "cell_type": "markdown",
   "id": "26c6941a-920d-4dd2-8455-42fb1b219b0c",
   "metadata": {},
   "source": [
    "### concatenating Daily Files Not Duplicated"
   ]
  },
  {
   "cell_type": "code",
   "execution_count": 17,
   "id": "144d2c88-5e39-42b9-a78a-30c85708b076",
   "metadata": {},
   "outputs": [],
   "source": [
    "path2=\"Daily Files Not Duplicated/\""
   ]
  },
  {
   "cell_type": "code",
   "execution_count": 18,
   "id": "68f97d35-dc98-4e4c-959e-acaa3a322b9b",
   "metadata": {},
   "outputs": [
    {
     "data": {
      "text/plain": [
       "['1st Week 26 Sep-02 Oct',\n",
       " '2nd Week 03 Oct-09 Oct',\n",
       " '3rd week 10 Oct -16 0ct',\n",
       " '4th week 17 Oct -23 0ct',\n",
       " '5th week 24 Oct -30 0ct',\n",
       " '6th week 31 Oct -06 Nov',\n",
       " '7th week 07 Nov -13 Nov',\n",
       " '8th week 14 Nov -20 Nov',\n",
       " '9th week 21 Nov -27 Nov']"
      ]
     },
     "execution_count": 18,
     "metadata": {},
     "output_type": "execute_result"
    }
   ],
   "source": [
    "dir_list = os.listdir(path2)\n",
    "dir_list"
   ]
  },
  {
   "cell_type": "code",
   "execution_count": 19,
   "id": "092d42cc-8fd4-469a-8bab-8b64d25cf8da",
   "metadata": {},
   "outputs": [],
   "source": [
    "List_of_csv_files=[]\n",
    "List_of_csv_file_paths=[]\n",
    "for dir in dir_list[:]:\n",
    "    # print(os.listdir(path2+dir))\n",
    "    dir_list2=os.listdir(path2+dir)\n",
    "    paths=[]\n",
    "    for dir2 in dir_list2:\n",
    "        path=path2+dir+'/'+dir2\n",
    "        paths.append(path)\n",
    "    dates=[file.split('/')[2].split('_')[3] for file in paths]\n",
    "    dates.sort(key=lambda date: datetime.strptime(date, \"%d-%b-%Y\"))\n",
    "    paths2=[]\n",
    "    for date in dates:\n",
    "        for file in paths:\n",
    "            if file.split('/')[2].split('_')[3]==date:\n",
    "                paths2.append(file)\n",
    "\n",
    "        \n",
    "    List_of_csv_files.extend(dir_list2)\n",
    "    List_of_csv_file_paths.extend(paths2)"
   ]
  },
  {
   "cell_type": "code",
   "execution_count": 20,
   "id": "be9d4b81-3cda-4e39-8e59-2929db2626c7",
   "metadata": {},
   "outputs": [
    {
     "data": {
      "text/plain": [
       "['Linkedin_Job_Links_01-Oct-2023_125-jobs_5-pages.csv',\n",
       " 'Linkedin_Job_Links_02-Oct-2023_360-jobs_15-pages.csv',\n",
       " 'Linkedin_Job_Links_26-Sep-2023_561-jobs_23-pages.csv',\n",
       " 'Linkedin_Job_Links_27-Sep-2023_352-jobs_18-pages.csv',\n",
       " 'Linkedin_Job_Links_28-Sep-2023_309-jobs_14-pages.csv',\n",
       " 'Linkedin_Job_Links_29-Sep-2023_239-jobs_10-pages.csv',\n",
       " 'Linkedin_Job_Links_30-Sep-2023_170-jobs_7-pages.csv',\n",
       " 'Linkedin_Job_Links_03-Oct-2023_375-jobs_15-pages.csv',\n",
       " 'Linkedin_Job_Links_04-Oct-2023_356-jobs_15-pages.csv',\n",
       " 'Linkedin_Job_Links_05-Oct-2023_335-jobs_15-pages.csv',\n",
       " 'Linkedin_Job_Links_06-Oct-2023_332-jobs_14-pages.csv',\n",
       " 'Linkedin_Job_Links_07-Oct-2023_250-jobs_11-pages.csv',\n",
       " 'Linkedin_Job_Links_08-Oct-2023_116-jobs_5-pages.csv',\n",
       " 'Linkedin_Job_Links_09-Oct-2023_334-jobs_14-pages.csv',\n",
       " 'Linkedin_Job_Links_10-Oct-2023_421-jobs_18-pages.csv',\n",
       " 'Linkedin_Job_Links_11-Oct-2023_374-jobs_17-pages.csv',\n",
       " 'Linkedin_Job_Links_12-Oct-2023_261-jobs_12-pages.csv',\n",
       " 'Linkedin_Job_Links_13-Oct-2023_382-jobs_16-pages.csv',\n",
       " 'Linkedin_Job_Links_14-Oct-2023_334-jobs_14-pages.csv',\n",
       " 'Linkedin_Job_Links_15-Oct-2023_57-jobs_3-pages.csv',\n",
       " 'Linkedin_Job_Links_16-Oct-2023_308-jobs_13-pages.csv',\n",
       " 'Linkedin_Job_Links_17-Oct-2023_379-jobs_16-pages.csv',\n",
       " 'Linkedin_Job_Links_18-Oct-2023_492-jobs_25-pages.csv',\n",
       " 'Linkedin_Job_Links_19-Oct-2023_381-jobs_16-pages.csv',\n",
       " 'Linkedin_Job_Links_20-Oct-2023_284-jobs_13-pages.csv',\n",
       " 'Linkedin_Job_Links_21-Oct-2023_362-jobs_16-pages.csv',\n",
       " 'Linkedin_Job_Links_22-Oct-2023_131-jobs_6-pages.csv',\n",
       " 'Linkedin_Job_Links_23-Oct-2023_125-jobs_5-pages.csv',\n",
       " 'Linkedin_Job_Links_24-Oct-2023_338-jobs_14-pages.csv',\n",
       " 'Linkedin_Job_Links_25-Oct-2023_384-jobs_16-pages.csv',\n",
       " 'Linkedin_Job_Links_26-Oct-2023_304-jobs_13-pages.csv',\n",
       " 'Linkedin_Job_Links_27-Oct-2023_306-jobs_14-pages.csv',\n",
       " 'Linkedin_Job_Links_28-Oct-2023_369-jobs_16-pages.csv',\n",
       " 'Linkedin_Job_Links_29-Oct-2023_144-jobs_6-pages.csv',\n",
       " 'Linkedin_Job_Links_30-Oct-2023_100-jobs_4-pages.csv',\n",
       " 'Linkedin_Job_Links_03-Nov-2023_873-jobs_37-pages.csv',\n",
       " 'Linkedin_Job_Links_04-Nov-2023_471-jobs_20-pages.csv',\n",
       " 'Linkedin_Job_Links_31-Oct-2023_356-jobs_15-pages.csv',\n",
       " 'Linkedin_Job_Links_07-Nov-2023_754-jobs_32-pages.csv',\n",
       " 'Linkedin_Job_Links_14-Nov-2023_845-jobs_34-pages.csv',\n",
       " 'Linkedin_Job_Links_19-Nov-2023_848-jobs_36-pages.csv',\n",
       " 'Linkedin_Job_Links_23-Nov-2023_649-jobs_28-pages.csv',\n",
       " 'Linkedin_Job_Links_26-Nov-2023_699-jobs_29-pages.csv']"
      ]
     },
     "execution_count": 20,
     "metadata": {},
     "output_type": "execute_result"
    }
   ],
   "source": [
    "List_of_csv_files"
   ]
  },
  {
   "cell_type": "code",
   "execution_count": 21,
   "id": "d663a84a-9eeb-4d30-942a-50e8a9cd41be",
   "metadata": {},
   "outputs": [
    {
     "data": {
      "text/plain": [
       "43"
      ]
     },
     "execution_count": 21,
     "metadata": {},
     "output_type": "execute_result"
    }
   ],
   "source": [
    "len(List_of_csv_files)"
   ]
  },
  {
   "cell_type": "code",
   "execution_count": 22,
   "id": "c83f877a-f5dc-49dc-8058-7827b3390c4d",
   "metadata": {},
   "outputs": [
    {
     "data": {
      "text/plain": [
       "['Daily Files Not Duplicated/1st Week 26 Sep-02 Oct/Linkedin_Job_Links_26-Sep-2023_561-jobs_23-pages.csv',\n",
       " 'Daily Files Not Duplicated/1st Week 26 Sep-02 Oct/Linkedin_Job_Links_27-Sep-2023_352-jobs_18-pages.csv',\n",
       " 'Daily Files Not Duplicated/1st Week 26 Sep-02 Oct/Linkedin_Job_Links_28-Sep-2023_309-jobs_14-pages.csv',\n",
       " 'Daily Files Not Duplicated/1st Week 26 Sep-02 Oct/Linkedin_Job_Links_29-Sep-2023_239-jobs_10-pages.csv',\n",
       " 'Daily Files Not Duplicated/1st Week 26 Sep-02 Oct/Linkedin_Job_Links_30-Sep-2023_170-jobs_7-pages.csv',\n",
       " 'Daily Files Not Duplicated/1st Week 26 Sep-02 Oct/Linkedin_Job_Links_01-Oct-2023_125-jobs_5-pages.csv',\n",
       " 'Daily Files Not Duplicated/1st Week 26 Sep-02 Oct/Linkedin_Job_Links_02-Oct-2023_360-jobs_15-pages.csv',\n",
       " 'Daily Files Not Duplicated/2nd Week 03 Oct-09 Oct/Linkedin_Job_Links_03-Oct-2023_375-jobs_15-pages.csv',\n",
       " 'Daily Files Not Duplicated/2nd Week 03 Oct-09 Oct/Linkedin_Job_Links_04-Oct-2023_356-jobs_15-pages.csv',\n",
       " 'Daily Files Not Duplicated/2nd Week 03 Oct-09 Oct/Linkedin_Job_Links_05-Oct-2023_335-jobs_15-pages.csv',\n",
       " 'Daily Files Not Duplicated/2nd Week 03 Oct-09 Oct/Linkedin_Job_Links_06-Oct-2023_332-jobs_14-pages.csv',\n",
       " 'Daily Files Not Duplicated/2nd Week 03 Oct-09 Oct/Linkedin_Job_Links_07-Oct-2023_250-jobs_11-pages.csv',\n",
       " 'Daily Files Not Duplicated/2nd Week 03 Oct-09 Oct/Linkedin_Job_Links_08-Oct-2023_116-jobs_5-pages.csv',\n",
       " 'Daily Files Not Duplicated/2nd Week 03 Oct-09 Oct/Linkedin_Job_Links_09-Oct-2023_334-jobs_14-pages.csv',\n",
       " 'Daily Files Not Duplicated/3rd week 10 Oct -16 0ct/Linkedin_Job_Links_10-Oct-2023_421-jobs_18-pages.csv',\n",
       " 'Daily Files Not Duplicated/3rd week 10 Oct -16 0ct/Linkedin_Job_Links_11-Oct-2023_374-jobs_17-pages.csv',\n",
       " 'Daily Files Not Duplicated/3rd week 10 Oct -16 0ct/Linkedin_Job_Links_12-Oct-2023_261-jobs_12-pages.csv',\n",
       " 'Daily Files Not Duplicated/3rd week 10 Oct -16 0ct/Linkedin_Job_Links_13-Oct-2023_382-jobs_16-pages.csv',\n",
       " 'Daily Files Not Duplicated/3rd week 10 Oct -16 0ct/Linkedin_Job_Links_14-Oct-2023_334-jobs_14-pages.csv',\n",
       " 'Daily Files Not Duplicated/3rd week 10 Oct -16 0ct/Linkedin_Job_Links_15-Oct-2023_57-jobs_3-pages.csv',\n",
       " 'Daily Files Not Duplicated/3rd week 10 Oct -16 0ct/Linkedin_Job_Links_16-Oct-2023_308-jobs_13-pages.csv',\n",
       " 'Daily Files Not Duplicated/4th week 17 Oct -23 0ct/Linkedin_Job_Links_17-Oct-2023_379-jobs_16-pages.csv',\n",
       " 'Daily Files Not Duplicated/4th week 17 Oct -23 0ct/Linkedin_Job_Links_18-Oct-2023_492-jobs_25-pages.csv',\n",
       " 'Daily Files Not Duplicated/4th week 17 Oct -23 0ct/Linkedin_Job_Links_19-Oct-2023_381-jobs_16-pages.csv',\n",
       " 'Daily Files Not Duplicated/4th week 17 Oct -23 0ct/Linkedin_Job_Links_20-Oct-2023_284-jobs_13-pages.csv',\n",
       " 'Daily Files Not Duplicated/4th week 17 Oct -23 0ct/Linkedin_Job_Links_21-Oct-2023_362-jobs_16-pages.csv',\n",
       " 'Daily Files Not Duplicated/4th week 17 Oct -23 0ct/Linkedin_Job_Links_22-Oct-2023_131-jobs_6-pages.csv',\n",
       " 'Daily Files Not Duplicated/4th week 17 Oct -23 0ct/Linkedin_Job_Links_23-Oct-2023_125-jobs_5-pages.csv',\n",
       " 'Daily Files Not Duplicated/5th week 24 Oct -30 0ct/Linkedin_Job_Links_24-Oct-2023_338-jobs_14-pages.csv',\n",
       " 'Daily Files Not Duplicated/5th week 24 Oct -30 0ct/Linkedin_Job_Links_25-Oct-2023_384-jobs_16-pages.csv',\n",
       " 'Daily Files Not Duplicated/5th week 24 Oct -30 0ct/Linkedin_Job_Links_26-Oct-2023_304-jobs_13-pages.csv',\n",
       " 'Daily Files Not Duplicated/5th week 24 Oct -30 0ct/Linkedin_Job_Links_27-Oct-2023_306-jobs_14-pages.csv',\n",
       " 'Daily Files Not Duplicated/5th week 24 Oct -30 0ct/Linkedin_Job_Links_28-Oct-2023_369-jobs_16-pages.csv',\n",
       " 'Daily Files Not Duplicated/5th week 24 Oct -30 0ct/Linkedin_Job_Links_29-Oct-2023_144-jobs_6-pages.csv',\n",
       " 'Daily Files Not Duplicated/5th week 24 Oct -30 0ct/Linkedin_Job_Links_30-Oct-2023_100-jobs_4-pages.csv',\n",
       " 'Daily Files Not Duplicated/6th week 31 Oct -06 Nov/Linkedin_Job_Links_31-Oct-2023_356-jobs_15-pages.csv',\n",
       " 'Daily Files Not Duplicated/6th week 31 Oct -06 Nov/Linkedin_Job_Links_03-Nov-2023_873-jobs_37-pages.csv',\n",
       " 'Daily Files Not Duplicated/6th week 31 Oct -06 Nov/Linkedin_Job_Links_04-Nov-2023_471-jobs_20-pages.csv',\n",
       " 'Daily Files Not Duplicated/7th week 07 Nov -13 Nov/Linkedin_Job_Links_07-Nov-2023_754-jobs_32-pages.csv',\n",
       " 'Daily Files Not Duplicated/8th week 14 Nov -20 Nov/Linkedin_Job_Links_14-Nov-2023_845-jobs_34-pages.csv',\n",
       " 'Daily Files Not Duplicated/8th week 14 Nov -20 Nov/Linkedin_Job_Links_19-Nov-2023_848-jobs_36-pages.csv',\n",
       " 'Daily Files Not Duplicated/9th week 21 Nov -27 Nov/Linkedin_Job_Links_23-Nov-2023_649-jobs_28-pages.csv',\n",
       " 'Daily Files Not Duplicated/9th week 21 Nov -27 Nov/Linkedin_Job_Links_26-Nov-2023_699-jobs_29-pages.csv']"
      ]
     },
     "execution_count": 22,
     "metadata": {},
     "output_type": "execute_result"
    }
   ],
   "source": [
    "List_of_csv_file_paths"
   ]
  },
  {
   "cell_type": "code",
   "execution_count": 23,
   "id": "5688e18b-6c09-4ade-95f0-61c61c619c94",
   "metadata": {},
   "outputs": [
    {
     "data": {
      "text/plain": [
       "43"
      ]
     },
     "execution_count": 23,
     "metadata": {},
     "output_type": "execute_result"
    }
   ],
   "source": [
    "len(List_of_csv_file_paths)"
   ]
  },
  {
   "cell_type": "code",
   "execution_count": 24,
   "id": "5ae1e391-8bbd-4b12-bed1-b9ebfcebefb3",
   "metadata": {},
   "outputs": [],
   "source": [
    "df_concat2=None\n",
    "for file in List_of_csv_file_paths:\n",
    "    df=pd.read_csv(file)\n",
    "    df_concat2=pd.concat([df_concat2,df],ignore_index=True)"
   ]
  },
  {
   "cell_type": "code",
   "execution_count": 25,
   "id": "bc9342c9-4c09-49d6-bec5-64b17bdbd050",
   "metadata": {},
   "outputs": [
    {
     "data": {
      "text/html": [
       "<div>\n",
       "<style scoped>\n",
       "    .dataframe tbody tr th:only-of-type {\n",
       "        vertical-align: middle;\n",
       "    }\n",
       "\n",
       "    .dataframe tbody tr th {\n",
       "        vertical-align: top;\n",
       "    }\n",
       "\n",
       "    .dataframe thead th {\n",
       "        text-align: right;\n",
       "    }\n",
       "</style>\n",
       "<table border=\"1\" class=\"dataframe\">\n",
       "  <thead>\n",
       "    <tr style=\"text-align: right;\">\n",
       "      <th></th>\n",
       "      <th>Job Title</th>\n",
       "      <th>Job Link</th>\n",
       "      <th>Job ID</th>\n",
       "    </tr>\n",
       "  </thead>\n",
       "  <tbody>\n",
       "    <tr>\n",
       "      <th>0</th>\n",
       "      <td>LinkedIn Data Extractor</td>\n",
       "      <td>https://www.linkedin.com/jobs/view/3727054368/...</td>\n",
       "      <td>3727054368</td>\n",
       "    </tr>\n",
       "    <tr>\n",
       "      <th>1</th>\n",
       "      <td>It Management Intern</td>\n",
       "      <td>https://www.linkedin.com/jobs/view/3723395858/...</td>\n",
       "      <td>3723395858</td>\n",
       "    </tr>\n",
       "    <tr>\n",
       "      <th>2</th>\n",
       "      <td>SQL Database Developer</td>\n",
       "      <td>https://www.linkedin.com/jobs/view/3727034665/...</td>\n",
       "      <td>3727034665</td>\n",
       "    </tr>\n",
       "    <tr>\n",
       "      <th>3</th>\n",
       "      <td>Business Intelligence Developer</td>\n",
       "      <td>https://www.linkedin.com/jobs/view/3727029273/...</td>\n",
       "      <td>3727029273</td>\n",
       "    </tr>\n",
       "    <tr>\n",
       "      <th>4</th>\n",
       "      <td>Web Developer - Internship</td>\n",
       "      <td>https://www.linkedin.com/jobs/view/3727034696/...</td>\n",
       "      <td>3727034696</td>\n",
       "    </tr>\n",
       "    <tr>\n",
       "      <th>...</th>\n",
       "      <td>...</td>\n",
       "      <td>...</td>\n",
       "      <td>...</td>\n",
       "    </tr>\n",
       "    <tr>\n",
       "      <th>15940</th>\n",
       "      <td>NaN</td>\n",
       "      <td>NaN</td>\n",
       "      <td>3767355025</td>\n",
       "    </tr>\n",
       "    <tr>\n",
       "      <th>15941</th>\n",
       "      <td>NaN</td>\n",
       "      <td>NaN</td>\n",
       "      <td>3766809535</td>\n",
       "    </tr>\n",
       "    <tr>\n",
       "      <th>15942</th>\n",
       "      <td>Information Security Specialist</td>\n",
       "      <td>https://www.linkedin.com/jobs/view/3772530977/...</td>\n",
       "      <td>3772530977</td>\n",
       "    </tr>\n",
       "    <tr>\n",
       "      <th>15943</th>\n",
       "      <td>FUNCTIONAL CONSULTANT ORACLE FUSION - HCM</td>\n",
       "      <td>https://www.linkedin.com/jobs/view/3771943212/...</td>\n",
       "      <td>3771943212</td>\n",
       "    </tr>\n",
       "    <tr>\n",
       "      <th>15944</th>\n",
       "      <td>Community Associate</td>\n",
       "      <td>https://www.linkedin.com/jobs/view/3767944844/...</td>\n",
       "      <td>3767944844</td>\n",
       "    </tr>\n",
       "  </tbody>\n",
       "</table>\n",
       "<p>15945 rows × 3 columns</p>\n",
       "</div>"
      ],
      "text/plain": [
       "                                       Job Title  \\\n",
       "0                        LinkedIn Data Extractor   \n",
       "1                           It Management Intern   \n",
       "2                         SQL Database Developer   \n",
       "3                Business Intelligence Developer   \n",
       "4                     Web Developer - Internship   \n",
       "...                                          ...   \n",
       "15940                                        NaN   \n",
       "15941                                        NaN   \n",
       "15942            Information Security Specialist   \n",
       "15943  FUNCTIONAL CONSULTANT ORACLE FUSION - HCM   \n",
       "15944                        Community Associate   \n",
       "\n",
       "                                                Job Link      Job ID  \n",
       "0      https://www.linkedin.com/jobs/view/3727054368/...  3727054368  \n",
       "1      https://www.linkedin.com/jobs/view/3723395858/...  3723395858  \n",
       "2      https://www.linkedin.com/jobs/view/3727034665/...  3727034665  \n",
       "3      https://www.linkedin.com/jobs/view/3727029273/...  3727029273  \n",
       "4      https://www.linkedin.com/jobs/view/3727034696/...  3727034696  \n",
       "...                                                  ...         ...  \n",
       "15940                                                NaN  3767355025  \n",
       "15941                                                NaN  3766809535  \n",
       "15942  https://www.linkedin.com/jobs/view/3772530977/...  3772530977  \n",
       "15943  https://www.linkedin.com/jobs/view/3771943212/...  3771943212  \n",
       "15944  https://www.linkedin.com/jobs/view/3767944844/...  3767944844  \n",
       "\n",
       "[15945 rows x 3 columns]"
      ]
     },
     "execution_count": 25,
     "metadata": {},
     "output_type": "execute_result"
    }
   ],
   "source": [
    "df_concat2"
   ]
  },
  {
   "cell_type": "code",
   "execution_count": 26,
   "id": "21e34de1-44f8-47f0-a54c-f3aed13a9419",
   "metadata": {},
   "outputs": [
    {
     "data": {
      "text/plain": [
       "15945"
      ]
     },
     "execution_count": 26,
     "metadata": {},
     "output_type": "execute_result"
    }
   ],
   "source": [
    "len(df_concat2)"
   ]
  },
  {
   "cell_type": "code",
   "execution_count": 27,
   "id": "45c18ab1-4f87-4ea9-b494-e65122289dde",
   "metadata": {},
   "outputs": [
    {
     "data": {
      "text/plain": [
       "12321"
      ]
     },
     "execution_count": 27,
     "metadata": {},
     "output_type": "execute_result"
    }
   ],
   "source": [
    "len(df_concat2['Job ID'].unique())"
   ]
  },
  {
   "cell_type": "code",
   "execution_count": 29,
   "id": "4959d10c-c1f0-4b76-b930-94434f83f7d4",
   "metadata": {},
   "outputs": [
    {
     "data": {
      "text/plain": [
       "3624"
      ]
     },
     "execution_count": 29,
     "metadata": {},
     "output_type": "execute_result"
    }
   ],
   "source": [
    "duplicates_count=df_concat2.duplicated(subset=['Job ID']).sum()\n",
    "duplicates_count"
   ]
  },
  {
   "cell_type": "code",
   "execution_count": 30,
   "id": "299ea647-9230-494b-afeb-b42905aa2cf3",
   "metadata": {},
   "outputs": [
    {
     "data": {
      "text/plain": [
       "12321"
      ]
     },
     "execution_count": 30,
     "metadata": {},
     "output_type": "execute_result"
    }
   ],
   "source": [
    "len(df_concat2)-duplicates_count"
   ]
  },
  {
   "cell_type": "code",
   "execution_count": null,
   "id": "0e348ebd-5cbb-4dec-b938-70c91995f496",
   "metadata": {},
   "outputs": [],
   "source": []
  }
 ],
 "metadata": {
  "kernelspec": {
   "display_name": "Python 3 (ipykernel)",
   "language": "python",
   "name": "python3"
  },
  "language_info": {
   "codemirror_mode": {
    "name": "ipython",
    "version": 3
   },
   "file_extension": ".py",
   "mimetype": "text/x-python",
   "name": "python",
   "nbconvert_exporter": "python",
   "pygments_lexer": "ipython3",
   "version": "3.11.4"
  }
 },
 "nbformat": 4,
 "nbformat_minor": 5
}
