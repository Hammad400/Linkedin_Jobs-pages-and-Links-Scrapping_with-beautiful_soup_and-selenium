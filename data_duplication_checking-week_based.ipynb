{
 "cells": [
  {
   "cell_type": "code",
   "execution_count": 1,
   "id": "81ac062a-82c7-49ee-b287-c219641155b6",
   "metadata": {},
   "outputs": [],
   "source": [
    "import pandas as pd\n",
    "import numpy as np\n",
    "import os\n",
    "from datetime import datetime"
   ]
  },
  {
   "cell_type": "code",
   "execution_count": 2,
   "id": "33d8abb1-a617-4557-b98f-5951966001a2",
   "metadata": {},
   "outputs": [],
   "source": [
    "path='Weekly Files Concatenated from Daily Files/Linkedin_Job_Links_21-Nov-2023-to-27-Nov-2023_1348-jobs_57-pages.csv'"
   ]
  },
  {
   "cell_type": "code",
   "execution_count": 3,
   "id": "ea083d0e-c886-4620-a6b3-778654b7f58b",
   "metadata": {},
   "outputs": [],
   "source": [
    "df=pd.read_csv(path)"
   ]
  },
  {
   "cell_type": "markdown",
   "id": "734d344d-ad4e-4f8d-965c-3b9eb36c5e56",
   "metadata": {},
   "source": [
    "### checking duplicates"
   ]
  },
  {
   "cell_type": "code",
   "execution_count": 4,
   "id": "ef2bd986-a157-46a1-83b8-4bef0c56e5d2",
   "metadata": {},
   "outputs": [
    {
     "data": {
      "text/plain": [
       "1348"
      ]
     },
     "execution_count": 4,
     "metadata": {},
     "output_type": "execute_result"
    }
   ],
   "source": [
    "len(df)"
   ]
  },
  {
   "cell_type": "code",
   "execution_count": 5,
   "id": "f46f8835-2357-40fe-a25f-9ef307238a00",
   "metadata": {},
   "outputs": [
    {
     "data": {
      "text/plain": [
       "1036"
      ]
     },
     "execution_count": 5,
     "metadata": {},
     "output_type": "execute_result"
    }
   ],
   "source": [
    "len(df['Job ID'].unique())"
   ]
  },
  {
   "cell_type": "code",
   "execution_count": 6,
   "id": "16f03f39-ef42-4319-a853-b6aff4dcfc74",
   "metadata": {},
   "outputs": [
    {
     "data": {
      "text/plain": [
       "312"
      ]
     },
     "execution_count": 6,
     "metadata": {},
     "output_type": "execute_result"
    }
   ],
   "source": [
    "len(df)-len(df['Job ID'].unique())"
   ]
  },
  {
   "cell_type": "code",
   "execution_count": 7,
   "id": "4d8f3b78-ccbd-4c80-b351-f31500d65605",
   "metadata": {},
   "outputs": [
    {
     "data": {
      "text/plain": [
       "Job ID\n",
       "3706050823    2\n",
       "3766026276    2\n",
       "3766605607    2\n",
       "3766609644    2\n",
       "3770550589    2\n",
       "             ..\n",
       "3766811033    1\n",
       "3767850687    1\n",
       "3767395072    1\n",
       "3759599648    1\n",
       "3767944844    1\n",
       "Name: count, Length: 1036, dtype: int64"
      ]
     },
     "execution_count": 7,
     "metadata": {},
     "output_type": "execute_result"
    }
   ],
   "source": [
    "df['Job ID'].value_counts()"
   ]
  },
  {
   "cell_type": "code",
   "execution_count": 8,
   "id": "daac1f95-161c-4c80-8771-ee3e2905fc36",
   "metadata": {},
   "outputs": [
    {
     "data": {
      "text/plain": [
       "array([2, 1], dtype=int64)"
      ]
     },
     "execution_count": 8,
     "metadata": {},
     "output_type": "execute_result"
    }
   ],
   "source": [
    "df['Job ID'].value_counts().unique()"
   ]
  },
  {
   "cell_type": "code",
   "execution_count": 9,
   "id": "12346237-4553-4608-a1a0-090c7402ba68",
   "metadata": {},
   "outputs": [
    {
     "data": {
      "text/plain": [
       "312"
      ]
     },
     "execution_count": 9,
     "metadata": {},
     "output_type": "execute_result"
    }
   ],
   "source": [
    "duplicates_count=df.duplicated(subset=['Job ID']).sum()\n",
    "duplicates_count"
   ]
  },
  {
   "cell_type": "code",
   "execution_count": 10,
   "id": "88210200-bf59-441b-b4d7-d244ae038dee",
   "metadata": {},
   "outputs": [
    {
     "data": {
      "text/html": [
       "<div>\n",
       "<style scoped>\n",
       "    .dataframe tbody tr th:only-of-type {\n",
       "        vertical-align: middle;\n",
       "    }\n",
       "\n",
       "    .dataframe tbody tr th {\n",
       "        vertical-align: top;\n",
       "    }\n",
       "\n",
       "    .dataframe thead th {\n",
       "        text-align: right;\n",
       "    }\n",
       "</style>\n",
       "<table border=\"1\" class=\"dataframe\">\n",
       "  <thead>\n",
       "    <tr style=\"text-align: right;\">\n",
       "      <th></th>\n",
       "      <th>Job Title</th>\n",
       "      <th>Job ID</th>\n",
       "      <th>Job Link</th>\n",
       "    </tr>\n",
       "  </thead>\n",
       "  <tbody>\n",
       "    <tr>\n",
       "      <th>656</th>\n",
       "      <td>Mindshare | Media Planner - Digital</td>\n",
       "      <td>3765422803</td>\n",
       "      <td>https://www.linkedin.com/jobs/view/3765422803/...</td>\n",
       "    </tr>\n",
       "    <tr>\n",
       "      <th>658</th>\n",
       "      <td>Associate PMO Analyst</td>\n",
       "      <td>3766046555</td>\n",
       "      <td>https://www.linkedin.com/jobs/view/3766046555/...</td>\n",
       "    </tr>\n",
       "    <tr>\n",
       "      <th>660</th>\n",
       "      <td>CONCEPTEUR FORMATION H/F</td>\n",
       "      <td>3730481772</td>\n",
       "      <td>https://www.linkedin.com/jobs/view/3730481772/...</td>\n",
       "    </tr>\n",
       "    <tr>\n",
       "      <th>662</th>\n",
       "      <td>Golang Engineer</td>\n",
       "      <td>3766613285</td>\n",
       "      <td>https://www.linkedin.com/jobs/view/3766613285/...</td>\n",
       "    </tr>\n",
       "    <tr>\n",
       "      <th>663</th>\n",
       "      <td>Senior Manager - Technical Accounting</td>\n",
       "      <td>3770554409</td>\n",
       "      <td>https://www.linkedin.com/jobs/view/3770554409/...</td>\n",
       "    </tr>\n",
       "    <tr>\n",
       "      <th>...</th>\n",
       "      <td>...</td>\n",
       "      <td>...</td>\n",
       "      <td>...</td>\n",
       "    </tr>\n",
       "    <tr>\n",
       "      <th>1329</th>\n",
       "      <td>Assistant Manager Talent Acquisition</td>\n",
       "      <td>3765449305</td>\n",
       "      <td>https://www.linkedin.com/jobs/view/3765449305/...</td>\n",
       "    </tr>\n",
       "    <tr>\n",
       "      <th>1330</th>\n",
       "      <td>Software Engineer</td>\n",
       "      <td>3765793064</td>\n",
       "      <td>https://www.linkedin.com/jobs/view/3765793064/...</td>\n",
       "    </tr>\n",
       "    <tr>\n",
       "      <th>1331</th>\n",
       "      <td>Web Backend Developer</td>\n",
       "      <td>3765780780</td>\n",
       "      <td>https://www.linkedin.com/jobs/view/3765780780/...</td>\n",
       "    </tr>\n",
       "    <tr>\n",
       "      <th>1333</th>\n",
       "      <td>Investment Advisor</td>\n",
       "      <td>3766397564</td>\n",
       "      <td>https://www.linkedin.com/jobs/view/3766397564/...</td>\n",
       "    </tr>\n",
       "    <tr>\n",
       "      <th>1344</th>\n",
       "      <td>NaN</td>\n",
       "      <td>3766809535</td>\n",
       "      <td>NaN</td>\n",
       "    </tr>\n",
       "  </tbody>\n",
       "</table>\n",
       "<p>312 rows × 3 columns</p>\n",
       "</div>"
      ],
      "text/plain": [
       "                                  Job Title      Job ID  \\\n",
       "656     Mindshare | Media Planner - Digital  3765422803   \n",
       "658                   Associate PMO Analyst  3766046555   \n",
       "660                CONCEPTEUR FORMATION H/F  3730481772   \n",
       "662                         Golang Engineer  3766613285   \n",
       "663   Senior Manager - Technical Accounting  3770554409   \n",
       "...                                     ...         ...   \n",
       "1329   Assistant Manager Talent Acquisition  3765449305   \n",
       "1330                      Software Engineer  3765793064   \n",
       "1331                  Web Backend Developer  3765780780   \n",
       "1333                     Investment Advisor  3766397564   \n",
       "1344                                    NaN  3766809535   \n",
       "\n",
       "                                               Job Link  \n",
       "656   https://www.linkedin.com/jobs/view/3765422803/...  \n",
       "658   https://www.linkedin.com/jobs/view/3766046555/...  \n",
       "660   https://www.linkedin.com/jobs/view/3730481772/...  \n",
       "662   https://www.linkedin.com/jobs/view/3766613285/...  \n",
       "663   https://www.linkedin.com/jobs/view/3770554409/...  \n",
       "...                                                 ...  \n",
       "1329  https://www.linkedin.com/jobs/view/3765449305/...  \n",
       "1330  https://www.linkedin.com/jobs/view/3765793064/...  \n",
       "1331  https://www.linkedin.com/jobs/view/3765780780/...  \n",
       "1333  https://www.linkedin.com/jobs/view/3766397564/...  \n",
       "1344                                                NaN  \n",
       "\n",
       "[312 rows x 3 columns]"
      ]
     },
     "execution_count": 10,
     "metadata": {},
     "output_type": "execute_result"
    }
   ],
   "source": [
    "duplicates = df['Job ID'].duplicated()\n",
    "df[duplicates]"
   ]
  },
  {
   "cell_type": "markdown",
   "id": "481a52b9-4157-4a2f-9a0e-2c4263d42097",
   "metadata": {},
   "source": [
    "### droping duplicates"
   ]
  },
  {
   "cell_type": "code",
   "execution_count": 11,
   "id": "d51f920b-1726-42e4-a918-a094f454fd8a",
   "metadata": {},
   "outputs": [],
   "source": [
    "df_no_duplicates = df.drop_duplicates(subset=['Job ID'])"
   ]
  },
  {
   "cell_type": "code",
   "execution_count": 12,
   "id": "e4b17306-c996-4580-8d4d-062fac72500a",
   "metadata": {},
   "outputs": [
    {
     "data": {
      "text/html": [
       "<div>\n",
       "<style scoped>\n",
       "    .dataframe tbody tr th:only-of-type {\n",
       "        vertical-align: middle;\n",
       "    }\n",
       "\n",
       "    .dataframe tbody tr th {\n",
       "        vertical-align: top;\n",
       "    }\n",
       "\n",
       "    .dataframe thead th {\n",
       "        text-align: right;\n",
       "    }\n",
       "</style>\n",
       "<table border=\"1\" class=\"dataframe\">\n",
       "  <thead>\n",
       "    <tr style=\"text-align: right;\">\n",
       "      <th></th>\n",
       "      <th>Job Title</th>\n",
       "      <th>Job ID</th>\n",
       "      <th>Job Link</th>\n",
       "    </tr>\n",
       "  </thead>\n",
       "  <tbody>\n",
       "    <tr>\n",
       "      <th>0</th>\n",
       "      <td>Penetration Tester</td>\n",
       "      <td>3766647620</td>\n",
       "      <td>https://www.linkedin.com/jobs/view/3766647620/...</td>\n",
       "    </tr>\n",
       "    <tr>\n",
       "      <th>1</th>\n",
       "      <td>Lead Generator / Business Development Executive</td>\n",
       "      <td>3766002179</td>\n",
       "      <td>https://www.linkedin.com/jobs/view/3766002179/...</td>\n",
       "    </tr>\n",
       "    <tr>\n",
       "      <th>2</th>\n",
       "      <td>CONCEPTEUR FORMATION H/F</td>\n",
       "      <td>3730481772</td>\n",
       "      <td>https://www.linkedin.com/jobs/view/3730481772/...</td>\n",
       "    </tr>\n",
       "    <tr>\n",
       "      <th>3</th>\n",
       "      <td>Senior Database Administrator</td>\n",
       "      <td>3749325617</td>\n",
       "      <td>https://www.linkedin.com/jobs/view/3749325617/...</td>\n",
       "    </tr>\n",
       "    <tr>\n",
       "      <th>4</th>\n",
       "      <td>Web Development Intern</td>\n",
       "      <td>3767386725</td>\n",
       "      <td>https://www.linkedin.com/jobs/view/3767386725/...</td>\n",
       "    </tr>\n",
       "    <tr>\n",
       "      <th>...</th>\n",
       "      <td>...</td>\n",
       "      <td>...</td>\n",
       "      <td>...</td>\n",
       "    </tr>\n",
       "    <tr>\n",
       "      <th>1342</th>\n",
       "      <td>NaN</td>\n",
       "      <td>3767951886</td>\n",
       "      <td>NaN</td>\n",
       "    </tr>\n",
       "    <tr>\n",
       "      <th>1343</th>\n",
       "      <td>NaN</td>\n",
       "      <td>3767355025</td>\n",
       "      <td>NaN</td>\n",
       "    </tr>\n",
       "    <tr>\n",
       "      <th>1345</th>\n",
       "      <td>Information Security Specialist</td>\n",
       "      <td>3772530977</td>\n",
       "      <td>https://www.linkedin.com/jobs/view/3772530977/...</td>\n",
       "    </tr>\n",
       "    <tr>\n",
       "      <th>1346</th>\n",
       "      <td>FUNCTIONAL CONSULTANT ORACLE FUSION - HCM</td>\n",
       "      <td>3771943212</td>\n",
       "      <td>https://www.linkedin.com/jobs/view/3771943212/...</td>\n",
       "    </tr>\n",
       "    <tr>\n",
       "      <th>1347</th>\n",
       "      <td>Community Associate</td>\n",
       "      <td>3767944844</td>\n",
       "      <td>https://www.linkedin.com/jobs/view/3767944844/...</td>\n",
       "    </tr>\n",
       "  </tbody>\n",
       "</table>\n",
       "<p>1036 rows × 3 columns</p>\n",
       "</div>"
      ],
      "text/plain": [
       "                                            Job Title      Job ID  \\\n",
       "0                                  Penetration Tester  3766647620   \n",
       "1     Lead Generator / Business Development Executive  3766002179   \n",
       "2                            CONCEPTEUR FORMATION H/F  3730481772   \n",
       "3                       Senior Database Administrator  3749325617   \n",
       "4                              Web Development Intern  3767386725   \n",
       "...                                               ...         ...   \n",
       "1342                                              NaN  3767951886   \n",
       "1343                                              NaN  3767355025   \n",
       "1345                  Information Security Specialist  3772530977   \n",
       "1346        FUNCTIONAL CONSULTANT ORACLE FUSION - HCM  3771943212   \n",
       "1347                              Community Associate  3767944844   \n",
       "\n",
       "                                               Job Link  \n",
       "0     https://www.linkedin.com/jobs/view/3766647620/...  \n",
       "1     https://www.linkedin.com/jobs/view/3766002179/...  \n",
       "2     https://www.linkedin.com/jobs/view/3730481772/...  \n",
       "3     https://www.linkedin.com/jobs/view/3749325617/...  \n",
       "4     https://www.linkedin.com/jobs/view/3767386725/...  \n",
       "...                                                 ...  \n",
       "1342                                                NaN  \n",
       "1343                                                NaN  \n",
       "1345  https://www.linkedin.com/jobs/view/3772530977/...  \n",
       "1346  https://www.linkedin.com/jobs/view/3771943212/...  \n",
       "1347  https://www.linkedin.com/jobs/view/3767944844/...  \n",
       "\n",
       "[1036 rows x 3 columns]"
      ]
     },
     "execution_count": 12,
     "metadata": {},
     "output_type": "execute_result"
    }
   ],
   "source": [
    "df_no_duplicates"
   ]
  },
  {
   "cell_type": "code",
   "execution_count": 13,
   "id": "27ee92a6-fbee-40fc-88c9-bcc58836b62b",
   "metadata": {},
   "outputs": [
    {
     "data": {
      "text/plain": [
       "1036"
      ]
     },
     "execution_count": 13,
     "metadata": {},
     "output_type": "execute_result"
    }
   ],
   "source": [
    "len(df_no_duplicates)"
   ]
  },
  {
   "cell_type": "code",
   "execution_count": 14,
   "id": "f0f684e7-089a-41c8-80bc-03eac7314c89",
   "metadata": {},
   "outputs": [
    {
     "data": {
      "text/plain": [
       "1036"
      ]
     },
     "execution_count": 14,
     "metadata": {},
     "output_type": "execute_result"
    }
   ],
   "source": [
    "len(df)-duplicates_count"
   ]
  },
  {
   "cell_type": "markdown",
   "id": "eaf6cc95-fa64-4a00-946a-27e1e44f6eef",
   "metadata": {},
   "source": [
    "### Building modified path"
   ]
  },
  {
   "cell_type": "code",
   "execution_count": 15,
   "id": "070eb2f0-360d-4cdb-91c0-2e6e3ddbb5ad",
   "metadata": {},
   "outputs": [
    {
     "data": {
      "text/plain": [
       "'Weekly Files Not Duplicated/Linkedin_Job_Links_21-Nov-2023-to-27-Nov-2023_1036-jobs_57-pages.csv'"
      ]
     },
     "execution_count": 15,
     "metadata": {},
     "output_type": "execute_result"
    }
   ],
   "source": [
    "pre_link=path.split('/')[-1].split(path.split('/')[-1].split('_')[4].strip('-jobs'))[0]\n",
    "post_link=path.split('/')[-1].split(path.split('/')[-1].split('_')[4].strip('-jobs'))[1]\n",
    "Not_duplicated_folder_path='Weekly Files Not Duplicated/'+pre_link+str(len(df_no_duplicates))+post_link\n",
    "Not_duplicated_folder_path"
   ]
  },
  {
   "cell_type": "markdown",
   "id": "a63e807c-0e67-483b-bf15-6470d1205464",
   "metadata": {},
   "source": [
    "### saving file"
   ]
  },
  {
   "cell_type": "code",
   "execution_count": 16,
   "id": "03ff8ebf-0460-402c-851a-ce1bb2d293c4",
   "metadata": {},
   "outputs": [],
   "source": [
    "if df.duplicated(subset=['Job ID']).sum()>0:\n",
    "    df_no_duplicates.to_csv(Not_duplicated_folder_path,index=False)\n",
    "else:\n",
    "    df.to_csv(Not_duplicated_folder_path,index=False)    "
   ]
  },
  {
   "cell_type": "code",
   "execution_count": null,
   "id": "e30630bb-adc4-4f24-9d5e-b989dfc1c765",
   "metadata": {},
   "outputs": [],
   "source": []
  }
 ],
 "metadata": {
  "kernelspec": {
   "display_name": "Python 3 (ipykernel)",
   "language": "python",
   "name": "python3"
  },
  "language_info": {
   "codemirror_mode": {
    "name": "ipython",
    "version": 3
   },
   "file_extension": ".py",
   "mimetype": "text/x-python",
   "name": "python",
   "nbconvert_exporter": "python",
   "pygments_lexer": "ipython3",
   "version": "3.11.4"
  }
 },
 "nbformat": 4,
 "nbformat_minor": 5
}
