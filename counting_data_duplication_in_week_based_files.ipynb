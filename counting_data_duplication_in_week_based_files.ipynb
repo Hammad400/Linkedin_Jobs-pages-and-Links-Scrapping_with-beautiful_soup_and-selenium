{
 "cells": [
  {
   "cell_type": "code",
   "execution_count": 1,
   "id": "8a6b7e5f-df39-41aa-88ac-fda7cb2ff956",
   "metadata": {},
   "outputs": [],
   "source": [
    "import os\n",
    "import pandas as pd"
   ]
  },
  {
   "cell_type": "code",
   "execution_count": 2,
   "id": "25cdc66d-04cd-4865-9efc-b623fee567c7",
   "metadata": {},
   "outputs": [
    {
     "data": {
      "text/plain": [
       "'Weekly Files Concatenated from Daily Files'"
      ]
     },
     "execution_count": 2,
     "metadata": {},
     "output_type": "execute_result"
    }
   ],
   "source": [
    "path_to_duplicated_folder='Weekly Files Concatenated from Daily Files'\n",
    "path_to_duplicated_folder"
   ]
  },
  {
   "cell_type": "code",
   "execution_count": 3,
   "id": "16c15909-6a5b-4e60-aac2-ebf3b9e80c93",
   "metadata": {},
   "outputs": [
    {
     "data": {
      "text/plain": [
       "'Weekly Files Not Duplicated'"
      ]
     },
     "execution_count": 3,
     "metadata": {},
     "output_type": "execute_result"
    }
   ],
   "source": [
    "path_to_not_duplicated_folder='Weekly Files Not Duplicated'\n",
    "path_to_not_duplicated_folder"
   ]
  },
  {
   "cell_type": "code",
   "execution_count": 4,
   "id": "2e073d98-9115-4a62-8dfc-1f2c947fa321",
   "metadata": {},
   "outputs": [
    {
     "data": {
      "text/plain": [
       "['Linkedin_Job_Links_03-Oct-2023-to-09-Oct-2023_2098-jobs_89-pages.csv',\n",
       " 'Linkedin_Job_Links_07-Nov-2023-to-13-Nov-2023_754-jobs_32-pages.csv',\n",
       " 'Linkedin_Job_Links_10-Oct-2023-to-16-Oct-2023_2137-jobs_93-pages.csv',\n",
       " 'Linkedin_Job_Links_14-Nov-2023-to-20-Nov-2023_1693-jobs_70-pages.csv',\n",
       " 'Linkedin_Job_Links_17-Oct-2023-to-23-0ct-2023_2154-jobs_97-pages.csv',\n",
       " 'Linkedin_Job_Links_21-Nov-2023-to-27-Nov-2023_1348-jobs_57-pages.csv',\n",
       " 'Linkedin_Job_Links_24-Oct-2023-to-30-0ct-2023_1945-jobs_83-pages.csv',\n",
       " 'Linkedin_Job_Links_26-Sep-2023-to-02-Oct-2023_2116-jobs_92-pages.csv',\n",
       " 'Linkedin_Job_Links_31-Oct-2023-to-06-Nov-2023_1700-jobs_72-pages.csv']"
      ]
     },
     "execution_count": 4,
     "metadata": {},
     "output_type": "execute_result"
    }
   ],
   "source": [
    "dir_list1 = os.listdir(path_to_duplicated_folder)\n",
    "dir_list1"
   ]
  },
  {
   "cell_type": "code",
   "execution_count": 5,
   "id": "6caa8a94-8007-4119-8254-be113799e7ce",
   "metadata": {},
   "outputs": [
    {
     "data": {
      "text/plain": [
       "['Linkedin_Job_Links_03-Oct-2023-to-09-Oct-2023_1875-jobs_89-pages.csv',\n",
       " 'Linkedin_Job_Links_07-Nov-2023-to-13-Nov-2023_754-jobs_32-pages.csv',\n",
       " 'Linkedin_Job_Links_10-Oct-2023-to-16-Oct-2023_1928-jobs_93-pages.csv',\n",
       " 'Linkedin_Job_Links_14-Nov-2023-to-20-Nov-2023_1560-jobs_70-pages.csv',\n",
       " 'Linkedin_Job_Links_17-Oct-2023-to-23-0ct-2023_1844-jobs_97-pages.csv',\n",
       " 'Linkedin_Job_Links_21-Nov-2023-to-27-Nov-2023_1036-jobs_57-pages.csv',\n",
       " 'Linkedin_Job_Links_24-Oct-2023-to-30-0ct-2023_1824-jobs_83-pages.csv',\n",
       " 'Linkedin_Job_Links_26-Sep-2023-to-02-Oct-2023_1912-jobs_92-pages.csv',\n",
       " 'Linkedin_Job_Links_31-Oct-2023-to-06-Nov-2023_1561-jobs_72-pages.csv']"
      ]
     },
     "execution_count": 5,
     "metadata": {},
     "output_type": "execute_result"
    }
   ],
   "source": [
    "dir_list2 = os.listdir(path_to_not_duplicated_folder)\n",
    "dir_list2"
   ]
  },
  {
   "cell_type": "code",
   "execution_count": 6,
   "id": "78129f14-1f05-49a7-80ae-cd15cfa14385",
   "metadata": {},
   "outputs": [],
   "source": [
    "total_jobs_links_duplicated=0\n",
    "for file in dir_list1:\n",
    "    n_jobs=int(file.split('_')[4].strip('-jobs'))\n",
    "    total_jobs_links_duplicated=total_jobs_links_duplicated+n_jobs"
   ]
  },
  {
   "cell_type": "code",
   "execution_count": 7,
   "id": "3fa3dbc8-362d-4e2e-aab5-ee577a9047ea",
   "metadata": {},
   "outputs": [
    {
     "data": {
      "text/plain": [
       "15945"
      ]
     },
     "execution_count": 7,
     "metadata": {},
     "output_type": "execute_result"
    }
   ],
   "source": [
    "total_jobs_links_duplicated"
   ]
  },
  {
   "cell_type": "code",
   "execution_count": 8,
   "id": "0c79f5c4-48f2-4490-88f6-1a02b824fe70",
   "metadata": {},
   "outputs": [],
   "source": [
    "total_jobs_links_Not_duplicated=0\n",
    "for file in dir_list2:\n",
    "    n_jobs=int(file.split('_')[4].strip('-jobs'))\n",
    "    total_jobs_links_Not_duplicated=total_jobs_links_Not_duplicated+n_jobs"
   ]
  },
  {
   "cell_type": "code",
   "execution_count": 9,
   "id": "09edd52e-f4a8-4349-b749-c055ed617780",
   "metadata": {},
   "outputs": [
    {
     "data": {
      "text/plain": [
       "14294"
      ]
     },
     "execution_count": 9,
     "metadata": {},
     "output_type": "execute_result"
    }
   ],
   "source": [
    "total_jobs_links_Not_duplicated"
   ]
  },
  {
   "cell_type": "code",
   "execution_count": 10,
   "id": "d101f96f-3eb6-40e9-af78-889a77f8dcda",
   "metadata": {},
   "outputs": [
    {
     "data": {
      "text/plain": [
       "1651"
      ]
     },
     "execution_count": 10,
     "metadata": {},
     "output_type": "execute_result"
    }
   ],
   "source": [
    "number_of_duplicates=total_jobs_links_duplicated-total_jobs_links_Not_duplicated\n",
    "number_of_duplicates"
   ]
  },
  {
   "cell_type": "code",
   "execution_count": null,
   "id": "e1a0d5d8-c815-490f-8107-301e110f46f4",
   "metadata": {},
   "outputs": [],
   "source": [
    "# 12904 job links for till week 7"
   ]
  }
 ],
 "metadata": {
  "kernelspec": {
   "display_name": "Python 3 (ipykernel)",
   "language": "python",
   "name": "python3"
  },
  "language_info": {
   "codemirror_mode": {
    "name": "ipython",
    "version": 3
   },
   "file_extension": ".py",
   "mimetype": "text/x-python",
   "name": "python",
   "nbconvert_exporter": "python",
   "pygments_lexer": "ipython3",
   "version": "3.11.4"
  }
 },
 "nbformat": 4,
 "nbformat_minor": 5
}
