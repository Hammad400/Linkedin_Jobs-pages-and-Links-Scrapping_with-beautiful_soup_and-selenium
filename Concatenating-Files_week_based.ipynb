{
 "cells": [
  {
   "cell_type": "code",
   "execution_count": 1,
   "id": "f9c44706-1bdb-4d5b-b70d-78e27bb9b552",
   "metadata": {},
   "outputs": [],
   "source": [
    "import os\n",
    "import pandas as pd\n",
    "from datetime import datetime"
   ]
  },
  {
   "cell_type": "code",
   "execution_count": 2,
   "id": "868caaa8-4508-42b0-a5d8-98f4675ec616",
   "metadata": {},
   "outputs": [],
   "source": [
    "path=\"Daily Files Not Duplicated/9th week 21 Nov -27 Nov\""
   ]
  },
  {
   "cell_type": "code",
   "execution_count": 3,
   "id": "edd2f6b4-005a-41b8-abbe-8ba4f399692a",
   "metadata": {},
   "outputs": [
    {
     "data": {
      "text/plain": [
       "['Linkedin_Job_Links_23-Nov-2023_649-jobs_28-pages.csv',\n",
       " 'Linkedin_Job_Links_26-Nov-2023_699-jobs_29-pages.csv']"
      ]
     },
     "execution_count": 3,
     "metadata": {},
     "output_type": "execute_result"
    }
   ],
   "source": [
    "dir_list = os.listdir(path)\n",
    "dir_list"
   ]
  },
  {
   "cell_type": "code",
   "execution_count": 4,
   "id": "13f77b33-95be-425d-93a9-3e8e8f5331f7",
   "metadata": {},
   "outputs": [
    {
     "data": {
      "text/plain": [
       "2"
      ]
     },
     "execution_count": 4,
     "metadata": {},
     "output_type": "execute_result"
    }
   ],
   "source": [
    "len(dir_list)"
   ]
  },
  {
   "cell_type": "code",
   "execution_count": 5,
   "id": "64eea290-0602-4eb1-abc0-50baa18c3608",
   "metadata": {},
   "outputs": [
    {
     "data": {
      "text/plain": [
       "['Linkedin_Job_Links_23-Nov-2023_649-jobs_28-pages.csv',\n",
       " 'Linkedin_Job_Links_26-Nov-2023_699-jobs_29-pages.csv']"
      ]
     },
     "execution_count": 5,
     "metadata": {},
     "output_type": "execute_result"
    }
   ],
   "source": [
    "dates=[file.split('_')[3] for file in dir_list]\n",
    "dates.sort(key=lambda date: datetime.strptime(date, \"%d-%b-%Y\"))\n",
    "file_names=[]\n",
    "for date in dates:\n",
    "    for file in dir_list:\n",
    "        if file.split('_')[3]==date:\n",
    "            file_names.append(file)\n",
    "file_names    "
   ]
  },
  {
   "cell_type": "code",
   "execution_count": 6,
   "id": "68769be6-78cd-4e62-a70b-a4b70a8bc5c5",
   "metadata": {},
   "outputs": [],
   "source": [
    "df_concat=None\n",
    "for file in file_names:\n",
    "    df=pd.read_csv(path+'/'+file)\n",
    "    df_concat=pd.concat([df_concat,df],ignore_index=True)    "
   ]
  },
  {
   "cell_type": "code",
   "execution_count": 7,
   "id": "68e7c70d-4b04-4985-ac76-7c1b370a2972",
   "metadata": {},
   "outputs": [
    {
     "data": {
      "text/html": [
       "<div>\n",
       "<style scoped>\n",
       "    .dataframe tbody tr th:only-of-type {\n",
       "        vertical-align: middle;\n",
       "    }\n",
       "\n",
       "    .dataframe tbody tr th {\n",
       "        vertical-align: top;\n",
       "    }\n",
       "\n",
       "    .dataframe thead th {\n",
       "        text-align: right;\n",
       "    }\n",
       "</style>\n",
       "<table border=\"1\" class=\"dataframe\">\n",
       "  <thead>\n",
       "    <tr style=\"text-align: right;\">\n",
       "      <th></th>\n",
       "      <th>Job Title</th>\n",
       "      <th>Job ID</th>\n",
       "      <th>Job Link</th>\n",
       "    </tr>\n",
       "  </thead>\n",
       "  <tbody>\n",
       "    <tr>\n",
       "      <th>0</th>\n",
       "      <td>Penetration Tester</td>\n",
       "      <td>3766647620</td>\n",
       "      <td>https://www.linkedin.com/jobs/view/3766647620/...</td>\n",
       "    </tr>\n",
       "    <tr>\n",
       "      <th>1</th>\n",
       "      <td>Lead Generator / Business Development Executive</td>\n",
       "      <td>3766002179</td>\n",
       "      <td>https://www.linkedin.com/jobs/view/3766002179/...</td>\n",
       "    </tr>\n",
       "    <tr>\n",
       "      <th>2</th>\n",
       "      <td>CONCEPTEUR FORMATION H/F</td>\n",
       "      <td>3730481772</td>\n",
       "      <td>https://www.linkedin.com/jobs/view/3730481772/...</td>\n",
       "    </tr>\n",
       "    <tr>\n",
       "      <th>3</th>\n",
       "      <td>Senior Database Administrator</td>\n",
       "      <td>3749325617</td>\n",
       "      <td>https://www.linkedin.com/jobs/view/3749325617/...</td>\n",
       "    </tr>\n",
       "    <tr>\n",
       "      <th>4</th>\n",
       "      <td>Web Development Intern</td>\n",
       "      <td>3767386725</td>\n",
       "      <td>https://www.linkedin.com/jobs/view/3767386725/...</td>\n",
       "    </tr>\n",
       "    <tr>\n",
       "      <th>...</th>\n",
       "      <td>...</td>\n",
       "      <td>...</td>\n",
       "      <td>...</td>\n",
       "    </tr>\n",
       "    <tr>\n",
       "      <th>1343</th>\n",
       "      <td>NaN</td>\n",
       "      <td>3767355025</td>\n",
       "      <td>NaN</td>\n",
       "    </tr>\n",
       "    <tr>\n",
       "      <th>1344</th>\n",
       "      <td>NaN</td>\n",
       "      <td>3766809535</td>\n",
       "      <td>NaN</td>\n",
       "    </tr>\n",
       "    <tr>\n",
       "      <th>1345</th>\n",
       "      <td>Information Security Specialist</td>\n",
       "      <td>3772530977</td>\n",
       "      <td>https://www.linkedin.com/jobs/view/3772530977/...</td>\n",
       "    </tr>\n",
       "    <tr>\n",
       "      <th>1346</th>\n",
       "      <td>FUNCTIONAL CONSULTANT ORACLE FUSION - HCM</td>\n",
       "      <td>3771943212</td>\n",
       "      <td>https://www.linkedin.com/jobs/view/3771943212/...</td>\n",
       "    </tr>\n",
       "    <tr>\n",
       "      <th>1347</th>\n",
       "      <td>Community Associate</td>\n",
       "      <td>3767944844</td>\n",
       "      <td>https://www.linkedin.com/jobs/view/3767944844/...</td>\n",
       "    </tr>\n",
       "  </tbody>\n",
       "</table>\n",
       "<p>1348 rows × 3 columns</p>\n",
       "</div>"
      ],
      "text/plain": [
       "                                            Job Title      Job ID  \\\n",
       "0                                  Penetration Tester  3766647620   \n",
       "1     Lead Generator / Business Development Executive  3766002179   \n",
       "2                            CONCEPTEUR FORMATION H/F  3730481772   \n",
       "3                       Senior Database Administrator  3749325617   \n",
       "4                              Web Development Intern  3767386725   \n",
       "...                                               ...         ...   \n",
       "1343                                              NaN  3767355025   \n",
       "1344                                              NaN  3766809535   \n",
       "1345                  Information Security Specialist  3772530977   \n",
       "1346        FUNCTIONAL CONSULTANT ORACLE FUSION - HCM  3771943212   \n",
       "1347                              Community Associate  3767944844   \n",
       "\n",
       "                                               Job Link  \n",
       "0     https://www.linkedin.com/jobs/view/3766647620/...  \n",
       "1     https://www.linkedin.com/jobs/view/3766002179/...  \n",
       "2     https://www.linkedin.com/jobs/view/3730481772/...  \n",
       "3     https://www.linkedin.com/jobs/view/3749325617/...  \n",
       "4     https://www.linkedin.com/jobs/view/3767386725/...  \n",
       "...                                                 ...  \n",
       "1343                                                NaN  \n",
       "1344                                                NaN  \n",
       "1345  https://www.linkedin.com/jobs/view/3772530977/...  \n",
       "1346  https://www.linkedin.com/jobs/view/3771943212/...  \n",
       "1347  https://www.linkedin.com/jobs/view/3767944844/...  \n",
       "\n",
       "[1348 rows x 3 columns]"
      ]
     },
     "execution_count": 7,
     "metadata": {},
     "output_type": "execute_result"
    }
   ],
   "source": [
    "df_concat"
   ]
  },
  {
   "cell_type": "code",
   "execution_count": 8,
   "id": "c440ff55-8320-491d-94a2-1da1ebcb9cef",
   "metadata": {},
   "outputs": [
    {
     "data": {
      "text/plain": [
       "57"
      ]
     },
     "execution_count": 8,
     "metadata": {},
     "output_type": "execute_result"
    }
   ],
   "source": [
    "total_pages=0\n",
    "for file in file_names:\n",
    "    total_pages=total_pages+int(file.split('_')[5].strip('-pages.csv'))\n",
    "total_pages"
   ]
  },
  {
   "cell_type": "code",
   "execution_count": 9,
   "id": "9abed29f-641a-4e06-955a-653d66bf797d",
   "metadata": {},
   "outputs": [
    {
     "data": {
      "text/plain": [
       "1348"
      ]
     },
     "execution_count": 9,
     "metadata": {},
     "output_type": "execute_result"
    }
   ],
   "source": [
    "total_records=0\n",
    "for file in file_names:\n",
    "    total_records=total_records+int(file.split('_')[4].strip('-jobs'))\n",
    "total_records"
   ]
  },
  {
   "cell_type": "code",
   "execution_count": 10,
   "id": "981d25ae-2bae-46d7-8f83-437835bb35c4",
   "metadata": {},
   "outputs": [
    {
     "data": {
      "text/plain": [
       "1348"
      ]
     },
     "execution_count": 10,
     "metadata": {},
     "output_type": "execute_result"
    }
   ],
   "source": [
    "len(df_concat)"
   ]
  },
  {
   "cell_type": "code",
   "execution_count": 11,
   "id": "4dfdc697-f2b0-4df9-ac6a-42cbcae86993",
   "metadata": {},
   "outputs": [
    {
     "data": {
      "text/plain": [
       "'Weekly Files Concatenated from Daily Files/'"
      ]
     },
     "execution_count": 11,
     "metadata": {},
     "output_type": "execute_result"
    }
   ],
   "source": [
    "folder_path='Weekly Files Concatenated from Daily Files/'\n",
    "folder_path"
   ]
  },
  {
   "cell_type": "code",
   "execution_count": 12,
   "id": "5f0c40fc-42c8-4a14-8311-28b814b954d2",
   "metadata": {},
   "outputs": [
    {
     "data": {
      "text/plain": [
       "['21', 'Nov', '-27', 'Nov']"
      ]
     },
     "execution_count": 12,
     "metadata": {},
     "output_type": "execute_result"
    }
   ],
   "source": [
    "path.split('/')[1].split('week ')[1].split()"
   ]
  },
  {
   "cell_type": "code",
   "execution_count": 13,
   "id": "64171312-9067-4f6a-ba48-72ea2caab198",
   "metadata": {},
   "outputs": [
    {
     "data": {
      "text/plain": [
       "'21-Nov-2023-to-27-Nov-2023'"
      ]
     },
     "execution_count": 13,
     "metadata": {},
     "output_type": "execute_result"
    }
   ],
   "source": [
    "week=path.split('/')[1].split('week ')[1].split()[0]+'-'+path.split('/')[1].split('week ')[1].split()[1]+'-2023-to'+path.split('/')[1].split('week ')[1].split()[2]+'-'+path.split('/')[1].split('week ')[1].split()[3]+'-2023'\n",
    "# week='17-Oct-2023-to-23-Oct-2023'\n",
    "week"
   ]
  },
  {
   "cell_type": "code",
   "execution_count": 14,
   "id": "fc2f7c34-f6f2-477b-8a09-f2f77e32759b",
   "metadata": {},
   "outputs": [],
   "source": [
    "df_concat.to_csv(folder_path+f'Linkedin_Job_Links_{week}_{len(df_concat)}-jobs_{total_pages}-pages.csv',index=False)"
   ]
  },
  {
   "cell_type": "code",
   "execution_count": null,
   "id": "0112242c-5907-4e26-8915-40d9b1014303",
   "metadata": {},
   "outputs": [],
   "source": []
  }
 ],
 "metadata": {
  "kernelspec": {
   "display_name": "Python 3 (ipykernel)",
   "language": "python",
   "name": "python3"
  },
  "language_info": {
   "codemirror_mode": {
    "name": "ipython",
    "version": 3
   },
   "file_extension": ".py",
   "mimetype": "text/x-python",
   "name": "python",
   "nbconvert_exporter": "python",
   "pygments_lexer": "ipython3",
   "version": "3.11.4"
  }
 },
 "nbformat": 4,
 "nbformat_minor": 5
}
