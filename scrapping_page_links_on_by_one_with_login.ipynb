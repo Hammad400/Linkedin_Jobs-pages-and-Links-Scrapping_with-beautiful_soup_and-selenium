{
 "cells": [
  {
   "cell_type": "code",
   "execution_count": 1,
   "id": "1355a105-6176-44e7-b35b-6e6ae4e1fff3",
   "metadata": {},
   "outputs": [],
   "source": [
    "from selenium import webdriver\n",
    "from selenium.webdriver.common.keys import Keys\n",
    "from selenium.webdriver.common.by import By\n",
    "import pandas as pd\n",
    "from bs4 import BeautifulSoup\n",
    "import time"
   ]
  },
  {
   "cell_type": "code",
   "execution_count": 2,
   "id": "3bfbdffd-cd8c-43eb-8672-53d77cf58da1",
   "metadata": {},
   "outputs": [],
   "source": [
    "driver = webdriver.Chrome()"
   ]
  },
  {
   "cell_type": "code",
   "execution_count": 6,
   "id": "bd15f4b2-134d-4c71-8e8b-246dded043fa",
   "metadata": {},
   "outputs": [],
   "source": [
    "# url='https://www.linkedin.com/jobs/search/?currentJobId=3727054368&distance=25&f_TPR=r86400&geoId=101022442&keywords=pakistan&origin=JOB_SEARCH_PAGE_JOB_FILTER&refresh=true&sortBy=R'"
   ]
  },
  {
   "cell_type": "code",
   "execution_count": 3,
   "id": "2b5b5a87-6e16-4475-b93a-b158072c1abf",
   "metadata": {},
   "outputs": [],
   "source": [
    "url='https://www.linkedin.com/jobs/search/?currentJobId=3727535445&distance=25&f_TPR=r604800&geoId=101022442&keywords=pakistan&origin=JOB_SEARCH_PAGE_JOB_FILTER'"
   ]
  },
  {
   "cell_type": "code",
   "execution_count": 4,
   "id": "58acc4cf-3b71-48e9-88cc-99d9e957c827",
   "metadata": {},
   "outputs": [],
   "source": [
    "driver.get(url)"
   ]
  },
  {
   "cell_type": "code",
   "execution_count": 194,
   "id": "460467fd-8f7f-4863-a01f-663c4daf422b",
   "metadata": {},
   "outputs": [],
   "source": [
    "soup = BeautifulSoup(driver.page_source, 'html.parser')"
   ]
  },
  {
   "cell_type": "code",
   "execution_count": 195,
   "id": "8d173c12-8a77-4570-91af-e5d4bee8425b",
   "metadata": {},
   "outputs": [],
   "source": [
    "job_postings = soup.find_all('li', {'class': 'jobs-search-results__list-item'})"
   ]
  },
  {
   "cell_type": "code",
   "execution_count": 196,
   "id": "b1c64ba6-689c-452f-bebe-7dc745205b4c",
   "metadata": {},
   "outputs": [
    {
     "data": {
      "text/plain": [
       "13"
      ]
     },
     "execution_count": 196,
     "metadata": {},
     "output_type": "execute_result"
    }
   ],
   "source": [
    "len(job_postings)"
   ]
  },
  {
   "cell_type": "code",
   "execution_count": 197,
   "id": "e7b6bc7f-3aad-4d38-a87b-b5c830dc3b75",
   "metadata": {},
   "outputs": [],
   "source": [
    "with open('html_content_27sep_page18_13_jobs.txt', 'w',encoding='utf-8') as f:\n",
    "    f.write(soup.prettify())"
   ]
  },
  {
   "cell_type": "code",
   "execution_count": 198,
   "id": "fc2c7118-9b53-4867-aa8f-3a8d144b41b1",
   "metadata": {},
   "outputs": [],
   "source": [
    "data = []\n",
    "for job_posting in job_postings:\n",
    "    try:\n",
    "        job_title = job_posting.find('a', class_='job-card-list__title').get_text().strip()\n",
    "    except AttributeError:\n",
    "        job_title = None\n",
    "    try:\n",
    "        job_id = job_posting.get(\"data-occludable-job-id\")\n",
    "    except AttributeError:\n",
    "        job_id = None\n",
    "        \n",
    "    try:\n",
    "        Job_link = job_posting.find('a', class_='job-card-list__title').get(\"href\")\n",
    "        Job_link= 'https://www.linkedin.com'+Job_link\n",
    "    except AttributeError:\n",
    "        location = None\n",
    "\n",
    "    data.append({\n",
    "        'Job Title': job_title,\n",
    "        'Job ID':job_id\n",
    "        'Job Link':Job_link\n",
    "    })"
   ]
  },
  {
   "cell_type": "code",
   "execution_count": 199,
   "id": "8bbc1b80-4919-4bb3-96d3-918ea5cb4473",
   "metadata": {},
   "outputs": [],
   "source": [
    "df = pd.DataFrame(data)\n",
    "# df.to_csv(f'linkedin_jobs_1p_23_sep.csv', index=False)"
   ]
  },
  {
   "cell_type": "code",
   "execution_count": 200,
   "id": "4a44e992-0ca0-4536-ad82-e14944d59a69",
   "metadata": {},
   "outputs": [
    {
     "data": {
      "text/html": [
       "<div>\n",
       "<style scoped>\n",
       "    .dataframe tbody tr th:only-of-type {\n",
       "        vertical-align: middle;\n",
       "    }\n",
       "\n",
       "    .dataframe tbody tr th {\n",
       "        vertical-align: top;\n",
       "    }\n",
       "\n",
       "    .dataframe thead th {\n",
       "        text-align: right;\n",
       "    }\n",
       "</style>\n",
       "<table border=\"1\" class=\"dataframe\">\n",
       "  <thead>\n",
       "    <tr style=\"text-align: right;\">\n",
       "      <th></th>\n",
       "      <th>Job Title</th>\n",
       "      <th>Job Link</th>\n",
       "    </tr>\n",
       "  </thead>\n",
       "  <tbody>\n",
       "    <tr>\n",
       "      <th>0</th>\n",
       "      <td>Senior Graphic designer - Onsite</td>\n",
       "      <td>https://www.linkedin.com/jobs/view/3727562742/...</td>\n",
       "    </tr>\n",
       "    <tr>\n",
       "      <th>1</th>\n",
       "      <td>Senior Dotnet Developer</td>\n",
       "      <td>https://www.linkedin.com/jobs/view/3727380714/...</td>\n",
       "    </tr>\n",
       "    <tr>\n",
       "      <th>2</th>\n",
       "      <td>Senior PHP Developer</td>\n",
       "      <td>https://www.linkedin.com/jobs/view/3727519961/...</td>\n",
       "    </tr>\n",
       "    <tr>\n",
       "      <th>3</th>\n",
       "      <td>iOS Developer, gt.school (Remote) - $100,000/y...</td>\n",
       "      <td>https://www.linkedin.com/jobs/view/3727370543/...</td>\n",
       "    </tr>\n",
       "    <tr>\n",
       "      <th>4</th>\n",
       "      <td>Senior Manager Medical Affairs</td>\n",
       "      <td>https://www.linkedin.com/jobs/view/3728794355/...</td>\n",
       "    </tr>\n",
       "    <tr>\n",
       "      <th>5</th>\n",
       "      <td>iOS Developer, gt.school (Remote) - $100,000/y...</td>\n",
       "      <td>https://www.linkedin.com/jobs/view/3727369745/...</td>\n",
       "    </tr>\n",
       "    <tr>\n",
       "      <th>6</th>\n",
       "      <td>Wordpress/PHP Developer With React.js</td>\n",
       "      <td>https://www.linkedin.com/jobs/view/3727518636/...</td>\n",
       "    </tr>\n",
       "    <tr>\n",
       "      <th>7</th>\n",
       "      <td>Senior Mobile Engineer</td>\n",
       "      <td>https://www.linkedin.com/jobs/view/3726341069/...</td>\n",
       "    </tr>\n",
       "    <tr>\n",
       "      <th>8</th>\n",
       "      <td>Senior Dotnet Developer</td>\n",
       "      <td>https://www.linkedin.com/jobs/view/3727398144/...</td>\n",
       "    </tr>\n",
       "    <tr>\n",
       "      <th>9</th>\n",
       "      <td>Senior MEAN/MERN Developer</td>\n",
       "      <td>https://www.linkedin.com/jobs/view/3727507538/...</td>\n",
       "    </tr>\n",
       "    <tr>\n",
       "      <th>10</th>\n",
       "      <td>Senior 3D Artist</td>\n",
       "      <td>https://www.linkedin.com/jobs/view/3727502311/...</td>\n",
       "    </tr>\n",
       "    <tr>\n",
       "      <th>11</th>\n",
       "      <td>Cardiac Catheterization Laboratory Technologist</td>\n",
       "      <td>https://www.linkedin.com/jobs/view/3727372921/...</td>\n",
       "    </tr>\n",
       "    <tr>\n",
       "      <th>12</th>\n",
       "      <td>Sr. Storyboard Artist</td>\n",
       "      <td>https://www.linkedin.com/jobs/view/3727544393/...</td>\n",
       "    </tr>\n",
       "  </tbody>\n",
       "</table>\n",
       "</div>"
      ],
      "text/plain": [
       "                                            Job Title  \\\n",
       "0                    Senior Graphic designer - Onsite   \n",
       "1                             Senior Dotnet Developer   \n",
       "2                                Senior PHP Developer   \n",
       "3   iOS Developer, gt.school (Remote) - $100,000/y...   \n",
       "4                      Senior Manager Medical Affairs   \n",
       "5   iOS Developer, gt.school (Remote) - $100,000/y...   \n",
       "6               Wordpress/PHP Developer With React.js   \n",
       "7                              Senior Mobile Engineer   \n",
       "8                             Senior Dotnet Developer   \n",
       "9                          Senior MEAN/MERN Developer   \n",
       "10                                   Senior 3D Artist   \n",
       "11    Cardiac Catheterization Laboratory Technologist   \n",
       "12                              Sr. Storyboard Artist   \n",
       "\n",
       "                                             Job Link  \n",
       "0   https://www.linkedin.com/jobs/view/3727562742/...  \n",
       "1   https://www.linkedin.com/jobs/view/3727380714/...  \n",
       "2   https://www.linkedin.com/jobs/view/3727519961/...  \n",
       "3   https://www.linkedin.com/jobs/view/3727370543/...  \n",
       "4   https://www.linkedin.com/jobs/view/3728794355/...  \n",
       "5   https://www.linkedin.com/jobs/view/3727369745/...  \n",
       "6   https://www.linkedin.com/jobs/view/3727518636/...  \n",
       "7   https://www.linkedin.com/jobs/view/3726341069/...  \n",
       "8   https://www.linkedin.com/jobs/view/3727398144/...  \n",
       "9   https://www.linkedin.com/jobs/view/3727507538/...  \n",
       "10  https://www.linkedin.com/jobs/view/3727502311/...  \n",
       "11  https://www.linkedin.com/jobs/view/3727372921/...  \n",
       "12  https://www.linkedin.com/jobs/view/3727544393/...  "
      ]
     },
     "execution_count": 200,
     "metadata": {},
     "output_type": "execute_result"
    }
   ],
   "source": [
    "df"
   ]
  },
  {
   "cell_type": "code",
   "execution_count": 16,
   "id": "cb92fe18-da6e-4ba8-a477-054682f14e19",
   "metadata": {},
   "outputs": [],
   "source": [
    "# df.iloc[24]['Job Link']"
   ]
  },
  {
   "cell_type": "code",
   "execution_count": 201,
   "id": "909f47dd-b7de-4b82-b3f3-ddea8ab9a36f",
   "metadata": {},
   "outputs": [],
   "source": [
    "df.to_csv('linkedin_jobs_page18_27_sep_13.csv', index=False)"
   ]
  },
  {
   "cell_type": "code",
   "execution_count": 193,
   "id": "506b2cbc-dcf5-4587-8b1f-7e26800784fd",
   "metadata": {},
   "outputs": [],
   "source": [
    "from selenium.webdriver.common.by import By\n",
    "from selenium.webdriver.support.ui import WebDriverWait\n",
    "from selenium.webdriver.support import expected_conditions as EC\n",
    "from selenium.common.exceptions import TimeoutException\n",
    "\n",
    "# Assuming you have imported the necessary modules and initialized your webdriver as 'driver'\n",
    "\n",
    "# Construct the XPath expression for the button with aria-label \"Page 3\"\n",
    "next_button_xpath = \"//button[@aria-label='Page 19']\"\n",
    "\n",
    "try:\n",
    "    # Wait for the button to become clickable\n",
    "    next_button = WebDriverWait(driver, 20).until(EC.element_to_be_clickable((By.XPATH, next_button_xpath)))\n",
    "    # Click the button to navigate to the next page\n",
    "    next_button.click()\n",
    "except TimeoutException:\n",
    "    print(\"Next button for page 3 not found. End of pages.\")"
   ]
  },
  {
   "cell_type": "code",
   "execution_count": null,
   "id": "b063d60f-6a85-4cda-a328-6490ff12791b",
   "metadata": {},
   "outputs": [],
   "source": []
  }
 ],
 "metadata": {
  "kernelspec": {
   "display_name": "Python 3 (ipykernel)",
   "language": "python",
   "name": "python3"
  },
  "language_info": {
   "codemirror_mode": {
    "name": "ipython",
    "version": 3
   },
   "file_extension": ".py",
   "mimetype": "text/x-python",
   "name": "python",
   "nbconvert_exporter": "python",
   "pygments_lexer": "ipython3",
   "version": "3.11.4"
  }
 },
 "nbformat": 4,
 "nbformat_minor": 5
}
