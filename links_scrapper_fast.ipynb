{
 "cells": [
  {
   "cell_type": "code",
   "execution_count": 9,
   "id": "0c4db7d0-70e9-4b93-8c74-174f71fccaa4",
   "metadata": {},
   "outputs": [],
   "source": [
    "from selenium import webdriver\n",
    "from selenium.webdriver.common.keys import Keys\n",
    "from selenium.webdriver.common.by import By\n",
    "import pandas as pd\n",
    "from bs4 import BeautifulSoup\n",
    "import time\n",
    "import datetime"
   ]
  },
  {
   "cell_type": "code",
   "execution_count": 10,
   "id": "d9d0a95a-4b1f-4bc4-b1bb-9ed3ba779596",
   "metadata": {},
   "outputs": [],
   "source": [
    "driver = webdriver.Chrome()"
   ]
  },
  {
   "cell_type": "code",
   "execution_count": 11,
   "id": "71dc1148-0341-46cf-bf24-bc4f3379379a",
   "metadata": {},
   "outputs": [],
   "source": [
    "driver.get('https://www.linkedin.com/login')\n",
    "email_input = driver.find_element(By.ID, 'username')\n",
    "password_input = driver.find_element(By.ID, 'password')\n",
    "email_input.send_keys('hammad173216@gmail.com')\n",
    "password_input.send_keys('@hammad40099257')\n",
    "password_input.send_keys(Keys.ENTER)"
   ]
  },
  {
   "cell_type": "code",
   "execution_count": 12,
   "id": "90894381-15f5-4b97-a26d-cf658472a643",
   "metadata": {},
   "outputs": [],
   "source": [
    "url='https://www.linkedin.com/jobs/search/?currentJobId=3703004786&geoId=101022442&location=Pakistan'"
   ]
  },
  {
   "cell_type": "code",
   "execution_count": 13,
   "id": "bee027fd-911b-498b-88e7-f8f7211fc3c4",
   "metadata": {},
   "outputs": [],
   "source": [
    "driver.get(url)"
   ]
  },
  {
   "cell_type": "code",
   "execution_count": 14,
   "id": "f5e60c8c-5bc5-4a24-ae7d-90e1238917cd",
   "metadata": {},
   "outputs": [],
   "source": [
    "def scrape_job_links(page):\n",
    "    soup = BeautifulSoup(driver.page_source, 'html.parser')\n",
    "    x=datetime.datetime.now().strftime(\"%d-%m-%Y--%I-%M-%p\")\n",
    "    with open(f'html_content__{x}__page{page}.txt', 'w',encoding='utf-8') as f:\n",
    "        f.write(soup.prettify())\n",
    "    job_postings = soup.find_all('li', {'class': 'jobs-search-results__list-item'})\n",
    "    if len(job_postings)!=0:\n",
    "        data = []\n",
    "        for job_posting in job_postings:\n",
    "            try:\n",
    "                job_title = job_posting.find('a', class_='job-card-list__title').get_text().strip()\n",
    "            except AttributeError:\n",
    "                job_title = None\n",
    "            try:\n",
    "                job_id = job_posting.get(\"data-occludable-job-id\")\n",
    "            except AttributeError:\n",
    "                job_id = None\n",
    "            try:\n",
    "                Job_link = job_posting.find('a', class_='job-card-list__title').get(\"href\")\n",
    "                Job_link= 'https://www.linkedin.com'+Job_link\n",
    "            except AttributeError:\n",
    "                Job_link = None\n",
    "                \n",
    "            data.append({\n",
    "                    'Job Title': job_title,\n",
    "                    'Job ID' :job_id,\n",
    "                    'Job Link':Job_link\n",
    "                    })\n",
    "        \n",
    "        df = pd.DataFrame(data)\n",
    "        return df\n",
    "    else:\n",
    "        return None\n"
   ]
  },
  {
   "cell_type": "code",
   "execution_count": 15,
   "id": "d55ad1be-2e7e-434f-8971-6dbba0612f94",
   "metadata": {},
   "outputs": [],
   "source": [
    "def save_scraper_note(starting_time,ending_time,total_jobs,total_pages):\n",
    "    x=datetime.datetime.now().strftime(\"%d-%m-%Y--%I-%M-%p\")\n",
    "    with open(f'notes/Scrapper_note__{x}.txt', 'w',encoding='utf-8') as f:\n",
    "        f.write(f'Starting Time:{starting_time}\\nEnding Time:{ending_time}\\nTotal Jobs:{total_jobs}\\nTotal Pages:{total_pages}')\n",
    "    "
   ]
  },
  {
   "cell_type": "code",
   "execution_count": 16,
   "id": "a4dd4e26-2ab2-41cd-9f22-32aca5d1029d",
   "metadata": {},
   "outputs": [
    {
     "name": "stdout",
     "output_type": "stream",
     "text": [
      "Next button for page 35 not found. End of pages.\n",
      "starting time of scrapper:01-12-2023--09-41-AM-21\n",
      "Ending time of scrapper:01-12-2023--09-49-AM-20\n",
      "Total Jobs Scrapped:780\n"
     ]
    }
   ],
   "source": [
    "from selenium.webdriver.common.by import By\n",
    "from selenium.webdriver.support.ui import WebDriverWait\n",
    "from selenium.webdriver.support import expected_conditions as EC\n",
    "from selenium.common.exceptions import TimeoutException\n",
    "\n",
    "# Assuming you have imported the necessary modules and initialized your webdriver as 'driver'\n",
    "current_page_number=1\n",
    "total_jobs=0\n",
    "starting_time=datetime.datetime.now().strftime(\"%d-%m-%Y--%I-%M-%p-%S\")\n",
    "total_pages=0\n",
    "while(True):\n",
    "    time.sleep(10)\n",
    "    data=scrape_job_links(current_page_number)\n",
    "    if data is not None:\n",
    "        x=datetime.datetime.now().strftime(\"%d-%m-%Y--%I-%M-%p\")\n",
    "        y=len(data['Job ID'].unique())\n",
    "        data.to_csv(f'linkedin_jobs_page-{current_page_number}__{x}__{y}.csv', index=False)\n",
    "        total_pages=current_page_number\n",
    "        total_jobs=total_jobs+y\n",
    "        \n",
    "    time.sleep(2)\n",
    "    current_page_number=current_page_number+1\n",
    "    next_button_xpath = f\"//button[@aria-label='Page {current_page_number}']\"\n",
    "    try:\n",
    "        next_button = WebDriverWait(driver, 20).until(EC.element_to_be_clickable((By.XPATH, next_button_xpath)))\n",
    "        next_button.click()\n",
    "    except TimeoutException:\n",
    "        print(f\"Next button for page {current_page_number} not found. End of pages.\")\n",
    "        break\n",
    "ending_time=datetime.datetime.now().strftime(\"%d-%m-%Y--%I-%M-%p-%S\")\n",
    "save_scraper_note(starting_time,ending_time,total_jobs,total_pages)\n",
    "print(f'starting time of scrapper:{starting_time}')\n",
    "print(f'Ending time of scrapper:{ending_time}')\n",
    "print(f'Total Jobs Scrapped:{total_jobs}')\n"
   ]
  },
  {
   "cell_type": "code",
   "execution_count": null,
   "id": "67bc8986-74aa-4bd5-9f4a-ba2915cf3e24",
   "metadata": {},
   "outputs": [],
   "source": []
  }
 ],
 "metadata": {
  "kernelspec": {
   "display_name": "Python 3 (ipykernel)",
   "language": "python",
   "name": "python3"
  },
  "language_info": {
   "codemirror_mode": {
    "name": "ipython",
    "version": 3
   },
   "file_extension": ".py",
   "mimetype": "text/x-python",
   "name": "python",
   "nbconvert_exporter": "python",
   "pygments_lexer": "ipython3",
   "version": "3.11.4"
  }
 },
 "nbformat": 4,
 "nbformat_minor": 5
}
